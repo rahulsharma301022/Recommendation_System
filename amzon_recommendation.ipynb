{
 "cells": [
  {
   "cell_type": "markdown",
   "id": "ccf5864e",
   "metadata": {},
   "source": [
    "# Import Libraries"
   ]
  },
  {
   "cell_type": "code",
   "execution_count": 1,
   "id": "f5c855c0",
   "metadata": {},
   "outputs": [],
   "source": [
    "import numpy as np\n",
    "import pandas as pd\n",
    "import matplotlib.pyplot as plt\n",
    "%matplotlib inline\n",
    "import seaborn as sns\n",
    "import warnings\n",
    "warnings.simplefilter('ignore')\n",
    "from datetime import timedelta"
   ]
  },
  {
   "cell_type": "markdown",
   "id": "d4735bff",
   "metadata": {},
   "source": [
    "# Load Dataset "
   ]
  },
  {
   "cell_type": "code",
   "execution_count": 2,
   "id": "734b161f",
   "metadata": {},
   "outputs": [],
   "source": [
    "df = pd.read_csv(r\"C:\\Users\\rahul\\Downloads\\ratings_Electronics (1).csv\\ratings_Electronics (1).csv\")"
   ]
  },
  {
   "cell_type": "code",
   "execution_count": 3,
   "id": "c890a6f1",
   "metadata": {},
   "outputs": [],
   "source": [
    "#dataframe columns and head of the dataset"
   ]
  },
  {
   "cell_type": "code",
   "execution_count": 4,
   "id": "ce50059a",
   "metadata": {},
   "outputs": [
    {
     "data": {
      "text/html": [
       "<div>\n",
       "<style scoped>\n",
       "    .dataframe tbody tr th:only-of-type {\n",
       "        vertical-align: middle;\n",
       "    }\n",
       "\n",
       "    .dataframe tbody tr th {\n",
       "        vertical-align: top;\n",
       "    }\n",
       "\n",
       "    .dataframe thead th {\n",
       "        text-align: right;\n",
       "    }\n",
       "</style>\n",
       "<table border=\"1\" class=\"dataframe\">\n",
       "  <thead>\n",
       "    <tr style=\"text-align: right;\">\n",
       "      <th></th>\n",
       "      <th>user_id</th>\n",
       "      <th>product_id</th>\n",
       "      <th>rating</th>\n",
       "      <th>timestamp</th>\n",
       "    </tr>\n",
       "  </thead>\n",
       "  <tbody>\n",
       "    <tr>\n",
       "      <th>0</th>\n",
       "      <td>A2CX7LUOHB2NDG</td>\n",
       "      <td>0321732944</td>\n",
       "      <td>5.0</td>\n",
       "      <td>1341100800</td>\n",
       "    </tr>\n",
       "    <tr>\n",
       "      <th>1</th>\n",
       "      <td>A2NWSAGRHCP8N5</td>\n",
       "      <td>0439886341</td>\n",
       "      <td>1.0</td>\n",
       "      <td>1367193600</td>\n",
       "    </tr>\n",
       "    <tr>\n",
       "      <th>2</th>\n",
       "      <td>A2WNBOD3WNDNKT</td>\n",
       "      <td>0439886341</td>\n",
       "      <td>3.0</td>\n",
       "      <td>1374451200</td>\n",
       "    </tr>\n",
       "    <tr>\n",
       "      <th>3</th>\n",
       "      <td>A1GI0U4ZRJA8WN</td>\n",
       "      <td>0439886341</td>\n",
       "      <td>1.0</td>\n",
       "      <td>1334707200</td>\n",
       "    </tr>\n",
       "    <tr>\n",
       "      <th>4</th>\n",
       "      <td>A1QGNMC6O1VW39</td>\n",
       "      <td>0511189877</td>\n",
       "      <td>5.0</td>\n",
       "      <td>1397433600</td>\n",
       "    </tr>\n",
       "  </tbody>\n",
       "</table>\n",
       "</div>"
      ],
      "text/plain": [
       "          user_id  product_id  rating   timestamp\n",
       "0  A2CX7LUOHB2NDG  0321732944     5.0  1341100800\n",
       "1  A2NWSAGRHCP8N5  0439886341     1.0  1367193600\n",
       "2  A2WNBOD3WNDNKT  0439886341     3.0  1374451200\n",
       "3  A1GI0U4ZRJA8WN  0439886341     1.0  1334707200\n",
       "4  A1QGNMC6O1VW39  0511189877     5.0  1397433600"
      ]
     },
     "execution_count": 4,
     "metadata": {},
     "output_type": "execute_result"
    }
   ],
   "source": [
    "df.columns = ['user_id','product_id','rating','timestamp']\n",
    "df.head()"
   ]
  },
  {
   "cell_type": "code",
   "execution_count": 5,
   "id": "3ebb1e30",
   "metadata": {},
   "outputs": [],
   "source": [
    "#tail of the dataset"
   ]
  },
  {
   "cell_type": "code",
   "execution_count": 6,
   "id": "7af9f149",
   "metadata": {},
   "outputs": [
    {
     "data": {
      "text/html": [
       "<div>\n",
       "<style scoped>\n",
       "    .dataframe tbody tr th:only-of-type {\n",
       "        vertical-align: middle;\n",
       "    }\n",
       "\n",
       "    .dataframe tbody tr th {\n",
       "        vertical-align: top;\n",
       "    }\n",
       "\n",
       "    .dataframe thead th {\n",
       "        text-align: right;\n",
       "    }\n",
       "</style>\n",
       "<table border=\"1\" class=\"dataframe\">\n",
       "  <thead>\n",
       "    <tr style=\"text-align: right;\">\n",
       "      <th></th>\n",
       "      <th>user_id</th>\n",
       "      <th>product_id</th>\n",
       "      <th>rating</th>\n",
       "      <th>timestamp</th>\n",
       "    </tr>\n",
       "  </thead>\n",
       "  <tbody>\n",
       "    <tr>\n",
       "      <th>7824476</th>\n",
       "      <td>A2YZI3C9MOHC0L</td>\n",
       "      <td>BT008UKTMW</td>\n",
       "      <td>5.0</td>\n",
       "      <td>1396569600</td>\n",
       "    </tr>\n",
       "    <tr>\n",
       "      <th>7824477</th>\n",
       "      <td>A322MDK0M89RHN</td>\n",
       "      <td>BT008UKTMW</td>\n",
       "      <td>5.0</td>\n",
       "      <td>1313366400</td>\n",
       "    </tr>\n",
       "    <tr>\n",
       "      <th>7824478</th>\n",
       "      <td>A1MH90R0ADMIK0</td>\n",
       "      <td>BT008UKTMW</td>\n",
       "      <td>4.0</td>\n",
       "      <td>1404172800</td>\n",
       "    </tr>\n",
       "    <tr>\n",
       "      <th>7824479</th>\n",
       "      <td>A10M2KEFPEQDHN</td>\n",
       "      <td>BT008UKTMW</td>\n",
       "      <td>4.0</td>\n",
       "      <td>1297555200</td>\n",
       "    </tr>\n",
       "    <tr>\n",
       "      <th>7824480</th>\n",
       "      <td>A2G81TMIOIDEQQ</td>\n",
       "      <td>BT008V9J9U</td>\n",
       "      <td>5.0</td>\n",
       "      <td>1312675200</td>\n",
       "    </tr>\n",
       "  </tbody>\n",
       "</table>\n",
       "</div>"
      ],
      "text/plain": [
       "                user_id  product_id  rating   timestamp\n",
       "7824476  A2YZI3C9MOHC0L  BT008UKTMW     5.0  1396569600\n",
       "7824477  A322MDK0M89RHN  BT008UKTMW     5.0  1313366400\n",
       "7824478  A1MH90R0ADMIK0  BT008UKTMW     4.0  1404172800\n",
       "7824479  A10M2KEFPEQDHN  BT008UKTMW     4.0  1297555200\n",
       "7824480  A2G81TMIOIDEQQ  BT008V9J9U     5.0  1312675200"
      ]
     },
     "execution_count": 6,
     "metadata": {},
     "output_type": "execute_result"
    }
   ],
   "source": [
    "df.tail()"
   ]
  },
  {
   "cell_type": "code",
   "execution_count": 7,
   "id": "4b45c73c",
   "metadata": {},
   "outputs": [],
   "source": [
    "#shape of the dataset"
   ]
  },
  {
   "cell_type": "code",
   "execution_count": 8,
   "id": "8ecb6899",
   "metadata": {},
   "outputs": [
    {
     "data": {
      "text/plain": [
       "(7824481, 4)"
      ]
     },
     "execution_count": 8,
     "metadata": {},
     "output_type": "execute_result"
    }
   ],
   "source": [
    "df.shape"
   ]
  },
  {
   "cell_type": "code",
   "execution_count": 9,
   "id": "97d3faa5",
   "metadata": {},
   "outputs": [
    {
     "name": "stdout",
     "output_type": "stream",
     "text": [
      "Total Reviews: 7824481\n",
      "Total Columns: 4\n"
     ]
    }
   ],
   "source": [
    "print(\"Total Reviews:\" ,df.shape[0])\n",
    "print(\"Total Columns:\" ,df.shape[1])"
   ]
  },
  {
   "cell_type": "code",
   "execution_count": 10,
   "id": "64c01807",
   "metadata": {},
   "outputs": [
    {
     "data": {
      "text/plain": [
       "Index(['user_id', 'product_id', 'rating', 'timestamp'], dtype='object')"
      ]
     },
     "execution_count": 10,
     "metadata": {},
     "output_type": "execute_result"
    }
   ],
   "source": [
    "df.columns"
   ]
  },
  {
   "cell_type": "code",
   "execution_count": 11,
   "id": "1b778f4a",
   "metadata": {},
   "outputs": [
    {
     "data": {
      "text/html": [
       "<div>\n",
       "<style scoped>\n",
       "    .dataframe tbody tr th:only-of-type {\n",
       "        vertical-align: middle;\n",
       "    }\n",
       "\n",
       "    .dataframe tbody tr th {\n",
       "        vertical-align: top;\n",
       "    }\n",
       "\n",
       "    .dataframe thead th {\n",
       "        text-align: right;\n",
       "    }\n",
       "</style>\n",
       "<table border=\"1\" class=\"dataframe\">\n",
       "  <thead>\n",
       "    <tr style=\"text-align: right;\">\n",
       "      <th></th>\n",
       "      <th>user_id</th>\n",
       "      <th>product_id</th>\n",
       "      <th>rating</th>\n",
       "      <th>timestamp</th>\n",
       "    </tr>\n",
       "  </thead>\n",
       "  <tbody>\n",
       "    <tr>\n",
       "      <th>0</th>\n",
       "      <td>A2CX7LUOHB2NDG</td>\n",
       "      <td>0321732944</td>\n",
       "      <td>5.0</td>\n",
       "      <td>1341100800</td>\n",
       "    </tr>\n",
       "    <tr>\n",
       "      <th>1</th>\n",
       "      <td>A2NWSAGRHCP8N5</td>\n",
       "      <td>0439886341</td>\n",
       "      <td>1.0</td>\n",
       "      <td>1367193600</td>\n",
       "    </tr>\n",
       "    <tr>\n",
       "      <th>2</th>\n",
       "      <td>A2WNBOD3WNDNKT</td>\n",
       "      <td>0439886341</td>\n",
       "      <td>3.0</td>\n",
       "      <td>1374451200</td>\n",
       "    </tr>\n",
       "    <tr>\n",
       "      <th>3</th>\n",
       "      <td>A1GI0U4ZRJA8WN</td>\n",
       "      <td>0439886341</td>\n",
       "      <td>1.0</td>\n",
       "      <td>1334707200</td>\n",
       "    </tr>\n",
       "    <tr>\n",
       "      <th>4</th>\n",
       "      <td>A1QGNMC6O1VW39</td>\n",
       "      <td>0511189877</td>\n",
       "      <td>5.0</td>\n",
       "      <td>1397433600</td>\n",
       "    </tr>\n",
       "  </tbody>\n",
       "</table>\n",
       "</div>"
      ],
      "text/plain": [
       "          user_id  product_id  rating   timestamp\n",
       "0  A2CX7LUOHB2NDG  0321732944     5.0  1341100800\n",
       "1  A2NWSAGRHCP8N5  0439886341     1.0  1367193600\n",
       "2  A2WNBOD3WNDNKT  0439886341     3.0  1374451200\n",
       "3  A1GI0U4ZRJA8WN  0439886341     1.0  1334707200\n",
       "4  A1QGNMC6O1VW39  0511189877     5.0  1397433600"
      ]
     },
     "execution_count": 11,
     "metadata": {},
     "output_type": "execute_result"
    }
   ],
   "source": [
    "df.head()"
   ]
  },
  {
   "cell_type": "code",
   "execution_count": 12,
   "id": "3d230b0f",
   "metadata": {},
   "outputs": [
    {
     "name": "stdout",
     "output_type": "stream",
     "text": [
      "<class 'pandas.core.frame.DataFrame'>\n",
      "RangeIndex: 7824481 entries, 0 to 7824480\n",
      "Data columns (total 4 columns):\n",
      " #   Column      Dtype  \n",
      "---  ------      -----  \n",
      " 0   user_id     object \n",
      " 1   product_id  object \n",
      " 2   rating      float64\n",
      " 3   timestamp   int64  \n",
      "dtypes: float64(1), int64(1), object(2)\n",
      "memory usage: 238.8+ MB\n"
     ]
    }
   ],
   "source": [
    "df.info()"
   ]
  },
  {
   "cell_type": "code",
   "execution_count": 13,
   "id": "dae0efde",
   "metadata": {},
   "outputs": [],
   "source": [
    "# filtered dataset only these dataset i have done EDA"
   ]
  },
  {
   "cell_type": "code",
   "execution_count": 14,
   "id": "aa863b40",
   "metadata": {},
   "outputs": [],
   "source": [
    "df = df.iloc[:1045875,0:]"
   ]
  },
  {
   "cell_type": "code",
   "execution_count": 15,
   "id": "56d59a4e",
   "metadata": {},
   "outputs": [],
   "source": [
    "#understand unique counts for the dataset"
   ]
  },
  {
   "cell_type": "code",
   "execution_count": 16,
   "id": "d1d2d7ed",
   "metadata": {},
   "outputs": [
    {
     "name": "stdout",
     "output_type": "stream",
     "text": [
      "Total Data\n",
      "**************************************************\n",
      "Total number of rating: 5\n",
      "Total number of users: 784539\n",
      "Total number of products: 61812\n"
     ]
    }
   ],
   "source": [
    "print('Total Data')\n",
    "print('*'*50)\n",
    "print(\"Total number of rating:\",df.rating.nunique())\n",
    "print(\"Total number of users:\",df.user_id.nunique())\n",
    "print(\"Total number of products:\",df.product_id.nunique())"
   ]
  },
  {
   "cell_type": "code",
   "execution_count": 17,
   "id": "b385521b",
   "metadata": {},
   "outputs": [
    {
     "name": "stdout",
     "output_type": "stream",
     "text": [
      "<class 'pandas.core.frame.DataFrame'>\n",
      "RangeIndex: 1045875 entries, 0 to 1045874\n",
      "Data columns (total 4 columns):\n",
      " #   Column      Non-Null Count    Dtype  \n",
      "---  ------      --------------    -----  \n",
      " 0   user_id     1045875 non-null  object \n",
      " 1   product_id  1045875 non-null  object \n",
      " 2   rating      1045875 non-null  float64\n",
      " 3   timestamp   1045875 non-null  int64  \n",
      "dtypes: float64(1), int64(1), object(2)\n",
      "memory usage: 31.9+ MB\n"
     ]
    }
   ],
   "source": [
    "df.info()"
   ]
  },
  {
   "cell_type": "code",
   "execution_count": 18,
   "id": "2849dbe3",
   "metadata": {},
   "outputs": [],
   "source": [
    "#check datatypes"
   ]
  },
  {
   "cell_type": "code",
   "execution_count": 19,
   "id": "96acf171",
   "metadata": {},
   "outputs": [
    {
     "data": {
      "text/plain": [
       "user_id        object\n",
       "product_id     object\n",
       "rating        float64\n",
       "timestamp       int64\n",
       "dtype: object"
      ]
     },
     "execution_count": 19,
     "metadata": {},
     "output_type": "execute_result"
    }
   ],
   "source": [
    "df.dtypes"
   ]
  },
  {
   "cell_type": "code",
   "execution_count": 20,
   "id": "82551832",
   "metadata": {},
   "outputs": [],
   "source": [
    "#check missing values"
   ]
  },
  {
   "cell_type": "code",
   "execution_count": 21,
   "id": "df43101a",
   "metadata": {},
   "outputs": [
    {
     "data": {
      "text/plain": [
       "user_id       0\n",
       "product_id    0\n",
       "rating        0\n",
       "timestamp     0\n",
       "dtype: int64"
      ]
     },
     "execution_count": 21,
     "metadata": {},
     "output_type": "execute_result"
    }
   ],
   "source": [
    "df.isnull().sum()"
   ]
  },
  {
   "cell_type": "code",
   "execution_count": 22,
   "id": "e69416e6",
   "metadata": {},
   "outputs": [],
   "source": [
    "# check Duplicate data"
   ]
  },
  {
   "cell_type": "code",
   "execution_count": 23,
   "id": "2cd346f0",
   "metadata": {},
   "outputs": [
    {
     "data": {
      "text/plain": [
       "user_id       False\n",
       "product_id    False\n",
       "rating        False\n",
       "timestamp     False\n",
       "dtype: bool"
      ]
     },
     "execution_count": 23,
     "metadata": {},
     "output_type": "execute_result"
    }
   ],
   "source": [
    "df[df.duplicated()].any()"
   ]
  },
  {
   "cell_type": "code",
   "execution_count": 24,
   "id": "4b6b846f",
   "metadata": {},
   "outputs": [],
   "source": [
    "# rating describe summary"
   ]
  },
  {
   "cell_type": "code",
   "execution_count": 25,
   "id": "38228a50",
   "metadata": {},
   "outputs": [
    {
     "data": {
      "text/plain": [
       "count    1.045875e+06\n",
       "mean     3.973182e+00\n",
       "std      1.399566e+00\n",
       "min      1.000000e+00\n",
       "25%      3.000000e+00\n",
       "50%      5.000000e+00\n",
       "75%      5.000000e+00\n",
       "max      5.000000e+00\n",
       "Name: rating, dtype: float64"
      ]
     },
     "execution_count": 25,
     "metadata": {},
     "output_type": "execute_result"
    }
   ],
   "source": [
    "df.describe()['rating'].transpose()"
   ]
  },
  {
   "cell_type": "code",
   "execution_count": 26,
   "id": "f82987fe",
   "metadata": {},
   "outputs": [],
   "source": [
    "#How many ratings per User ID do we have?"
   ]
  },
  {
   "cell_type": "code",
   "execution_count": 27,
   "id": "09f0fe83",
   "metadata": {},
   "outputs": [
    {
     "data": {
      "text/html": [
       "<div>\n",
       "<style scoped>\n",
       "    .dataframe tbody tr th:only-of-type {\n",
       "        vertical-align: middle;\n",
       "    }\n",
       "\n",
       "    .dataframe tbody tr th {\n",
       "        vertical-align: top;\n",
       "    }\n",
       "\n",
       "    .dataframe thead th {\n",
       "        text-align: right;\n",
       "    }\n",
       "</style>\n",
       "<table border=\"1\" class=\"dataframe\">\n",
       "  <thead>\n",
       "    <tr style=\"text-align: right;\">\n",
       "      <th></th>\n",
       "      <th>product_id</th>\n",
       "    </tr>\n",
       "    <tr>\n",
       "      <th>user_id</th>\n",
       "      <th></th>\n",
       "    </tr>\n",
       "  </thead>\n",
       "  <tbody>\n",
       "    <tr>\n",
       "      <th>A00037441I8XOQJSUWCAG</th>\n",
       "      <td>1</td>\n",
       "    </tr>\n",
       "    <tr>\n",
       "      <th>A00038802J7X43YTW44TD</th>\n",
       "      <td>2</td>\n",
       "    </tr>\n",
       "    <tr>\n",
       "      <th>A000428226SAAAIBK8I36</th>\n",
       "      <td>1</td>\n",
       "    </tr>\n",
       "    <tr>\n",
       "      <th>A0004478EF5NFPHLGCWG</th>\n",
       "      <td>1</td>\n",
       "    </tr>\n",
       "    <tr>\n",
       "      <th>A000681618A3WRMCK53V</th>\n",
       "      <td>1</td>\n",
       "    </tr>\n",
       "  </tbody>\n",
       "</table>\n",
       "</div>"
      ],
      "text/plain": [
       "                       product_id\n",
       "user_id                          \n",
       "A00037441I8XOQJSUWCAG           1\n",
       "A00038802J7X43YTW44TD           2\n",
       "A000428226SAAAIBK8I36           1\n",
       "A0004478EF5NFPHLGCWG            1\n",
       "A000681618A3WRMCK53V            1"
      ]
     },
     "execution_count": 27,
     "metadata": {},
     "output_type": "execute_result"
    }
   ],
   "source": [
    "df[['user_id','product_id']].groupby(['user_id']).count().head()"
   ]
  },
  {
   "cell_type": "code",
   "execution_count": 28,
   "id": "401fb4d9",
   "metadata": {},
   "outputs": [
    {
     "data": {
      "text/html": [
       "<div>\n",
       "<style scoped>\n",
       "    .dataframe tbody tr th:only-of-type {\n",
       "        vertical-align: middle;\n",
       "    }\n",
       "\n",
       "    .dataframe tbody tr th {\n",
       "        vertical-align: top;\n",
       "    }\n",
       "\n",
       "    .dataframe thead th {\n",
       "        text-align: right;\n",
       "    }\n",
       "</style>\n",
       "<table border=\"1\" class=\"dataframe\">\n",
       "  <thead>\n",
       "    <tr style=\"text-align: right;\">\n",
       "      <th></th>\n",
       "      <th>count</th>\n",
       "      <th>mean</th>\n",
       "      <th>std</th>\n",
       "      <th>min</th>\n",
       "      <th>25%</th>\n",
       "      <th>50%</th>\n",
       "      <th>75%</th>\n",
       "      <th>max</th>\n",
       "    </tr>\n",
       "  </thead>\n",
       "  <tbody>\n",
       "    <tr>\n",
       "      <th>product_id</th>\n",
       "      <td>784539.0</td>\n",
       "      <td>1.333108</td>\n",
       "      <td>1.384894</td>\n",
       "      <td>1.0</td>\n",
       "      <td>1.0</td>\n",
       "      <td>1.0</td>\n",
       "      <td>1.0</td>\n",
       "      <td>412.0</td>\n",
       "    </tr>\n",
       "  </tbody>\n",
       "</table>\n",
       "</div>"
      ],
      "text/plain": [
       "               count      mean       std  min  25%  50%  75%    max\n",
       "product_id  784539.0  1.333108  1.384894  1.0  1.0  1.0  1.0  412.0"
      ]
     },
     "execution_count": 28,
     "metadata": {},
     "output_type": "execute_result"
    }
   ],
   "source": [
    "df[['user_id','product_id']].groupby(['user_id']).count().describe().transpose()"
   ]
  },
  {
   "cell_type": "code",
   "execution_count": 29,
   "id": "22529dc1",
   "metadata": {},
   "outputs": [],
   "source": [
    "#How many user ratings per product id do we have"
   ]
  },
  {
   "cell_type": "code",
   "execution_count": 30,
   "id": "13c1ffb6",
   "metadata": {},
   "outputs": [
    {
     "data": {
      "text/html": [
       "<div>\n",
       "<style scoped>\n",
       "    .dataframe tbody tr th:only-of-type {\n",
       "        vertical-align: middle;\n",
       "    }\n",
       "\n",
       "    .dataframe tbody tr th {\n",
       "        vertical-align: top;\n",
       "    }\n",
       "\n",
       "    .dataframe thead th {\n",
       "        text-align: right;\n",
       "    }\n",
       "</style>\n",
       "<table border=\"1\" class=\"dataframe\">\n",
       "  <thead>\n",
       "    <tr style=\"text-align: right;\">\n",
       "      <th></th>\n",
       "      <th>user_id</th>\n",
       "    </tr>\n",
       "    <tr>\n",
       "      <th>product_id</th>\n",
       "      <th></th>\n",
       "    </tr>\n",
       "  </thead>\n",
       "  <tbody>\n",
       "    <tr>\n",
       "      <th>0321732944</th>\n",
       "      <td>1</td>\n",
       "    </tr>\n",
       "    <tr>\n",
       "      <th>0439886341</th>\n",
       "      <td>3</td>\n",
       "    </tr>\n",
       "    <tr>\n",
       "      <th>0511189877</th>\n",
       "      <td>6</td>\n",
       "    </tr>\n",
       "    <tr>\n",
       "      <th>0528881469</th>\n",
       "      <td>27</td>\n",
       "    </tr>\n",
       "    <tr>\n",
       "      <th>0558835155</th>\n",
       "      <td>1</td>\n",
       "    </tr>\n",
       "  </tbody>\n",
       "</table>\n",
       "</div>"
      ],
      "text/plain": [
       "            user_id\n",
       "product_id         \n",
       "0321732944        1\n",
       "0439886341        3\n",
       "0511189877        6\n",
       "0528881469       27\n",
       "0558835155        1"
      ]
     },
     "execution_count": 30,
     "metadata": {},
     "output_type": "execute_result"
    }
   ],
   "source": [
    "df[['user_id','product_id']].groupby(['product_id']).count().head()"
   ]
  },
  {
   "cell_type": "code",
   "execution_count": 31,
   "id": "4e3fe0c3",
   "metadata": {},
   "outputs": [
    {
     "data": {
      "text/html": [
       "<div>\n",
       "<style scoped>\n",
       "    .dataframe tbody tr th:only-of-type {\n",
       "        vertical-align: middle;\n",
       "    }\n",
       "\n",
       "    .dataframe tbody tr th {\n",
       "        vertical-align: top;\n",
       "    }\n",
       "\n",
       "    .dataframe thead th {\n",
       "        text-align: right;\n",
       "    }\n",
       "</style>\n",
       "<table border=\"1\" class=\"dataframe\">\n",
       "  <thead>\n",
       "    <tr style=\"text-align: right;\">\n",
       "      <th></th>\n",
       "      <th>count</th>\n",
       "      <th>mean</th>\n",
       "      <th>std</th>\n",
       "      <th>min</th>\n",
       "      <th>25%</th>\n",
       "      <th>50%</th>\n",
       "      <th>75%</th>\n",
       "      <th>max</th>\n",
       "    </tr>\n",
       "  </thead>\n",
       "  <tbody>\n",
       "    <tr>\n",
       "      <th>user_id</th>\n",
       "      <td>61812.0</td>\n",
       "      <td>16.920258</td>\n",
       "      <td>89.658349</td>\n",
       "      <td>1.0</td>\n",
       "      <td>1.0</td>\n",
       "      <td>3.0</td>\n",
       "      <td>9.0</td>\n",
       "      <td>9487.0</td>\n",
       "    </tr>\n",
       "  </tbody>\n",
       "</table>\n",
       "</div>"
      ],
      "text/plain": [
       "           count       mean        std  min  25%  50%  75%     max\n",
       "user_id  61812.0  16.920258  89.658349  1.0  1.0  3.0  9.0  9487.0"
      ]
     },
     "execution_count": 31,
     "metadata": {},
     "output_type": "execute_result"
    }
   ],
   "source": [
    "df[['user_id','product_id']].groupby(['product_id']).count().describe().transpose()"
   ]
  },
  {
   "cell_type": "code",
   "execution_count": 32,
   "id": "30af5ca2",
   "metadata": {},
   "outputs": [],
   "source": [
    "#unique value of rating"
   ]
  },
  {
   "cell_type": "code",
   "execution_count": 33,
   "id": "67ad9354",
   "metadata": {},
   "outputs": [
    {
     "name": "stdout",
     "output_type": "stream",
     "text": [
      "Unique value of rating: [5. 1. 3. 2. 4.]\n"
     ]
    }
   ],
   "source": [
    "print(\"Unique value of rating:\",df.rating.unique())"
   ]
  },
  {
   "cell_type": "code",
   "execution_count": 34,
   "id": "b923e9e1",
   "metadata": {},
   "outputs": [],
   "source": [
    "#find minimum and maximum rating"
   ]
  },
  {
   "cell_type": "code",
   "execution_count": 35,
   "id": "bd70d329",
   "metadata": {},
   "outputs": [
    {
     "name": "stdout",
     "output_type": "stream",
     "text": [
      "Minimum Rating is:1\n",
      "\n",
      "\n",
      "Maximum Rating is :5\n"
     ]
    }
   ],
   "source": [
    "print('Minimum Rating is:%d' %(df.rating.min()))\n",
    "print('\\n')\n",
    "print('Maximum Rating is :%d'%(df.rating.max()))"
   ]
  },
  {
   "cell_type": "markdown",
   "id": "4de52df8",
   "metadata": {},
   "source": [
    "# Exploratory Data Analysis"
   ]
  },
  {
   "cell_type": "code",
   "execution_count": 36,
   "id": "10feb04a",
   "metadata": {},
   "outputs": [],
   "source": [
    "# Avearage rating of Products"
   ]
  },
  {
   "cell_type": "code",
   "execution_count": 37,
   "id": "89490c0c",
   "metadata": {},
   "outputs": [
    {
     "data": {
      "text/html": [
       "<div>\n",
       "<style scoped>\n",
       "    .dataframe tbody tr th:only-of-type {\n",
       "        vertical-align: middle;\n",
       "    }\n",
       "\n",
       "    .dataframe tbody tr th {\n",
       "        vertical-align: top;\n",
       "    }\n",
       "\n",
       "    .dataframe thead th {\n",
       "        text-align: right;\n",
       "    }\n",
       "</style>\n",
       "<table border=\"1\" class=\"dataframe\">\n",
       "  <thead>\n",
       "    <tr style=\"text-align: right;\">\n",
       "      <th></th>\n",
       "      <th>rating</th>\n",
       "      <th>rating_count</th>\n",
       "      <th>rating_average</th>\n",
       "    </tr>\n",
       "    <tr>\n",
       "      <th>product_id</th>\n",
       "      <th></th>\n",
       "      <th></th>\n",
       "      <th></th>\n",
       "    </tr>\n",
       "  </thead>\n",
       "  <tbody>\n",
       "    <tr>\n",
       "      <th>0321732944</th>\n",
       "      <td>5.000000</td>\n",
       "      <td>1</td>\n",
       "      <td>5.000000</td>\n",
       "    </tr>\n",
       "    <tr>\n",
       "      <th>0439886341</th>\n",
       "      <td>1.666667</td>\n",
       "      <td>3</td>\n",
       "      <td>1.666667</td>\n",
       "    </tr>\n",
       "    <tr>\n",
       "      <th>0511189877</th>\n",
       "      <td>4.500000</td>\n",
       "      <td>6</td>\n",
       "      <td>4.500000</td>\n",
       "    </tr>\n",
       "    <tr>\n",
       "      <th>0528881469</th>\n",
       "      <td>2.851852</td>\n",
       "      <td>27</td>\n",
       "      <td>2.851852</td>\n",
       "    </tr>\n",
       "    <tr>\n",
       "      <th>0558835155</th>\n",
       "      <td>3.000000</td>\n",
       "      <td>1</td>\n",
       "      <td>3.000000</td>\n",
       "    </tr>\n",
       "  </tbody>\n",
       "</table>\n",
       "</div>"
      ],
      "text/plain": [
       "              rating  rating_count  rating_average\n",
       "product_id                                        \n",
       "0321732944  5.000000             1        5.000000\n",
       "0439886341  1.666667             3        1.666667\n",
       "0511189877  4.500000             6        4.500000\n",
       "0528881469  2.851852            27        2.851852\n",
       "0558835155  3.000000             1        3.000000"
      ]
     },
     "execution_count": 37,
     "metadata": {},
     "output_type": "execute_result"
    }
   ],
   "source": [
    "rating = pd.DataFrame(df.groupby('product_id')['rating'].mean())\n",
    "rating['rating_count'] = pd.DataFrame(df.groupby('product_id')['rating'].count())\n",
    "rating['rating_average'] = pd.DataFrame(df.groupby('product_id')['rating'].mean())\n",
    "rating.head()"
   ]
  },
  {
   "cell_type": "markdown",
   "id": "5da1782f",
   "metadata": {},
   "source": [
    "#### Rating vs User"
   ]
  },
  {
   "cell_type": "code",
   "execution_count": 38,
   "id": "d024dd7d",
   "metadata": {},
   "outputs": [],
   "source": [
    "ratings = df.groupby(\"rating\").agg({\"rating\":\"count\"})"
   ]
  },
  {
   "cell_type": "code",
   "execution_count": 39,
   "id": "6fd69077",
   "metadata": {},
   "outputs": [
    {
     "data": {
      "image/png": "[encoded data removed]",
      "text/plain": [
       "<Figure size 1080x360 with 2 Axes>"
      ]
     },
     "metadata": {
      "needs_background": "light"
     },
     "output_type": "display_data"
    }
   ],
   "source": [
    "figsize = (15,5)\n",
    "fig, (ax1,ax2) = plt.subplots(1,2,figsize=figsize)\n",
    "ratings.plot.pie(ax=ax1,y=\"rating\", legend=False, autopct='%1.f%%', startangle=90, fontsize=\"x-large\", \n",
    "                 labels=[\"1 Star\",\"2 Stars\",\"3 Stars\",\"4 Stars\",\"5 Stars\"],explode=[0.15,0.1,0.1,0.1,0.1])\n",
    "ax1.set_ylabel('')\n",
    "ratings.plot.bar(ax=ax2,  fontsize=\"large\")\n",
    "ax2.set(ylabel=\"Total number of ratings\")\n",
    "ax2.set(title=\"Distribution of Rating\")\n",
    "ax2.get_legend().remove()\n",
    "\n",
    "plt.show()"
   ]
  },
  {
   "cell_type": "code",
   "execution_count": 40,
   "id": "dc3ac46e",
   "metadata": {},
   "outputs": [],
   "source": [
    "rating_by_user = df.groupby(by='user_id')['rating'].count().sort_values(ascending=False)"
   ]
  },
  {
   "cell_type": "code",
   "execution_count": 41,
   "id": "243e8e5a",
   "metadata": {},
   "outputs": [
    {
     "data": {
      "image/png": "[encoded data removed]",
      "text/plain": [
       "<Figure size 1080x360 with 2 Axes>"
      ]
     },
     "metadata": {
      "needs_background": "light"
     },
     "output_type": "display_data"
    }
   ],
   "source": [
    "rating_hist,  bins  = np.histogram(rating_by_user, bins=[1,2,3,4,5,10,50,100,200,400,500])\n",
    "rating_hist2, bins2 = np.histogram(rating_by_user, bins=[1,2,3,10,100000])\n",
    "\n",
    "figsize = (15,5)\n",
    "fig, (ax1,ax2) = plt.subplots(1,2,figsize=figsize)\n",
    "\n",
    "pd.DataFrame({\"Numbers of User\":rating_hist,\"Total Rates\":bins[:-1]}).plot.bar(x=\"Total Rates\", ax=ax1)\n",
    "ax1.set(yscale=\"log\")\n",
    "ax1.set(ylabel=\"Total number of users rated product\", xlabel=\"Number of products rated by a user\")\n",
    "ax1.set(title=\"Distribution of Rating (Log Scale)\")\n",
    "ax1.get_legend().remove()\n",
    "[item.set_fontsize(\"xx-large\") for item in ax1.get_yticklabels()]\n",
    "\n",
    "pd.DataFrame({\"Numbers of User\":rating_hist2,\"Total Rates\":bins2[:-1]}).plot.pie(x=\"Total Rates\",y=\"Numbers of User\",\n",
    "              labels=[1,2,3,\">10 items\"], ax=ax2,legend=False, autopct='%1.1f%%', startangle=90, fontsize=\"x-large\")\n",
    "ax2.set_ylabel('')\n",
    "plt.tight_layout()\n",
    "plt.show()"
   ]
  },
  {
   "cell_type": "markdown",
   "id": "2bbf6190",
   "metadata": {},
   "source": [
    "Only 0.6% of users rated more than 10 products"
   ]
  },
  {
   "cell_type": "markdown",
   "id": "6f0da2e4",
   "metadata": {},
   "source": [
    "#### Rating vs Product"
   ]
  },
  {
   "cell_type": "code",
   "execution_count": 42,
   "id": "23bccc48",
   "metadata": {},
   "outputs": [
    {
     "data": {
      "text/html": [
       "<div>\n",
       "<style scoped>\n",
       "    .dataframe tbody tr th:only-of-type {\n",
       "        vertical-align: middle;\n",
       "    }\n",
       "\n",
       "    .dataframe tbody tr th {\n",
       "        vertical-align: top;\n",
       "    }\n",
       "\n",
       "    .dataframe thead th {\n",
       "        text-align: right;\n",
       "    }\n",
       "</style>\n",
       "<table border=\"1\" class=\"dataframe\">\n",
       "  <thead>\n",
       "    <tr style=\"text-align: right;\">\n",
       "      <th></th>\n",
       "      <th>product_id</th>\n",
       "      <th>rating</th>\n",
       "    </tr>\n",
       "  </thead>\n",
       "  <tbody>\n",
       "    <tr>\n",
       "      <th>0</th>\n",
       "      <td>B0002L5R78</td>\n",
       "      <td>9487</td>\n",
       "    </tr>\n",
       "    <tr>\n",
       "      <th>1</th>\n",
       "      <td>B0001FTVEK</td>\n",
       "      <td>5345</td>\n",
       "    </tr>\n",
       "    <tr>\n",
       "      <th>2</th>\n",
       "      <td>B000I68BD4</td>\n",
       "      <td>4903</td>\n",
       "    </tr>\n",
       "    <tr>\n",
       "      <th>3</th>\n",
       "      <td>B000BQ7GW8</td>\n",
       "      <td>4275</td>\n",
       "    </tr>\n",
       "    <tr>\n",
       "      <th>4</th>\n",
       "      <td>B00007E7JU</td>\n",
       "      <td>3523</td>\n",
       "    </tr>\n",
       "  </tbody>\n",
       "</table>\n",
       "</div>"
      ],
      "text/plain": [
       "   product_id  rating\n",
       "0  B0002L5R78    9487\n",
       "1  B0001FTVEK    5345\n",
       "2  B000I68BD4    4903\n",
       "3  B000BQ7GW8    4275\n",
       "4  B00007E7JU    3523"
      ]
     },
     "execution_count": 42,
     "metadata": {},
     "output_type": "execute_result"
    }
   ],
   "source": [
    "rating_by_product = df.groupby(\"product_id\")[\"rating\"].count().sort_values(ascending=False).reset_index()\n",
    "rating_by_product.head()"
   ]
  },
  {
   "cell_type": "code",
   "execution_count": 43,
   "id": "bb638584",
   "metadata": {},
   "outputs": [
    {
     "data": {
      "text/html": [
       "<div>\n",
       "<style scoped>\n",
       "    .dataframe tbody tr th:only-of-type {\n",
       "        vertical-align: middle;\n",
       "    }\n",
       "\n",
       "    .dataframe tbody tr th {\n",
       "        vertical-align: top;\n",
       "    }\n",
       "\n",
       "    .dataframe thead th {\n",
       "        text-align: right;\n",
       "    }\n",
       "</style>\n",
       "<table border=\"1\" class=\"dataframe\">\n",
       "  <thead>\n",
       "    <tr style=\"text-align: right;\">\n",
       "      <th></th>\n",
       "      <th>product_id</th>\n",
       "      <th>Number of Ratings</th>\n",
       "      <th>Average Rating</th>\n",
       "    </tr>\n",
       "  </thead>\n",
       "  <tbody>\n",
       "    <tr>\n",
       "      <th>0</th>\n",
       "      <td>0321732944</td>\n",
       "      <td>1</td>\n",
       "      <td>5.000000</td>\n",
       "    </tr>\n",
       "    <tr>\n",
       "      <th>1</th>\n",
       "      <td>0439886341</td>\n",
       "      <td>3</td>\n",
       "      <td>1.666667</td>\n",
       "    </tr>\n",
       "    <tr>\n",
       "      <th>2</th>\n",
       "      <td>0511189877</td>\n",
       "      <td>6</td>\n",
       "      <td>4.500000</td>\n",
       "    </tr>\n",
       "    <tr>\n",
       "      <th>3</th>\n",
       "      <td>0528881469</td>\n",
       "      <td>27</td>\n",
       "      <td>2.851852</td>\n",
       "    </tr>\n",
       "    <tr>\n",
       "      <th>4</th>\n",
       "      <td>0558835155</td>\n",
       "      <td>1</td>\n",
       "      <td>3.000000</td>\n",
       "    </tr>\n",
       "  </tbody>\n",
       "</table>\n",
       "</div>"
      ],
      "text/plain": [
       "   product_id  Number of Ratings  Average Rating\n",
       "0  0321732944                  1        5.000000\n",
       "1  0439886341                  3        1.666667\n",
       "2  0511189877                  6        4.500000\n",
       "3  0528881469                 27        2.851852\n",
       "4  0558835155                  1        3.000000"
      ]
     },
     "execution_count": 43,
     "metadata": {},
     "output_type": "execute_result"
    }
   ],
   "source": [
    "rating_by_product = df.groupby(\"product_id\").agg({\"user_id\":\"count\",\"rating\":\"mean\"}).rename(columns={\"user_id\":\"Number of Ratings\",\"rating\":\"Average Rating\"}).reset_index()\n",
    "rating_by_product.head()"
   ]
  },
  {
   "cell_type": "code",
   "execution_count": 44,
   "id": "5a590491",
   "metadata": {},
   "outputs": [
    {
     "name": "stdout",
     "output_type": "stream",
     "text": [
      "**Top 10 products by Number of Ratings**\n"
     ]
    },
    {
     "data": {
      "text/html": [
       "<div>\n",
       "<style scoped>\n",
       "    .dataframe tbody tr th:only-of-type {\n",
       "        vertical-align: middle;\n",
       "    }\n",
       "\n",
       "    .dataframe tbody tr th {\n",
       "        vertical-align: top;\n",
       "    }\n",
       "\n",
       "    .dataframe thead th {\n",
       "        text-align: right;\n",
       "    }\n",
       "</style>\n",
       "<table border=\"1\" class=\"dataframe\">\n",
       "  <thead>\n",
       "    <tr style=\"text-align: right;\">\n",
       "      <th></th>\n",
       "      <th>product_id</th>\n",
       "      <th>Number of Ratings</th>\n",
       "      <th>Average Rating</th>\n",
       "    </tr>\n",
       "  </thead>\n",
       "  <tbody>\n",
       "    <tr>\n",
       "      <th>0</th>\n",
       "      <td>B0002L5R78</td>\n",
       "      <td>9487</td>\n",
       "      <td>4.448614</td>\n",
       "    </tr>\n",
       "    <tr>\n",
       "      <th>1</th>\n",
       "      <td>B0001FTVEK</td>\n",
       "      <td>5345</td>\n",
       "      <td>4.007109</td>\n",
       "    </tr>\n",
       "    <tr>\n",
       "      <th>2</th>\n",
       "      <td>B000I68BD4</td>\n",
       "      <td>4903</td>\n",
       "      <td>3.501530</td>\n",
       "    </tr>\n",
       "    <tr>\n",
       "      <th>3</th>\n",
       "      <td>B000BQ7GW8</td>\n",
       "      <td>4275</td>\n",
       "      <td>4.553216</td>\n",
       "    </tr>\n",
       "    <tr>\n",
       "      <th>4</th>\n",
       "      <td>B00007E7JU</td>\n",
       "      <td>3523</td>\n",
       "      <td>4.565995</td>\n",
       "    </tr>\n",
       "    <tr>\n",
       "      <th>5</th>\n",
       "      <td>B000BKJZ9Q</td>\n",
       "      <td>3219</td>\n",
       "      <td>4.440509</td>\n",
       "    </tr>\n",
       "    <tr>\n",
       "      <th>6</th>\n",
       "      <td>B000B9RI14</td>\n",
       "      <td>2996</td>\n",
       "      <td>4.775701</td>\n",
       "    </tr>\n",
       "    <tr>\n",
       "      <th>7</th>\n",
       "      <td>B000A6PPOK</td>\n",
       "      <td>2828</td>\n",
       "      <td>3.950495</td>\n",
       "    </tr>\n",
       "    <tr>\n",
       "      <th>8</th>\n",
       "      <td>B00007M1TZ</td>\n",
       "      <td>2608</td>\n",
       "      <td>3.976610</td>\n",
       "    </tr>\n",
       "    <tr>\n",
       "      <th>9</th>\n",
       "      <td>B00004ZCJE</td>\n",
       "      <td>2547</td>\n",
       "      <td>4.123675</td>\n",
       "    </tr>\n",
       "  </tbody>\n",
       "</table>\n",
       "</div>"
      ],
      "text/plain": [
       "   product_id  Number of Ratings  Average Rating\n",
       "0  B0002L5R78               9487        4.448614\n",
       "1  B0001FTVEK               5345        4.007109\n",
       "2  B000I68BD4               4903        3.501530\n",
       "3  B000BQ7GW8               4275        4.553216\n",
       "4  B00007E7JU               3523        4.565995\n",
       "5  B000BKJZ9Q               3219        4.440509\n",
       "6  B000B9RI14               2996        4.775701\n",
       "7  B000A6PPOK               2828        3.950495\n",
       "8  B00007M1TZ               2608        3.976610\n",
       "9  B00004ZCJE               2547        4.123675"
      ]
     },
     "execution_count": 44,
     "metadata": {},
     "output_type": "execute_result"
    }
   ],
   "source": [
    "print(\"**Top 10 products by Number of Ratings**\")\n",
    "rating_by_product.sort_values(by=\"Number of Ratings\",ascending=False ).reset_index(drop=True).head(10)"
   ]
  },
  {
   "cell_type": "code",
   "execution_count": 45,
   "id": "61d72e4f",
   "metadata": {},
   "outputs": [
    {
     "data": {
      "text/plain": [
       "<AxesSubplot:xlabel='product_id'>"
      ]
     },
     "execution_count": 45,
     "metadata": {},
     "output_type": "execute_result"
    },
    {
     "data": {
      "image/png": "[encoded data removed]",
      "text/plain": [
       "<Figure size 864x288 with 1 Axes>"
      ]
     },
     "metadata": {
      "needs_background": "light"
     },
     "output_type": "display_data"
    }
   ],
   "source": [
    "popular_products = pd.DataFrame(df.groupby('product_id')['rating'].count())\n",
    "most_popular = popular_products.sort_values('rating', ascending=False)\n",
    "most_popular.head(30).plot(kind = \"bar\",figsize=(12, 4))"
   ]
  },
  {
   "cell_type": "code",
   "execution_count": 46,
   "id": "2b26f349",
   "metadata": {},
   "outputs": [
    {
     "data": {
      "image/png": "[encoded data removed]",
      "text/plain": [
       "<Figure size 1080x360 with 2 Axes>"
      ]
     },
     "metadata": {
      "needs_background": "light"
     },
     "output_type": "display_data"
    }
   ],
   "source": [
    "rating_hist,  bins  = np.histogram(rating_by_product[\"Number of Ratings\"], bins=[1,2,5,10,50,100,200,500,1000,5000,10000])\n",
    "rating_hist2, bins2 = np.histogram(rating_by_product[\"Number of Ratings\"], bins=[1,2,10,50,100000])\n",
    "\n",
    "figsize = (15,5)\n",
    "fig, (ax1,ax2) = plt.subplots(1,2,figsize=figsize)\n",
    "\n",
    "pd.DataFrame({\"Numbers of Products\":rating_hist,\"Total Rates\":bins[:-1]}).plot.bar(x=\"Total Rates\", ax=ax1)\n",
    "ax1.set(yscale=\"log\")\n",
    "ax1.set(ylabel=\"Total number of products\", xlabel=\"Number of rating per product\")\n",
    "ax1.set(title=\"Distribution of Rating (Log Scale)\")\n",
    "ax1.get_legend().remove()\n",
    "[item.set_fontsize(\"xx-large\") for item in ax1.get_yticklabels()]\n",
    "\n",
    "pd.DataFrame({\"Numbers of User\":rating_hist2,\"Total Rates\":bins2[:-1]}).plot.pie(x=\"Total Rates\",y=\"Numbers of User\",\n",
    "              labels=[1,2,10,\">50 ratings\"], ax=ax2,legend=False, autopct='%1.1f%%', startangle=90, fontsize=\"x-large\")\n",
    "ax2.set_ylabel('')\n",
    "\n",
    "plt.show()"
   ]
  },
  {
   "cell_type": "markdown",
   "id": "1c20c2d1",
   "metadata": {},
   "source": [
    "Only 6.2% of products rated by more than 50 people"
   ]
  },
  {
   "cell_type": "markdown",
   "id": "55f68efc",
   "metadata": {},
   "source": [
    "#### Products by Average Rating"
   ]
  },
  {
   "cell_type": "code",
   "execution_count": 47,
   "id": "5291a113",
   "metadata": {},
   "outputs": [],
   "source": [
    "# Define Cutoff is the value where the products is counted when its number of ratings is greater than.\n",
    "# product with less than cutoff number of ratings will be neglected\n",
    "\n",
    "cutoff = 50\n",
    "top_rated = rating_by_product.loc[rating_by_product[\"Number of Ratings\"]>cutoff].sort_values(\n",
    "                                by=\"Average Rating\",ascending=False).reset_index(drop=True)"
   ]
  },
  {
   "cell_type": "code",
   "execution_count": 48,
   "id": "09eb220c",
   "metadata": {},
   "outputs": [
    {
     "name": "stdout",
     "output_type": "stream",
     "text": [
      "**Top 5 Products have the highest Ratings**\n"
     ]
    },
    {
     "data": {
      "text/html": [
       "<div>\n",
       "<style scoped>\n",
       "    .dataframe tbody tr th:only-of-type {\n",
       "        vertical-align: middle;\n",
       "    }\n",
       "\n",
       "    .dataframe tbody tr th {\n",
       "        vertical-align: top;\n",
       "    }\n",
       "\n",
       "    .dataframe thead th {\n",
       "        text-align: right;\n",
       "    }\n",
       "</style>\n",
       "<table border=\"1\" class=\"dataframe\">\n",
       "  <thead>\n",
       "    <tr style=\"text-align: right;\">\n",
       "      <th></th>\n",
       "      <th>product_id</th>\n",
       "      <th>Number of Ratings</th>\n",
       "      <th>Average Rating</th>\n",
       "    </tr>\n",
       "  </thead>\n",
       "  <tbody>\n",
       "    <tr>\n",
       "      <th>0</th>\n",
       "      <td>B0000DYV9H</td>\n",
       "      <td>76</td>\n",
       "      <td>4.947368</td>\n",
       "    </tr>\n",
       "    <tr>\n",
       "      <th>1</th>\n",
       "      <td>B000053HC5</td>\n",
       "      <td>166</td>\n",
       "      <td>4.945783</td>\n",
       "    </tr>\n",
       "    <tr>\n",
       "      <th>2</th>\n",
       "      <td>B00009R96C</td>\n",
       "      <td>105</td>\n",
       "      <td>4.885714</td>\n",
       "    </tr>\n",
       "    <tr>\n",
       "      <th>3</th>\n",
       "      <td>B00005LE76</td>\n",
       "      <td>58</td>\n",
       "      <td>4.879310</td>\n",
       "    </tr>\n",
       "    <tr>\n",
       "      <th>4</th>\n",
       "      <td>B000I1X3W8</td>\n",
       "      <td>253</td>\n",
       "      <td>4.869565</td>\n",
       "    </tr>\n",
       "  </tbody>\n",
       "</table>\n",
       "</div>"
      ],
      "text/plain": [
       "   product_id  Number of Ratings  Average Rating\n",
       "0  B0000DYV9H                 76        4.947368\n",
       "1  B000053HC5                166        4.945783\n",
       "2  B00009R96C                105        4.885714\n",
       "3  B00005LE76                 58        4.879310\n",
       "4  B000I1X3W8                253        4.869565"
      ]
     },
     "execution_count": 48,
     "metadata": {},
     "output_type": "execute_result"
    }
   ],
   "source": [
    "print(\"**Top 5 Products have the highest Ratings**\")\n",
    "top_rated.head(5)"
   ]
  },
  {
   "cell_type": "code",
   "execution_count": 49,
   "id": "d84952f7",
   "metadata": {},
   "outputs": [
    {
     "name": "stdout",
     "output_type": "stream",
     "text": [
      "**With cutoff = 50 we have only 3,732 products.**\n"
     ]
    },
    {
     "data": {
      "text/html": [
       "<div>\n",
       "<style scoped>\n",
       "    .dataframe tbody tr th:only-of-type {\n",
       "        vertical-align: middle;\n",
       "    }\n",
       "\n",
       "    .dataframe tbody tr th {\n",
       "        vertical-align: top;\n",
       "    }\n",
       "\n",
       "    .dataframe thead th {\n",
       "        text-align: right;\n",
       "    }\n",
       "</style>\n",
       "<table border=\"1\" class=\"dataframe\">\n",
       "  <thead>\n",
       "    <tr style=\"text-align: right;\">\n",
       "      <th></th>\n",
       "      <th>count</th>\n",
       "      <th>mean</th>\n",
       "      <th>std</th>\n",
       "      <th>min</th>\n",
       "      <th>25%</th>\n",
       "      <th>50%</th>\n",
       "      <th>75%</th>\n",
       "      <th>max</th>\n",
       "    </tr>\n",
       "  </thead>\n",
       "  <tbody>\n",
       "    <tr>\n",
       "      <th>Number of Ratings</th>\n",
       "      <td>3732.0</td>\n",
       "      <td>180.114148</td>\n",
       "      <td>321.878740</td>\n",
       "      <td>51.000000</td>\n",
       "      <td>66.000000</td>\n",
       "      <td>96.000</td>\n",
       "      <td>170.000000</td>\n",
       "      <td>9487.000000</td>\n",
       "    </tr>\n",
       "    <tr>\n",
       "      <th>Average Rating</th>\n",
       "      <td>3732.0</td>\n",
       "      <td>3.970647</td>\n",
       "      <td>0.557793</td>\n",
       "      <td>1.203704</td>\n",
       "      <td>3.666667</td>\n",
       "      <td>4.075</td>\n",
       "      <td>4.397038</td>\n",
       "      <td>4.947368</td>\n",
       "    </tr>\n",
       "  </tbody>\n",
       "</table>\n",
       "</div>"
      ],
      "text/plain": [
       "                    count        mean         std        min        25%  \\\n",
       "Number of Ratings  3732.0  180.114148  321.878740  51.000000  66.000000   \n",
       "Average Rating     3732.0    3.970647    0.557793   1.203704   3.666667   \n",
       "\n",
       "                      50%         75%          max  \n",
       "Number of Ratings  96.000  170.000000  9487.000000  \n",
       "Average Rating      4.075    4.397038     4.947368  "
      ]
     },
     "execution_count": 49,
     "metadata": {},
     "output_type": "execute_result"
    }
   ],
   "source": [
    "print(\"**With cutoff = {} we have only {:,} products.**\".format(cutoff,top_rated.shape[0] ))\n",
    "top_rated.describe().transpose()"
   ]
  },
  {
   "cell_type": "code",
   "execution_count": 50,
   "id": "38ff5d9b",
   "metadata": {},
   "outputs": [
    {
     "data": {
      "image/png": "[encoded data removed]",
      "text/plain": [
       "<Figure size 936x360 with 2 Axes>"
      ]
     },
     "metadata": {
      "needs_background": "light"
     },
     "output_type": "display_data"
    }
   ],
   "source": [
    "figsize = (13,5)\n",
    "fig, (ax1,ax2) = plt.subplots(1,2,figsize=figsize)\n",
    "\n",
    "sns.histplot(data=top_rated[\"Average Rating\"], bins=50, ax=ax1)\n",
    "ax1.set(title=\"Distribution of Average Ratings\", ylabel=\"Number of products\")\n",
    "\n",
    "sns.histplot(data=top_rated[\"Number of Ratings\"], bins=50, ax=ax2)\n",
    "ax2.set(title=\"Distribution of Number of Ratings (Log Scale)\")\n",
    "ax2.set(yscale=\"log\", ylabel=\"Number of products\")\n",
    "plt.show();"
   ]
  },
  {
   "cell_type": "code",
   "execution_count": 51,
   "id": "d12ffc20",
   "metadata": {},
   "outputs": [
    {
     "name": "stdout",
     "output_type": "stream",
     "text": [
      "**Joint Graph**\n"
     ]
    },
    {
     "data": {
      "image/png": "[encoded data removed]",
      "text/plain": [
       "<Figure size 432x432 with 3 Axes>"
      ]
     },
     "metadata": {
      "needs_background": "light"
     },
     "output_type": "display_data"
    }
   ],
   "source": [
    "print(\"**Joint Graph**\")\n",
    "sns.jointplot(x='Average Rating', y='Number of Ratings', data=top_rated);"
   ]
  },
  {
   "cell_type": "code",
   "execution_count": 52,
   "id": "0ba41ebe",
   "metadata": {},
   "outputs": [],
   "source": [
    "# Number of rating each day"
   ]
  },
  {
   "cell_type": "code",
   "execution_count": 53,
   "id": "c885f7b6",
   "metadata": {},
   "outputs": [
    {
     "name": "stdout",
     "output_type": "stream",
     "text": [
      "**Number of Ratings each day:**\n"
     ]
    },
    {
     "data": {
      "text/html": [
       "<div>\n",
       "<style scoped>\n",
       "    .dataframe tbody tr th:only-of-type {\n",
       "        vertical-align: middle;\n",
       "    }\n",
       "\n",
       "    .dataframe tbody tr th {\n",
       "        vertical-align: top;\n",
       "    }\n",
       "\n",
       "    .dataframe thead th {\n",
       "        text-align: right;\n",
       "    }\n",
       "</style>\n",
       "<table border=\"1\" class=\"dataframe\">\n",
       "  <thead>\n",
       "    <tr style=\"text-align: right;\">\n",
       "      <th></th>\n",
       "      <th>timestamp</th>\n",
       "      <th>rating</th>\n",
       "    </tr>\n",
       "  </thead>\n",
       "  <tbody>\n",
       "    <tr>\n",
       "      <th>0</th>\n",
       "      <td>2014-07-14</td>\n",
       "      <td>304</td>\n",
       "    </tr>\n",
       "    <tr>\n",
       "      <th>1</th>\n",
       "      <td>2014-07-15</td>\n",
       "      <td>222</td>\n",
       "    </tr>\n",
       "    <tr>\n",
       "      <th>2</th>\n",
       "      <td>2014-07-16</td>\n",
       "      <td>208</td>\n",
       "    </tr>\n",
       "    <tr>\n",
       "      <th>3</th>\n",
       "      <td>2014-07-17</td>\n",
       "      <td>75</td>\n",
       "    </tr>\n",
       "    <tr>\n",
       "      <th>4</th>\n",
       "      <td>2014-07-18</td>\n",
       "      <td>90</td>\n",
       "    </tr>\n",
       "    <tr>\n",
       "      <th>5</th>\n",
       "      <td>2014-07-19</td>\n",
       "      <td>73</td>\n",
       "    </tr>\n",
       "    <tr>\n",
       "      <th>6</th>\n",
       "      <td>2014-07-20</td>\n",
       "      <td>76</td>\n",
       "    </tr>\n",
       "    <tr>\n",
       "      <th>7</th>\n",
       "      <td>2014-07-21</td>\n",
       "      <td>103</td>\n",
       "    </tr>\n",
       "    <tr>\n",
       "      <th>8</th>\n",
       "      <td>2014-07-22</td>\n",
       "      <td>96</td>\n",
       "    </tr>\n",
       "    <tr>\n",
       "      <th>9</th>\n",
       "      <td>2014-07-23</td>\n",
       "      <td>11</td>\n",
       "    </tr>\n",
       "  </tbody>\n",
       "</table>\n",
       "</div>"
      ],
      "text/plain": [
       "   timestamp  rating\n",
       "0 2014-07-14     304\n",
       "1 2014-07-15     222\n",
       "2 2014-07-16     208\n",
       "3 2014-07-17      75\n",
       "4 2014-07-18      90\n",
       "5 2014-07-19      73\n",
       "6 2014-07-20      76\n",
       "7 2014-07-21     103\n",
       "8 2014-07-22      96\n",
       "9 2014-07-23      11"
      ]
     },
     "execution_count": 53,
     "metadata": {},
     "output_type": "execute_result"
    }
   ],
   "source": [
    "data_by_date = df.copy()\n",
    "data_by_date.timestamp = pd.to_datetime(df.timestamp, unit=\"s\")#.dt.date\n",
    "data_by_date = data_by_date.sort_values(by=\"timestamp\", ascending=False).reset_index(drop=True)\n",
    "print(\"**Number of Ratings each day:**\")\n",
    "data_by_date.groupby(\"timestamp\")[\"rating\"].count().tail(10).reset_index()"
   ]
  },
  {
   "cell_type": "code",
   "execution_count": 54,
   "id": "4a718023",
   "metadata": {},
   "outputs": [],
   "source": [
    "#number of rating over years"
   ]
  },
  {
   "cell_type": "code",
   "execution_count": 55,
   "id": "00c522dc",
   "metadata": {},
   "outputs": [
    {
     "data": {
      "image/png": "[encoded data removed]",
      "text/plain": [
       "<Figure size 432x288 with 1 Axes>"
      ]
     },
     "metadata": {
      "needs_background": "light"
     },
     "output_type": "display_data"
    }
   ],
   "source": [
    "data_by_date[\"year\"]  = data_by_date.timestamp.dt.year\n",
    "data_by_date[\"month\"] = data_by_date.timestamp.dt.month\n",
    "rating_by_year = data_by_date.groupby([\"year\",\"month\"])[\"rating\"].count().reset_index()\n",
    "rating_by_year[\"date\"] = pd.to_datetime(rating_by_year[\"year\"].astype(\"str\")  +\"-\"+rating_by_year[\"month\"].astype(\"str\") +\"-1\")\n",
    "rating_by_year.plot(x=\"date\", y=\"rating\")\n",
    "plt.title(\"Number of Rating over years\")\n",
    "plt.show()"
   ]
  },
  {
   "cell_type": "markdown",
   "id": "30065013",
   "metadata": {},
   "source": [
    "# Recently Polular Items"
   ]
  },
  {
   "cell_type": "markdown",
   "id": "5c0d662a",
   "metadata": {},
   "source": [
    "Top products rated during period of 30 days"
   ]
  },
  {
   "cell_type": "code",
   "execution_count": 56,
   "id": "a4bc9b94",
   "metadata": {},
   "outputs": [],
   "source": [
    "begin_date     = data_by_date.timestamp[0] - timedelta(days=30)\n",
    "data_by_date30 = data_by_date.loc[ data_by_date.timestamp > begin_date  ]\n",
    "products_30days= data_by_date30.groupby([\"product_id\"]).agg({\"rating\":[\"mean\",\"count\"]}).droplevel(axis=1,level=0).reset_index()"
   ]
  },
  {
   "cell_type": "code",
   "execution_count": 57,
   "id": "e684d84a",
   "metadata": {},
   "outputs": [],
   "source": [
    "#List of top products by number of rating"
   ]
  },
  {
   "cell_type": "code",
   "execution_count": 58,
   "id": "05c80cdc",
   "metadata": {},
   "outputs": [
    {
     "name": "stdout",
     "output_type": "stream",
     "text": [
      "List of top products by number of rating\n"
     ]
    },
    {
     "data": {
      "image/png": "[encoded data removed]",
      "text/plain": [
       "<Figure size 936x360 with 2 Axes>"
      ]
     },
     "metadata": {
      "needs_background": "light"
     },
     "output_type": "display_data"
    }
   ],
   "source": [
    "top_rated = products_30days.sort_values(by=\"count\", ascending=False).head(40)\n",
    "\n",
    "print('List of top products by number of rating')\n",
    "figsize = (13,5)\n",
    "fig0, ax1 = plt.subplots(figsize=figsize)\n",
    "ax2 = ax1.twinx()\n",
    "top_rated.plot(kind = \"bar\",x=\"product_id\", y=\"count\", \n",
    "                        ax=ax1,align='edge', color=\"tab:red\", width=-0.3, legend=False)\n",
    "top_rated.plot(kind = \"bar\",x=\"product_id\", y=\"mean\", \n",
    "                        ax=ax2, align='edge',color=\"tab:blue\", width=0.3, legend=False)\n",
    "############# Style Set up ###############\n",
    "ax1.set_ylabel('Number of Ratings', color=\"tab:red\", fontsize=20)\n",
    "ax1.tick_params(axis='y', labelcolor=\"tab:red\")\n",
    "ax2.set_ylabel('Average Rating', color=\"tab:blue\", fontsize=20)\n",
    "ax2.tick_params(axis='y', labelcolor=\"tab:blue\")\n",
    "\n",
    "plt.tight_layout()\n",
    "plt.show()"
   ]
  },
  {
   "cell_type": "code",
   "execution_count": 59,
   "id": "1c6bc49d",
   "metadata": {},
   "outputs": [],
   "source": [
    "#List of top products by Average Rating"
   ]
  },
  {
   "cell_type": "code",
   "execution_count": 60,
   "id": "d4fb3faa",
   "metadata": {},
   "outputs": [
    {
     "name": "stdout",
     "output_type": "stream",
     "text": [
      "List of top products by Average Rating\n"
     ]
    },
    {
     "data": {
      "image/png": "[encoded data removed]",
      "text/plain": [
       "<Figure size 936x360 with 2 Axes>"
      ]
     },
     "metadata": {
      "needs_background": "light"
     },
     "output_type": "display_data"
    }
   ],
   "source": [
    "top_rated = products_30days.loc[products_30days[\"count\"] > 50].sort_values(by=\"mean\", ascending=False).head(40)\n",
    "\n",
    "print('List of top products by Average Rating')\n",
    "figsize = (13,5)\n",
    "fig0, ax1 = plt.subplots(figsize=figsize)\n",
    "ax2 = ax1.twinx()\n",
    "top_rated.plot(kind = \"bar\",x=\"product_id\", y=\"count\", \n",
    "                        ax=ax1,align='edge', color=\"tab:red\", width=-0.3, legend=False)\n",
    "top_rated.plot(kind = \"bar\",x=\"product_id\", y=\"mean\", \n",
    "                        ax=ax2, align='edge',color=\"tab:blue\", width=0.3, legend=False)\n",
    "############# Style Set up ###############\n",
    "ax1.set_ylabel('Number of Ratings', color=\"tab:red\", fontsize=20)\n",
    "ax1.tick_params(axis='y', labelcolor=\"tab:red\")\n",
    "ax2.set_ylabel('Average Rating', color=\"tab:blue\", fontsize=20)  \n",
    "ax2.tick_params(axis='y', labelcolor=\"tab:blue\")\n",
    "\n",
    "plt.tight_layout()\n",
    "plt.show()"
   ]
  },
  {
   "cell_type": "code",
   "execution_count": 61,
   "id": "13a916ba",
   "metadata": {},
   "outputs": [],
   "source": [
    "import klib"
   ]
  },
  {
   "cell_type": "code",
   "execution_count": 62,
   "id": "329bc249",
   "metadata": {},
   "outputs": [
    {
     "data": {
      "text/plain": [
       "GridSpec(6, 2)"
      ]
     },
     "execution_count": 62,
     "metadata": {},
     "output_type": "execute_result"
    },
    {
     "data": {
      "image/png": "[encoded data removed]",
      "text/plain": [
       "<Figure size 1296x1296 with 5 Axes>"
      ]
     },
     "metadata": {
      "needs_background": "light"
     },
     "output_type": "display_data"
    }
   ],
   "source": [
    "klib.cat_plot(df)"
   ]
  },
  {
   "cell_type": "code",
   "execution_count": 63,
   "id": "e127d1fd",
   "metadata": {},
   "outputs": [
    {
     "name": "stdout",
     "output_type": "stream",
     "text": [
      "Large dataset detected, using 10000 random samples for the plots. Summary statistics are still based on the entire dataset.\n"
     ]
    },
    {
     "data": {
      "text/plain": [
       "<AxesSubplot:xlabel='timestamp', ylabel='Density'>"
      ]
     },
     "execution_count": 63,
     "metadata": {},
     "output_type": "execute_result"
    },
    {
     "data": {
      "image/png": "[encoded data removed]",
      "text/plain": [
       "<Figure size 1080x216 with 1 Axes>"
      ]
     },
     "metadata": {
      "needs_background": "light"
     },
     "output_type": "display_data"
    },
    {
     "data": {
      "image/png": "[encoded data removed]",
      "text/plain": [
       "<Figure size 1080x216 with 1 Axes>"
      ]
     },
     "metadata": {
      "needs_background": "light"
     },
     "output_type": "display_data"
    }
   ],
   "source": [
    "klib.dist_plot(df)"
   ]
  },
  {
   "cell_type": "code",
   "execution_count": 64,
   "id": "4350e1ad",
   "metadata": {},
   "outputs": [
    {
     "name": "stdout",
     "output_type": "stream",
     "text": [
      "No missing values found in the dataset.\n"
     ]
    }
   ],
   "source": [
    "klib.missingval_plot(df)"
   ]
  },
  {
   "cell_type": "code",
   "execution_count": 65,
   "id": "8b68facc",
   "metadata": {
    "scrolled": false
   },
   "outputs": [
    {
     "name": "stdout",
     "output_type": "stream",
     "text": [
      "Shape of cleaned data: (1045875, 4) - Remaining NAs: 0\n",
      "\n",
      "\n",
      "Dropped rows: 0\n",
      "     of which 0 duplicates. (Rows (first 150 shown): [])\n",
      "\n",
      "Dropped columns: 0\n",
      "     of which 0 single valued.     Columns: []\n",
      "Dropped missing values: 0\n",
      "Reduced memory by at least: 7.98 MB (-25.0%)\n",
      "\n"
     ]
    },
    {
     "data": {
      "text/html": [
       "<div>\n",
       "<style scoped>\n",
       "    .dataframe tbody tr th:only-of-type {\n",
       "        vertical-align: middle;\n",
       "    }\n",
       "\n",
       "    .dataframe tbody tr th {\n",
       "        vertical-align: top;\n",
       "    }\n",
       "\n",
       "    .dataframe thead th {\n",
       "        text-align: right;\n",
       "    }\n",
       "</style>\n",
       "<table border=\"1\" class=\"dataframe\">\n",
       "  <thead>\n",
       "    <tr style=\"text-align: right;\">\n",
       "      <th></th>\n",
       "      <th>user_id</th>\n",
       "      <th>product_id</th>\n",
       "      <th>rating</th>\n",
       "      <th>timestamp</th>\n",
       "    </tr>\n",
       "  </thead>\n",
       "  <tbody>\n",
       "    <tr>\n",
       "      <th>0</th>\n",
       "      <td>A2CX7LUOHB2NDG</td>\n",
       "      <td>0321732944</td>\n",
       "      <td>5.0</td>\n",
       "      <td>1341100800</td>\n",
       "    </tr>\n",
       "    <tr>\n",
       "      <th>1</th>\n",
       "      <td>A2NWSAGRHCP8N5</td>\n",
       "      <td>0439886341</td>\n",
       "      <td>1.0</td>\n",
       "      <td>1367193600</td>\n",
       "    </tr>\n",
       "    <tr>\n",
       "      <th>2</th>\n",
       "      <td>A2WNBOD3WNDNKT</td>\n",
       "      <td>0439886341</td>\n",
       "      <td>3.0</td>\n",
       "      <td>1374451200</td>\n",
       "    </tr>\n",
       "    <tr>\n",
       "      <th>3</th>\n",
       "      <td>A1GI0U4ZRJA8WN</td>\n",
       "      <td>0439886341</td>\n",
       "      <td>1.0</td>\n",
       "      <td>1334707200</td>\n",
       "    </tr>\n",
       "    <tr>\n",
       "      <th>4</th>\n",
       "      <td>A1QGNMC6O1VW39</td>\n",
       "      <td>0511189877</td>\n",
       "      <td>5.0</td>\n",
       "      <td>1397433600</td>\n",
       "    </tr>\n",
       "    <tr>\n",
       "      <th>...</th>\n",
       "      <td>...</td>\n",
       "      <td>...</td>\n",
       "      <td>...</td>\n",
       "      <td>...</td>\n",
       "    </tr>\n",
       "    <tr>\n",
       "      <th>1045870</th>\n",
       "      <td>A3G18HHUSKVTJJ</td>\n",
       "      <td>B000IDC0K2</td>\n",
       "      <td>4.0</td>\n",
       "      <td>1370649600</td>\n",
       "    </tr>\n",
       "    <tr>\n",
       "      <th>1045871</th>\n",
       "      <td>AQ9KYCUI2G39</td>\n",
       "      <td>B000IDC0K2</td>\n",
       "      <td>3.0</td>\n",
       "      <td>1360540800</td>\n",
       "    </tr>\n",
       "    <tr>\n",
       "      <th>1045872</th>\n",
       "      <td>A3RO5WM78T079</td>\n",
       "      <td>B000IDC0K2</td>\n",
       "      <td>3.0</td>\n",
       "      <td>1373155200</td>\n",
       "    </tr>\n",
       "    <tr>\n",
       "      <th>1045873</th>\n",
       "      <td>A28EZUUAG7E19V</td>\n",
       "      <td>B000IDC0K2</td>\n",
       "      <td>4.0</td>\n",
       "      <td>1399420800</td>\n",
       "    </tr>\n",
       "    <tr>\n",
       "      <th>1045874</th>\n",
       "      <td>A27S6NZ8X23GVI</td>\n",
       "      <td>B000IDC0K2</td>\n",
       "      <td>5.0</td>\n",
       "      <td>1366848000</td>\n",
       "    </tr>\n",
       "  </tbody>\n",
       "</table>\n",
       "<p>1045875 rows × 4 columns</p>\n",
       "</div>"
      ],
      "text/plain": [
       "                user_id  product_id  rating   timestamp\n",
       "0        A2CX7LUOHB2NDG  0321732944     5.0  1341100800\n",
       "1        A2NWSAGRHCP8N5  0439886341     1.0  1367193600\n",
       "2        A2WNBOD3WNDNKT  0439886341     3.0  1374451200\n",
       "3        A1GI0U4ZRJA8WN  0439886341     1.0  1334707200\n",
       "4        A1QGNMC6O1VW39  0511189877     5.0  1397433600\n",
       "...                 ...         ...     ...         ...\n",
       "1045870  A3G18HHUSKVTJJ  B000IDC0K2     4.0  1370649600\n",
       "1045871    AQ9KYCUI2G39  B000IDC0K2     3.0  1360540800\n",
       "1045872   A3RO5WM78T079  B000IDC0K2     3.0  1373155200\n",
       "1045873  A28EZUUAG7E19V  B000IDC0K2     4.0  1399420800\n",
       "1045874  A27S6NZ8X23GVI  B000IDC0K2     5.0  1366848000\n",
       "\n",
       "[1045875 rows x 4 columns]"
      ]
     },
     "execution_count": 65,
     "metadata": {},
     "output_type": "execute_result"
    }
   ],
   "source": [
    "klib.data_cleaning(df)"
   ]
  },
  {
   "cell_type": "markdown",
   "id": "95710a9a",
   "metadata": {},
   "source": [
    "# Preprocessing"
   ]
  },
  {
   "cell_type": "code",
   "execution_count": 66,
   "id": "2e49bf13",
   "metadata": {},
   "outputs": [
    {
     "name": "stdout",
     "output_type": "stream",
     "text": [
      "shape of original ratings data:  (1045875, 4)\n",
      "shape of ratings data after dropping unpopular products:  (1045875, 4)\n"
     ]
    }
   ],
   "source": [
    "# Given some of our findings, let's try to optimize our dataset by filtering to only the data that we need\n",
    "\n",
    "# We first try out the popularity of the products by filtering those that were at least rated\n",
    "\n",
    "\n",
    "popularity_thres = 1\n",
    "\n",
    "rating_count_df = df[['rating','product_id']].groupby(['product_id']).count()\n",
    "\n",
    "popular_df = rating_count_df[rating_count_df['rating']>=popularity_thres]\n",
    "\n",
    "filtered_pop_df = df[df.product_id.isin(popular_df.index.values)]\n",
    "\n",
    "filtered_pop_df = df[df.product_id.isin(popular_df.index.values)]\n",
    "print('shape of original ratings data: ', df.shape)\n",
    "print('shape of ratings data after dropping unpopular products: ', filtered_pop_df.shape)"
   ]
  },
  {
   "cell_type": "code",
   "execution_count": 67,
   "id": "8c282dbf",
   "metadata": {},
   "outputs": [
    {
     "data": {
      "text/html": [
       "<div>\n",
       "<style scoped>\n",
       "    .dataframe tbody tr th:only-of-type {\n",
       "        vertical-align: middle;\n",
       "    }\n",
       "\n",
       "    .dataframe tbody tr th {\n",
       "        vertical-align: top;\n",
       "    }\n",
       "\n",
       "    .dataframe thead th {\n",
       "        text-align: right;\n",
       "    }\n",
       "</style>\n",
       "<table border=\"1\" class=\"dataframe\">\n",
       "  <thead>\n",
       "    <tr style=\"text-align: right;\">\n",
       "      <th></th>\n",
       "      <th>user_id</th>\n",
       "      <th>product_id</th>\n",
       "      <th>rating</th>\n",
       "      <th>timestamp</th>\n",
       "    </tr>\n",
       "  </thead>\n",
       "  <tbody>\n",
       "    <tr>\n",
       "      <th>0</th>\n",
       "      <td>A2CX7LUOHB2NDG</td>\n",
       "      <td>0321732944</td>\n",
       "      <td>5.0</td>\n",
       "      <td>1341100800</td>\n",
       "    </tr>\n",
       "    <tr>\n",
       "      <th>1</th>\n",
       "      <td>A2NWSAGRHCP8N5</td>\n",
       "      <td>0439886341</td>\n",
       "      <td>1.0</td>\n",
       "      <td>1367193600</td>\n",
       "    </tr>\n",
       "    <tr>\n",
       "      <th>2</th>\n",
       "      <td>A2WNBOD3WNDNKT</td>\n",
       "      <td>0439886341</td>\n",
       "      <td>3.0</td>\n",
       "      <td>1374451200</td>\n",
       "    </tr>\n",
       "    <tr>\n",
       "      <th>3</th>\n",
       "      <td>A1GI0U4ZRJA8WN</td>\n",
       "      <td>0439886341</td>\n",
       "      <td>1.0</td>\n",
       "      <td>1334707200</td>\n",
       "    </tr>\n",
       "    <tr>\n",
       "      <th>4</th>\n",
       "      <td>A1QGNMC6O1VW39</td>\n",
       "      <td>0511189877</td>\n",
       "      <td>5.0</td>\n",
       "      <td>1397433600</td>\n",
       "    </tr>\n",
       "  </tbody>\n",
       "</table>\n",
       "</div>"
      ],
      "text/plain": [
       "          user_id  product_id  rating   timestamp\n",
       "0  A2CX7LUOHB2NDG  0321732944     5.0  1341100800\n",
       "1  A2NWSAGRHCP8N5  0439886341     1.0  1367193600\n",
       "2  A2WNBOD3WNDNKT  0439886341     3.0  1374451200\n",
       "3  A1GI0U4ZRJA8WN  0439886341     1.0  1334707200\n",
       "4  A1QGNMC6O1VW39  0511189877     5.0  1397433600"
      ]
     },
     "execution_count": 67,
     "metadata": {},
     "output_type": "execute_result"
    }
   ],
   "source": [
    "filtered_pop_df.head()"
   ]
  },
  {
   "cell_type": "code",
   "execution_count": 68,
   "id": "63107f87",
   "metadata": {},
   "outputs": [],
   "source": [
    "# The size of the popular products are just the same as the original dataset. Let us try another filtering."
   ]
  },
  {
   "cell_type": "code",
   "execution_count": 69,
   "id": "b045564f",
   "metadata": {},
   "outputs": [
    {
     "name": "stdout",
     "output_type": "stream",
     "text": [
      "shape of original ratings data:  (1045875, 4)\n",
      "shape of ratings data after dropping unpopular products:  (3401, 5)\n"
     ]
    }
   ],
   "source": [
    "#filtering for active users\n",
    "\n",
    "# Let us filter active users who have rated at least 50 times.\n",
    "rating_thres = 50\n",
    "\n",
    "active_users_count_df = df[['rating', 'user_id']].groupby(['user_id']).count()\n",
    "\n",
    "active_users_df = active_users_count_df[active_users_count_df['rating']>=rating_thres]\n",
    "\n",
    "filtered_active_users_df = df[df.user_id.isin(active_users_df.index.values)].reset_index()\n",
    "\n",
    "print('shape of original ratings data: ', df.shape)\n",
    "print('shape of ratings data after dropping unpopular products: ', filtered_active_users_df.shape)"
   ]
  },
  {
   "cell_type": "code",
   "execution_count": 70,
   "id": "45cc1353",
   "metadata": {},
   "outputs": [
    {
     "data": {
      "text/html": [
       "<div>\n",
       "<style scoped>\n",
       "    .dataframe tbody tr th:only-of-type {\n",
       "        vertical-align: middle;\n",
       "    }\n",
       "\n",
       "    .dataframe tbody tr th {\n",
       "        vertical-align: top;\n",
       "    }\n",
       "\n",
       "    .dataframe thead th {\n",
       "        text-align: right;\n",
       "    }\n",
       "</style>\n",
       "<table border=\"1\" class=\"dataframe\">\n",
       "  <thead>\n",
       "    <tr style=\"text-align: right;\">\n",
       "      <th>user_id</th>\n",
       "      <th>A11D1KHM7DVOQK</th>\n",
       "      <th>A12DLJESJKM1OQ</th>\n",
       "      <th>A1435P5AMCPB3X</th>\n",
       "      <th>A149RNR5RH19YY</th>\n",
       "      <th>A15QYHQH80W30L</th>\n",
       "      <th>A1F9Z42CFF9IAY</th>\n",
       "      <th>A1FR68QH6Z4YZM</th>\n",
       "      <th>A1JWSDDIH5Z7DV</th>\n",
       "      <th>A1MJMYLRTZ76ZX</th>\n",
       "      <th>A1ODOGXEYECQQ8</th>\n",
       "      <th>...</th>\n",
       "      <th>A6FIAB28IS79</th>\n",
       "      <th>A7Y6AVS576M03</th>\n",
       "      <th>ABH9D1TEOJ56E</th>\n",
       "      <th>AGHZXQL9F94T9</th>\n",
       "      <th>AGXV8E7XK9J6H</th>\n",
       "      <th>AKT8TGIT6VVZ5</th>\n",
       "      <th>ALUNVOQRXOZIA</th>\n",
       "      <th>AT2J7H5TRZM8Z</th>\n",
       "      <th>AT6CZDCP4TRGA</th>\n",
       "      <th>AWPODHOB4GFWL</th>\n",
       "    </tr>\n",
       "    <tr>\n",
       "      <th>product_id</th>\n",
       "      <th></th>\n",
       "      <th></th>\n",
       "      <th></th>\n",
       "      <th></th>\n",
       "      <th></th>\n",
       "      <th></th>\n",
       "      <th></th>\n",
       "      <th></th>\n",
       "      <th></th>\n",
       "      <th></th>\n",
       "      <th></th>\n",
       "      <th></th>\n",
       "      <th></th>\n",
       "      <th></th>\n",
       "      <th></th>\n",
       "      <th></th>\n",
       "      <th></th>\n",
       "      <th></th>\n",
       "      <th></th>\n",
       "      <th></th>\n",
       "      <th></th>\n",
       "    </tr>\n",
       "  </thead>\n",
       "  <tbody>\n",
       "    <tr>\n",
       "      <th>1400532655</th>\n",
       "      <td>0.0</td>\n",
       "      <td>0.0</td>\n",
       "      <td>0.0</td>\n",
       "      <td>0.0</td>\n",
       "      <td>0.0</td>\n",
       "      <td>0.0</td>\n",
       "      <td>0.0</td>\n",
       "      <td>0.0</td>\n",
       "      <td>0.0</td>\n",
       "      <td>0.0</td>\n",
       "      <td>...</td>\n",
       "      <td>0.0</td>\n",
       "      <td>0.0</td>\n",
       "      <td>0.0</td>\n",
       "      <td>0.0</td>\n",
       "      <td>0.0</td>\n",
       "      <td>0.0</td>\n",
       "      <td>0.0</td>\n",
       "      <td>0.0</td>\n",
       "      <td>0.0</td>\n",
       "      <td>0.0</td>\n",
       "    </tr>\n",
       "    <tr>\n",
       "      <th>1400599997</th>\n",
       "      <td>0.0</td>\n",
       "      <td>0.0</td>\n",
       "      <td>0.0</td>\n",
       "      <td>0.0</td>\n",
       "      <td>0.0</td>\n",
       "      <td>0.0</td>\n",
       "      <td>0.0</td>\n",
       "      <td>0.0</td>\n",
       "      <td>0.0</td>\n",
       "      <td>0.0</td>\n",
       "      <td>...</td>\n",
       "      <td>0.0</td>\n",
       "      <td>0.0</td>\n",
       "      <td>0.0</td>\n",
       "      <td>0.0</td>\n",
       "      <td>0.0</td>\n",
       "      <td>0.0</td>\n",
       "      <td>1.0</td>\n",
       "      <td>0.0</td>\n",
       "      <td>0.0</td>\n",
       "      <td>0.0</td>\n",
       "    </tr>\n",
       "    <tr>\n",
       "      <th>9043413585</th>\n",
       "      <td>0.0</td>\n",
       "      <td>0.0</td>\n",
       "      <td>0.0</td>\n",
       "      <td>0.0</td>\n",
       "      <td>0.0</td>\n",
       "      <td>0.0</td>\n",
       "      <td>0.0</td>\n",
       "      <td>0.0</td>\n",
       "      <td>0.0</td>\n",
       "      <td>0.0</td>\n",
       "      <td>...</td>\n",
       "      <td>0.0</td>\n",
       "      <td>0.0</td>\n",
       "      <td>0.0</td>\n",
       "      <td>0.0</td>\n",
       "      <td>0.0</td>\n",
       "      <td>0.0</td>\n",
       "      <td>0.0</td>\n",
       "      <td>0.0</td>\n",
       "      <td>0.0</td>\n",
       "      <td>0.0</td>\n",
       "    </tr>\n",
       "    <tr>\n",
       "      <th>B000000O48</th>\n",
       "      <td>0.0</td>\n",
       "      <td>0.0</td>\n",
       "      <td>0.0</td>\n",
       "      <td>0.0</td>\n",
       "      <td>0.0</td>\n",
       "      <td>0.0</td>\n",
       "      <td>0.0</td>\n",
       "      <td>0.0</td>\n",
       "      <td>0.0</td>\n",
       "      <td>0.0</td>\n",
       "      <td>...</td>\n",
       "      <td>0.0</td>\n",
       "      <td>0.0</td>\n",
       "      <td>0.0</td>\n",
       "      <td>0.0</td>\n",
       "      <td>0.0</td>\n",
       "      <td>0.0</td>\n",
       "      <td>0.0</td>\n",
       "      <td>0.0</td>\n",
       "      <td>0.0</td>\n",
       "      <td>0.0</td>\n",
       "    </tr>\n",
       "    <tr>\n",
       "      <th>B000001OL6</th>\n",
       "      <td>0.0</td>\n",
       "      <td>0.0</td>\n",
       "      <td>0.0</td>\n",
       "      <td>0.0</td>\n",
       "      <td>0.0</td>\n",
       "      <td>0.0</td>\n",
       "      <td>0.0</td>\n",
       "      <td>0.0</td>\n",
       "      <td>0.0</td>\n",
       "      <td>0.0</td>\n",
       "      <td>...</td>\n",
       "      <td>0.0</td>\n",
       "      <td>0.0</td>\n",
       "      <td>0.0</td>\n",
       "      <td>0.0</td>\n",
       "      <td>0.0</td>\n",
       "      <td>0.0</td>\n",
       "      <td>0.0</td>\n",
       "      <td>0.0</td>\n",
       "      <td>0.0</td>\n",
       "      <td>0.0</td>\n",
       "    </tr>\n",
       "  </tbody>\n",
       "</table>\n",
       "<p>5 rows × 37 columns</p>\n",
       "</div>"
      ],
      "text/plain": [
       "user_id     A11D1KHM7DVOQK  A12DLJESJKM1OQ  A1435P5AMCPB3X  A149RNR5RH19YY  \\\n",
       "product_id                                                                   \n",
       "1400532655             0.0             0.0             0.0             0.0   \n",
       "1400599997             0.0             0.0             0.0             0.0   \n",
       "9043413585             0.0             0.0             0.0             0.0   \n",
       "B000000O48             0.0             0.0             0.0             0.0   \n",
       "B000001OL6             0.0             0.0             0.0             0.0   \n",
       "\n",
       "user_id     A15QYHQH80W30L  A1F9Z42CFF9IAY  A1FR68QH6Z4YZM  A1JWSDDIH5Z7DV  \\\n",
       "product_id                                                                   \n",
       "1400532655             0.0             0.0             0.0             0.0   \n",
       "1400599997             0.0             0.0             0.0             0.0   \n",
       "9043413585             0.0             0.0             0.0             0.0   \n",
       "B000000O48             0.0             0.0             0.0             0.0   \n",
       "B000001OL6             0.0             0.0             0.0             0.0   \n",
       "\n",
       "user_id     A1MJMYLRTZ76ZX  A1ODOGXEYECQQ8  ...  A6FIAB28IS79  A7Y6AVS576M03  \\\n",
       "product_id                                  ...                                \n",
       "1400532655             0.0             0.0  ...           0.0            0.0   \n",
       "1400599997             0.0             0.0  ...           0.0            0.0   \n",
       "9043413585             0.0             0.0  ...           0.0            0.0   \n",
       "B000000O48             0.0             0.0  ...           0.0            0.0   \n",
       "B000001OL6             0.0             0.0  ...           0.0            0.0   \n",
       "\n",
       "user_id     ABH9D1TEOJ56E  AGHZXQL9F94T9  AGXV8E7XK9J6H  AKT8TGIT6VVZ5  \\\n",
       "product_id                                                               \n",
       "1400532655            0.0            0.0            0.0            0.0   \n",
       "1400599997            0.0            0.0            0.0            0.0   \n",
       "9043413585            0.0            0.0            0.0            0.0   \n",
       "B000000O48            0.0            0.0            0.0            0.0   \n",
       "B000001OL6            0.0            0.0            0.0            0.0   \n",
       "\n",
       "user_id     ALUNVOQRXOZIA  AT2J7H5TRZM8Z  AT6CZDCP4TRGA  AWPODHOB4GFWL  \n",
       "product_id                                                              \n",
       "1400532655            0.0            0.0            0.0            0.0  \n",
       "1400599997            1.0            0.0            0.0            0.0  \n",
       "9043413585            0.0            0.0            0.0            0.0  \n",
       "B000000O48            0.0            0.0            0.0            0.0  \n",
       "B000001OL6            0.0            0.0            0.0            0.0  \n",
       "\n",
       "[5 rows x 37 columns]"
      ]
     },
     "execution_count": 70,
     "metadata": {},
     "output_type": "execute_result"
    }
   ],
   "source": [
    "# Now let's pivot the dataframe such that it will have productId as the index, and userId as columns\n",
    "\n",
    "\n",
    "filtered_ratings_df = pd.pivot(filtered_active_users_df,index='product_id', columns='user_id', values='rating').fillna(0)\n",
    "filtered_ratings_df.head()"
   ]
  },
  {
   "cell_type": "code",
   "execution_count": 71,
   "id": "20eb83d8",
   "metadata": {},
   "outputs": [],
   "source": [
    "from scipy.sparse import csr_matrix"
   ]
  },
  {
   "cell_type": "code",
   "execution_count": 72,
   "id": "feb7d145",
   "metadata": {},
   "outputs": [],
   "source": [
    "from sklearn.neighbors import NearestNeighbors\n",
    "\n",
    "from sklearn.decomposition import TruncatedSVD\n",
    "\n",
    "from sklearn.neighbors import KNeighborsClassifier\n",
    "from sklearn.model_selection import train_test_split\n",
    "from sklearn.metrics import accuracy_score\n",
    "\n",
    "from sklearn.datasets import load_iris\n",
    "\n",
    "from surprise import Dataset, Reader\n",
    "\n",
    "from surprise.model_selection import cross_validate \n",
    "\n",
    "from surprise import SVD\n",
    "\n",
    "from surprise import KNNBasic\n",
    "\n",
    "\n",
    "from surprise import Reader, Dataset, KNNBasic, SVD\n",
    "from surprise.model_selection import LeaveOneOut"
   ]
  },
  {
   "cell_type": "code",
   "execution_count": 73,
   "id": "ed2dd3b9",
   "metadata": {},
   "outputs": [
    {
     "data": {
      "text/plain": [
       "<2903x37 sparse matrix of type '<class 'numpy.float64'>'\n",
       "\twith 3401 stored elements in Compressed Sparse Row format>"
      ]
     },
     "execution_count": 73,
     "metadata": {},
     "output_type": "execute_result"
    }
   ],
   "source": [
    "ratings_matrix = csr_matrix(filtered_ratings_df.values)\n",
    "ratings_matrix"
   ]
  },
  {
   "cell_type": "markdown",
   "id": "0ae6e45c",
   "metadata": {},
   "source": [
    "# Memory - based Approach\n",
    "### Using KNN estimate distance"
   ]
  },
  {
   "cell_type": "code",
   "execution_count": 74,
   "id": "aa071a0b",
   "metadata": {},
   "outputs": [
    {
     "data": {
      "text/plain": [
       "NearestNeighbors(algorithm='brute', metric='cosine', n_jobs=-1, n_neighbors=20)"
      ]
     },
     "execution_count": 74,
     "metadata": {},
     "output_type": "execute_result"
    }
   ],
   "source": [
    "# Metric is the distance algorithm to be used. You can find more choices here: \n",
    "# https://scikit-learn.org/stable/modules/generated/sklearn.neighbors.DistanceMetric.html#sklearn.neighbors.DistanceMetric\n",
    "\n",
    "# algorithm is the type of tree search used by the model\n",
    "# neighbors it the amount of neighbors identified\n",
    "model_knn = NearestNeighbors(metric='cosine', algorithm='brute', n_neighbors=20, n_jobs=-1)\n",
    "\n",
    "# fit\n",
    "model_knn.fit(ratings_matrix)"
   ]
  },
  {
   "cell_type": "code",
   "execution_count": 75,
   "id": "20cc5b66",
   "metadata": {},
   "outputs": [
    {
     "name": "stdout",
     "output_type": "stream",
     "text": [
      "You have input product: B00\n"
     ]
    },
    {
     "data": {
      "text/html": [
       "<div>\n",
       "<style scoped>\n",
       "    .dataframe tbody tr th:only-of-type {\n",
       "        vertical-align: middle;\n",
       "    }\n",
       "\n",
       "    .dataframe tbody tr th {\n",
       "        vertical-align: top;\n",
       "    }\n",
       "\n",
       "    .dataframe thead th {\n",
       "        text-align: right;\n",
       "    }\n",
       "</style>\n",
       "<table border=\"1\" class=\"dataframe\">\n",
       "  <thead>\n",
       "    <tr style=\"text-align: right;\">\n",
       "      <th></th>\n",
       "      <th>index</th>\n",
       "      <th>user_id</th>\n",
       "      <th>product_id</th>\n",
       "      <th>rating</th>\n",
       "      <th>timestamp</th>\n",
       "    </tr>\n",
       "  </thead>\n",
       "  <tbody>\n",
       "    <tr>\n",
       "      <th>3</th>\n",
       "      <td>7380</td>\n",
       "      <td>A2AEZQ3DGBBLPR</td>\n",
       "      <td>B000000O48</td>\n",
       "      <td>5.0</td>\n",
       "      <td>1038873600</td>\n",
       "    </tr>\n",
       "    <tr>\n",
       "      <th>4</th>\n",
       "      <td>7447</td>\n",
       "      <td>A2R6RA8FRBS608</td>\n",
       "      <td>B000001OL6</td>\n",
       "      <td>4.0</td>\n",
       "      <td>1209513600</td>\n",
       "    </tr>\n",
       "    <tr>\n",
       "      <th>5</th>\n",
       "      <td>7747</td>\n",
       "      <td>A680RUE1FDO8B</td>\n",
       "      <td>B000001OMI</td>\n",
       "      <td>5.0</td>\n",
       "      <td>1227744000</td>\n",
       "    </tr>\n",
       "    <tr>\n",
       "      <th>6</th>\n",
       "      <td>7788</td>\n",
       "      <td>A11D1KHM7DVOQK</td>\n",
       "      <td>B000001OMN</td>\n",
       "      <td>2.0</td>\n",
       "      <td>1167350400</td>\n",
       "    </tr>\n",
       "    <tr>\n",
       "      <th>7</th>\n",
       "      <td>8349</td>\n",
       "      <td>A3NCIN6TNL0MGA</td>\n",
       "      <td>B00000DM9W</td>\n",
       "      <td>5.0</td>\n",
       "      <td>1166918400</td>\n",
       "    </tr>\n",
       "    <tr>\n",
       "      <th>...</th>\n",
       "      <td>...</td>\n",
       "      <td>...</td>\n",
       "      <td>...</td>\n",
       "      <td>...</td>\n",
       "      <td>...</td>\n",
       "    </tr>\n",
       "    <tr>\n",
       "      <th>3396</th>\n",
       "      <td>1041018</td>\n",
       "      <td>A203OCQQ12MAVT</td>\n",
       "      <td>B000I992XY</td>\n",
       "      <td>5.0</td>\n",
       "      <td>1319155200</td>\n",
       "    </tr>\n",
       "    <tr>\n",
       "      <th>3397</th>\n",
       "      <td>1041155</td>\n",
       "      <td>A680RUE1FDO8B</td>\n",
       "      <td>B000I9B2AA</td>\n",
       "      <td>5.0</td>\n",
       "      <td>1280188800</td>\n",
       "    </tr>\n",
       "    <tr>\n",
       "      <th>3398</th>\n",
       "      <td>1041293</td>\n",
       "      <td>A5JLAU2ARJ0BO</td>\n",
       "      <td>B000IALP88</td>\n",
       "      <td>5.0</td>\n",
       "      <td>1202774400</td>\n",
       "    </tr>\n",
       "    <tr>\n",
       "      <th>3399</th>\n",
       "      <td>1042567</td>\n",
       "      <td>A5JLAU2ARJ0BO</td>\n",
       "      <td>B000IBRX4M</td>\n",
       "      <td>3.0</td>\n",
       "      <td>1191456000</td>\n",
       "    </tr>\n",
       "    <tr>\n",
       "      <th>3400</th>\n",
       "      <td>1043196</td>\n",
       "      <td>A3NCIN6TNL0MGA</td>\n",
       "      <td>B000ICZZJG</td>\n",
       "      <td>5.0</td>\n",
       "      <td>1210982400</td>\n",
       "    </tr>\n",
       "  </tbody>\n",
       "</table>\n",
       "<p>3398 rows × 5 columns</p>\n",
       "</div>"
      ],
      "text/plain": [
       "        index         user_id  product_id  rating   timestamp\n",
       "3        7380  A2AEZQ3DGBBLPR  B000000O48     5.0  1038873600\n",
       "4        7447  A2R6RA8FRBS608  B000001OL6     4.0  1209513600\n",
       "5        7747   A680RUE1FDO8B  B000001OMI     5.0  1227744000\n",
       "6        7788  A11D1KHM7DVOQK  B000001OMN     2.0  1167350400\n",
       "7        8349  A3NCIN6TNL0MGA  B00000DM9W     5.0  1166918400\n",
       "...       ...             ...         ...     ...         ...\n",
       "3396  1041018  A203OCQQ12MAVT  B000I992XY     5.0  1319155200\n",
       "3397  1041155   A680RUE1FDO8B  B000I9B2AA     5.0  1280188800\n",
       "3398  1041293   A5JLAU2ARJ0BO  B000IALP88     5.0  1202774400\n",
       "3399  1042567   A5JLAU2ARJ0BO  B000IBRX4M     3.0  1191456000\n",
       "3400  1043196  A3NCIN6TNL0MGA  B000ICZZJG     5.0  1210982400\n",
       "\n",
       "[3398 rows x 5 columns]"
      ]
     },
     "execution_count": 75,
     "metadata": {},
     "output_type": "execute_result"
    }
   ],
   "source": [
    "# Let's try it out\n",
    "bought_product = \"B00\"\n",
    "print('You have input product:', bought_product)\n",
    "\n",
    "# find product that \"match\"\n",
    "matches_df = filtered_active_users_df[filtered_active_users_df['product_id'].str.contains(bought_product)]\n",
    "matches_df"
   ]
  },
  {
   "cell_type": "code",
   "execution_count": 76,
   "id": "9c7138b0",
   "metadata": {},
   "outputs": [
    {
     "name": "stdout",
     "output_type": "stream",
     "text": [
      "Let's start making recommendations!...\n"
     ]
    },
    {
     "data": {
      "text/html": [
       "<div>\n",
       "<style scoped>\n",
       "    .dataframe tbody tr th:only-of-type {\n",
       "        vertical-align: middle;\n",
       "    }\n",
       "\n",
       "    .dataframe tbody tr th {\n",
       "        vertical-align: top;\n",
       "    }\n",
       "\n",
       "    .dataframe thead th {\n",
       "        text-align: right;\n",
       "    }\n",
       "</style>\n",
       "<table border=\"1\" class=\"dataframe\">\n",
       "  <thead>\n",
       "    <tr style=\"text-align: right;\">\n",
       "      <th></th>\n",
       "      <th>Title</th>\n",
       "      <th>Distance</th>\n",
       "    </tr>\n",
       "  </thead>\n",
       "  <tbody>\n",
       "    <tr>\n",
       "      <th>1</th>\n",
       "      <td>B0009BX0AM</td>\n",
       "      <td>0.0</td>\n",
       "    </tr>\n",
       "    <tr>\n",
       "      <th>2</th>\n",
       "      <td>B00005T3B5</td>\n",
       "      <td>0.0</td>\n",
       "    </tr>\n",
       "    <tr>\n",
       "      <th>3</th>\n",
       "      <td>B00005OQMO</td>\n",
       "      <td>0.0</td>\n",
       "    </tr>\n",
       "    <tr>\n",
       "      <th>4</th>\n",
       "      <td>B0009AI5XA</td>\n",
       "      <td>0.0</td>\n",
       "    </tr>\n",
       "    <tr>\n",
       "      <th>5</th>\n",
       "      <td>B00005T39Y</td>\n",
       "      <td>0.0</td>\n",
       "    </tr>\n",
       "    <tr>\n",
       "      <th>6</th>\n",
       "      <td>B000068IGI</td>\n",
       "      <td>0.0</td>\n",
       "    </tr>\n",
       "    <tr>\n",
       "      <th>7</th>\n",
       "      <td>B00009R6WT</td>\n",
       "      <td>0.0</td>\n",
       "    </tr>\n",
       "    <tr>\n",
       "      <th>8</th>\n",
       "      <td>B00005RG4N</td>\n",
       "      <td>0.0</td>\n",
       "    </tr>\n",
       "    <tr>\n",
       "      <th>9</th>\n",
       "      <td>B00005RKO5</td>\n",
       "      <td>0.0</td>\n",
       "    </tr>\n",
       "    <tr>\n",
       "      <th>10</th>\n",
       "      <td>B000068IL8</td>\n",
       "      <td>0.0</td>\n",
       "    </tr>\n",
       "  </tbody>\n",
       "</table>\n",
       "</div>"
      ],
      "text/plain": [
       "         Title  Distance\n",
       "1   B0009BX0AM       0.0\n",
       "2   B00005T3B5       0.0\n",
       "3   B00005OQMO       0.0\n",
       "4   B0009AI5XA       0.0\n",
       "5   B00005T39Y       0.0\n",
       "6   B000068IGI       0.0\n",
       "7   B00009R6WT       0.0\n",
       "8   B00005RG4N       0.0\n",
       "9   B00005RKO5       0.0\n",
       "10  B000068IL8       0.0"
      ]
     },
     "metadata": {},
     "output_type": "display_data"
    }
   ],
   "source": [
    "print(\"Let's start making recommendations!...\")\n",
    "\n",
    "if(matches_df is  None):\n",
    "    print(\"No Matching product :(\")\n",
    "else:\n",
    "    # Indicate the top recommendations we want to get (how many neighbors should we find?)\n",
    "    top_recommendations = 10\n",
    "\n",
    "    electronics_idx= matches_df.iloc[0]['product_id'] # select the first product in the list, get the product Id\n",
    "    \n",
    "    # get the dataframe index from the productId\n",
    "    electronics_idx = filtered_active_users_df[filtered_active_users_df['product_id'] == electronics_idx].index[0]\n",
    "    \n",
    "    # model will return a list of distances and indices\n",
    "    distances , indices = model_knn.kneighbors(ratings_matrix[electronics_idx],n_neighbors=top_recommendations+1)    \n",
    "\n",
    "    # transform the result into a list\n",
    "    rec_electronics_indices = sorted(list(zip(indices.squeeze().tolist(),distances.squeeze().tolist())),key=lambda x: x[1])[:0:-1]\n",
    "    recommend_frame = [] #let's create an empty list\n",
    " \n",
    "    # we will iterate thru the results and add them to the list\n",
    "    for val in rec_electronics_indices:\n",
    "        \n",
    "        # we get the product id\n",
    "        electronics_idx = filtered_active_users_df.iloc[val[0]]['product_id']\n",
    "        # convert into an index, we will this use to get the productId\n",
    "        idx = filtered_active_users_df[filtered_active_users_df['product_id'] == electronics_idx].index\n",
    "        # take the productId together with the computed \"distance\". This distance is how far the product are from the 'target' product\n",
    "        recommend_frame.append({'Title':filtered_active_users_df.iloc[idx]['product_id'].values[0],'Distance':val[1]})\n",
    "\n",
    "    # place resulting list inside a dataframe\n",
    "    df = pd.DataFrame(recommend_frame,index=range(1,top_recommendations+1))\n",
    "    display(df.sort_values(\"Distance\")) #sort by distance to get the top 10"
   ]
  },
  {
   "cell_type": "code",
   "execution_count": 77,
   "id": "6e61a0a4",
   "metadata": {},
   "outputs": [
    {
     "name": "stdout",
     "output_type": "stream",
     "text": [
      "Computing the msd similarity matrix...\n",
      "Done computing similarity matrix.\n",
      "Computing the msd similarity matrix...\n",
      "Done computing similarity matrix.\n",
      "Computing the msd similarity matrix...\n",
      "Done computing similarity matrix.\n",
      "Computing the msd similarity matrix...\n",
      "Done computing similarity matrix.\n",
      "Computing the msd similarity matrix...\n",
      "Done computing similarity matrix.\n",
      "Evaluating RMSE of algorithm KNNBasic on 5 split(s).\n",
      "\n",
      "                  Fold 1  Fold 2  Fold 3  Fold 4  Fold 5  Mean    Std     \n",
      "RMSE (testset)    1.1226  1.2485  1.2016  1.1833  1.1974  1.1907  0.0405  \n",
      "Fit time          0.02    0.00    0.00    0.00    0.00    0.00    0.01    \n",
      "Test time         0.00    0.02    0.00    0.02    0.00    0.01    0.01    \n"
     ]
    },
    {
     "data": {
      "text/plain": [
       "{'test_rmse': array([1.12260829, 1.24847935, 1.20155187, 1.18327665, 1.19741552]),\n",
       " 'fit_time': (0.015744924545288086, 0.0, 0.0, 0.0, 0.0),\n",
       " 'test_time': (0.0, 0.015849590301513672, 0.0, 0.01577472686767578, 0.0)}"
      ]
     },
     "execution_count": 77,
     "metadata": {},
     "output_type": "execute_result"
    }
   ],
   "source": [
    "# Let's use surprise library to get a measure of our knn model's RMSE metric\n",
    "# The Reader class is used to parse a file containing ratings.\n",
    "# A reader is still needed but only the rating_scale param is required.\n",
    "\n",
    "reader = Reader(rating_scale=(1, 5))\n",
    "\n",
    "# The columns must correspond to user id, item id and ratings (in that order).\n",
    "data = Dataset.load_from_df(filtered_active_users_df[['user_id', 'product_id', 'rating']], reader)\n",
    "\n",
    "# We'll train a knn model in surprise using our same data set\n",
    "knnbasic = KNNBasic()\n",
    "\n",
    "# Run 5-fold cross-validation and print results.\n",
    "knn_results = cross_validate(knnbasic, data, measures=['RMSE'], cv=5, verbose=True)\n",
    "knn_results\n",
    "\n",
    "\n",
    "# Smaller RMSE means our model is able to give better recommendation"
   ]
  },
  {
   "cell_type": "markdown",
   "id": "35fb9881",
   "metadata": {},
   "source": [
    "# Model - based Approach"
   ]
  },
  {
   "cell_type": "code",
   "execution_count": 78,
   "id": "f2f72b3c",
   "metadata": {},
   "outputs": [
    {
     "name": "stdout",
     "output_type": "stream",
     "text": [
      "Evaluating RMSE of algorithm SVD on 5 split(s).\n",
      "\n",
      "                  Fold 1  Fold 2  Fold 3  Fold 4  Fold 5  Mean    Std     \n",
      "RMSE (testset)    1.0437  1.0874  1.0489  1.0896  1.0073  1.0554  0.0306  \n",
      "Fit time          0.02    0.02    0.03    0.03    0.02    0.02    0.01    \n",
      "Test time         0.00    0.00    0.00    0.00    0.02    0.00    0.01    \n"
     ]
    },
    {
     "data": {
      "text/plain": [
       "{'test_rmse': array([1.04368573, 1.08737814, 1.04890155, 1.08963792, 1.0073161 ]),\n",
       " 'fit_time': (0.022710561752319336,\n",
       "  0.01576542854309082,\n",
       "  0.031248092651367188,\n",
       "  0.03130149841308594,\n",
       "  0.01562643051147461),\n",
       " 'test_time': (0.0, 0.0, 0.0, 0.0, 0.01562809944152832)}"
      ]
     },
     "execution_count": 78,
     "metadata": {},
     "output_type": "execute_result"
    }
   ],
   "source": [
    "# A reader is still needed but only the rating_scale param is requiered.\n",
    "reader = Reader(rating_scale=(1, 5))\n",
    "\n",
    "# The columns must correspond to user id, item id and ratings (in that order).\n",
    "data = Dataset.load_from_df(filtered_active_users_df[['user_id', 'product_id', 'rating']], reader)\n",
    "\n",
    "# Use the famous SVD algorithm\n",
    "algo = SVD()\n",
    "\n",
    "# Run 5-fold cross-validation and print results.\n",
    "svd_results = cross_validate(algo, data, measures=['RMSE'], cv=5, verbose=True)\n",
    "svd_results\n",
    "\n",
    "# Smaller RMSE means our model is able to give better recommendation"
   ]
  },
  {
   "cell_type": "markdown",
   "id": "5894021d",
   "metadata": {},
   "source": [
    "# Let's try to predict"
   ]
  },
  {
   "cell_type": "code",
   "execution_count": 79,
   "id": "1c8b7494",
   "metadata": {},
   "outputs": [
    {
     "name": "stdout",
     "output_type": "stream",
     "text": [
      "Prediction for rating: \n",
      "user: 1          item: 3          r_ui = 4.00   est = 4.21   {'was_impossible': False}\n"
     ]
    },
    {
     "data": {
      "text/plain": [
       "Prediction(uid='1', iid='3', r_ui=4, est=4.210951855935318, details={'was_impossible': False})"
      ]
     },
     "execution_count": 79,
     "metadata": {},
     "output_type": "execute_result"
    }
   ],
   "source": [
    "# User rated 4\n",
    "uid = str(1)  \n",
    "\n",
    "pid = str(3)  \n",
    "\n",
    "#Get the prediction for the specific user and product.\n",
    "print(\"Prediction for rating: \")\n",
    "pred = algo.predict(uid, pid, r_ui=4, verbose=True)\n",
    "pred"
   ]
  },
  {
   "cell_type": "code",
   "execution_count": 80,
   "id": "2f47c559",
   "metadata": {},
   "outputs": [],
   "source": [
    "# Our model was able to predict that the user (1) will rate the product (3) a score of 4.20 (4)"
   ]
  },
  {
   "cell_type": "markdown",
   "id": "cea5e104",
   "metadata": {},
   "source": [
    "# Let's compare the two using RMSE"
   ]
  },
  {
   "cell_type": "code",
   "execution_count": 81,
   "id": "3850a9f5",
   "metadata": {},
   "outputs": [
    {
     "data": {
      "text/html": [
       "<div>\n",
       "<style scoped>\n",
       "    .dataframe tbody tr th:only-of-type {\n",
       "        vertical-align: middle;\n",
       "    }\n",
       "\n",
       "    .dataframe tbody tr th {\n",
       "        vertical-align: top;\n",
       "    }\n",
       "\n",
       "    .dataframe thead th {\n",
       "        text-align: right;\n",
       "    }\n",
       "</style>\n",
       "<table border=\"1\" class=\"dataframe\">\n",
       "  <thead>\n",
       "    <tr style=\"text-align: right;\">\n",
       "      <th></th>\n",
       "      <th>knn</th>\n",
       "      <th>svd</th>\n",
       "    </tr>\n",
       "  </thead>\n",
       "  <tbody>\n",
       "    <tr>\n",
       "      <th>Fold 1</th>\n",
       "      <td>1.122608</td>\n",
       "      <td>1.043686</td>\n",
       "    </tr>\n",
       "    <tr>\n",
       "      <th>Fold 2</th>\n",
       "      <td>1.248479</td>\n",
       "      <td>1.087378</td>\n",
       "    </tr>\n",
       "    <tr>\n",
       "      <th>Fold 3</th>\n",
       "      <td>1.201552</td>\n",
       "      <td>1.048902</td>\n",
       "    </tr>\n",
       "    <tr>\n",
       "      <th>Fold 4</th>\n",
       "      <td>1.183277</td>\n",
       "      <td>1.089638</td>\n",
       "    </tr>\n",
       "    <tr>\n",
       "      <th>Fold 5</th>\n",
       "      <td>1.197416</td>\n",
       "      <td>1.007316</td>\n",
       "    </tr>\n",
       "    <tr>\n",
       "      <th>Mean</th>\n",
       "      <td>1.190666</td>\n",
       "      <td>1.055384</td>\n",
       "    </tr>\n",
       "    <tr>\n",
       "      <th>Std</th>\n",
       "      <td>0.045257</td>\n",
       "      <td>0.034228</td>\n",
       "    </tr>\n",
       "  </tbody>\n",
       "</table>\n",
       "</div>"
      ],
      "text/plain": [
       "             knn       svd\n",
       "Fold 1  1.122608  1.043686\n",
       "Fold 2  1.248479  1.087378\n",
       "Fold 3  1.201552  1.048902\n",
       "Fold 4  1.183277  1.089638\n",
       "Fold 5  1.197416  1.007316\n",
       "Mean    1.190666  1.055384\n",
       "Std     0.045257  0.034228"
      ]
     },
     "execution_count": 81,
     "metadata": {},
     "output_type": "execute_result"
    }
   ],
   "source": [
    "metric_df = pd.DataFrame()\n",
    "metric_df['knn'] = knn_results['test_rmse']\n",
    "metric_df['svd'] = svd_results['test_rmse']\n",
    "\n",
    "tmp_dict1 = {'knn':metric_df['knn'].mean(),'svd':metric_df['svd'].mean()}\n",
    "tmp_dict2 = {'knn':metric_df['knn'].std(),'svd':metric_df['svd'].std()}\n",
    "\n",
    "metric_df = metric_df.append(tmp_dict1,ignore_index=True)\n",
    "metric_df = metric_df.append(tmp_dict2,ignore_index=True)\n",
    "metric_df.index = ['Fold 1','Fold 2','Fold 3','Fold 4','Fold 5','Mean','Std']\n",
    "metric_df"
   ]
  },
  {
   "cell_type": "code",
   "execution_count": 82,
   "id": "ce9f1e25",
   "metadata": {},
   "outputs": [],
   "source": [
    "# SVD shows to be a better model having lower RMSEs."
   ]
  },
  {
   "cell_type": "markdown",
   "id": "621bbfdf",
   "metadata": {},
   "source": [
    "# Top n predictions and the hit rate"
   ]
  },
  {
   "cell_type": "code",
   "execution_count": 83,
   "id": "6aef2bc2",
   "metadata": {},
   "outputs": [],
   "source": [
    "# We want to be able to generate the top N predictions using the two models and calculate hit rate.\n",
    "\n",
    "# After generating top n, if one recommendation they actually rated, you consider it a hit."
   ]
  },
  {
   "cell_type": "code",
   "execution_count": 84,
   "id": "29a9cd31",
   "metadata": {},
   "outputs": [],
   "source": [
    "from collections import defaultdict\n",
    "\n",
    "# accept list of predictions and n of top n\n",
    "#this is like our scoring algorithm for reco engines\n",
    "\n",
    "def get_top_n(predictions, n=10):\n",
    "\n",
    "    # First map the predictions to each user.\n",
    "    top_n = defaultdict(list)\n",
    "    for uid, pid, true_r, est, _ in predictions:\n",
    "        # top_n = is a dictionary to map rating to a userid as key\n",
    "        # est = predicted rating\n",
    "        # pid = product id\n",
    "        # uid = user id\n",
    "        top_n[uid].append((pid, est))\n",
    "        \n",
    "     # Then sort the predictions for each user and retrieve the k highest ones.\n",
    "    for uid, user_ratings in top_n.items():\n",
    "        \n",
    "        # x[1] refers to the est score, which means sort highest to lowest using the rating per user\n",
    "        user_ratings.sort(key=lambda x: x[1], reverse=True)\n",
    "        top_n[uid] = user_ratings[:n]\n",
    "\n",
    "    return top_n"
   ]
  },
  {
   "cell_type": "code",
   "execution_count": 85,
   "id": "36a44c5c",
   "metadata": {},
   "outputs": [],
   "source": [
    "from sklearn.model_selection import LeaveOneOut"
   ]
  },
  {
   "cell_type": "code",
   "execution_count": 86,
   "id": "e0f28991",
   "metadata": {},
   "outputs": [],
   "source": [
    "from surprise import Reader, Dataset, KNNBasic, SVD\n",
    "from surprise.model_selection import LeaveOneOut"
   ]
  },
  {
   "cell_type": "code",
   "execution_count": 87,
   "id": "668e15ba",
   "metadata": {},
   "outputs": [
    {
     "name": "stdout",
     "output_type": "stream",
     "text": [
      "Computing the msd similarity matrix...\n",
      "Done computing similarity matrix.\n"
     ]
    }
   ],
   "source": [
    "# Let's rebuild our models\n",
    "# A reader is still needed but only the rating_scale param is required.\n",
    "# this indicates our rating is 1 to 5 only\n",
    "\n",
    "reader = Reader(rating_scale=(1, 5))\n",
    "\n",
    "# The columns must correspond to user id, item id and ratings (in that order).\n",
    "data = Dataset.load_from_df(filtered_active_users_df[['user_id', 'product_id', 'rating']], reader)\n",
    "\n",
    "#Build a \"leave one out\" train/test split for evaluating top-N recommenders\n",
    "LOOCV = LeaveOneOut(n_splits=1, random_state=1)\n",
    "for train, test in LOOCV.split(data):\n",
    "    LOOCVTrain = train\n",
    "    LOOCVTest = test\n",
    "\n",
    "#Save leave one out test predictions\n",
    "leftoutpredictions = LOOCVTest\n",
    "\n",
    "\n",
    "#And build an anti-test-set for building predictions\n",
    "LOOCVAntiTestSet = LOOCVTrain.build_anti_testset()\n",
    "\n",
    "\n",
    "# generate two models\n",
    "knn = KNNBasic()\n",
    "svd = SVD()\n",
    "\n",
    "# fit using generated training set from data\n",
    "knn.fit(LOOCVTrain)\n",
    "svd.fit(LOOCVTrain)\n",
    "\n",
    "# Then predict ratings for all pairs (u, i) that are NOT in the training set (from data)\n",
    "#testset = trainset.build_anti_testset()\n",
    "\n",
    "# generate predictions\n",
    "knn_predictions = knn.test(LOOCVAntiTestSet)\n",
    "svd_predictions = svd.test(LOOCVAntiTestSet)"
   ]
  },
  {
   "cell_type": "code",
   "execution_count": 88,
   "id": "30bfb584",
   "metadata": {},
   "outputs": [],
   "source": [
    "#svd_predictions"
   ]
  },
  {
   "cell_type": "code",
   "execution_count": 89,
   "id": "a2940fdf",
   "metadata": {},
   "outputs": [
    {
     "name": "stdout",
     "output_type": "stream",
     "text": [
      "\n",
      "top n recommendations for knn\n",
      "A5JLAU2ARJ0BO ['B00000J3Q1', 'B00000JHVP', 'B000022UHF', 'B00003006F', 'B00003006L', 'B00003006X', 'B00003006Y', 'B0000300CS', 'B00003GPVF', 'B00004RC2D']\n",
      "ALUNVOQRXOZIA ['B00003006R', 'B00004S9AK', 'B00004TS16', 'B00004Z5L8', 'B00004Z5M1', 'B000056SRE', 'B00005853Z', 'B00005LEN4', 'B00005LENO', 'B00005NKXS']\n",
      "A1VQHH85U7PX0 ['B00003006R', 'B00004S9AK', 'B00004TS16', 'B00004Z5L8', 'B00004Z5M1', 'B000056SRE', 'B00005853Z', 'B00005NKXS', 'B00005O0LH', 'B00005OP2T']\n",
      "A2AEZQ3DGBBLPR ['B00003006R', 'B00004S9AK', 'B00004TS16', 'B00004Z5L8', 'B00004Z5M1', 'B000056SRE', 'B00005853Z', 'B00005LEN4', 'B00005LENO', 'B00005NKXS']\n",
      "A2R6RA8FRBS608 ['B00003006R', 'B00004S9AK', 'B00004TS16', 'B00004Z5L8', 'B000056SRE', 'B00005853Z', 'B00005LEN4', 'B00005LENO', 'B00005NKXS', 'B00005O0LH']\n",
      "A680RUE1FDO8B ['B00003006R', 'B00004Z5L8', 'B00004Z5M1', 'B000056SRE', 'B00005853Z', 'B00005LENO', 'B00005NKXS', 'B00005O0LH', 'B00005OP2T', 'B00005Q7DH']\n",
      "A11D1KHM7DVOQK ['B00003006R', 'B00004S9AK', 'B00004TS16', 'B00004Z5L8', 'B00004Z5M1', 'B000056SRE', 'B00005853Z', 'B00005LEN4', 'B00005LENO', 'B00005NKXS']\n",
      "A3NCIN6TNL0MGA ['B00004SB92', 'B0007QKMQY', 'B000BKJZ9Q', 'B000BQ57BU', 'B000EEQ83K', 'B00004RC2D', 'B0001DBEM4', 'B00008OE46', 'B00009R6GE', 'B00067LYFW']\n",
      "A6FIAB28IS79 ['B00003006R', 'B00004S9AK', 'B00004TS16', 'B00004Z5L8', 'B00004Z5M1', 'B000056SRE', 'B00005853Z', 'B00005LENO', 'B00005NKXS', 'B00005O0LH']\n",
      "A1RPTVW5VEOSI ['B00003006R', 'B00004S9AK', 'B00004TS16', 'B00004Z5L8', 'B00004Z5M1', 'B000056SRE', 'B00005853Z', 'B00005LEN4', 'B00005LENO', 'B00005NKXS']\n",
      "A7Y6AVS576M03 ['B00003006R', 'B00004S9AK', 'B00004TS16', 'B00004Z5L8', 'B00004Z5M1', 'B000056SRE', 'B00005853Z', 'B00005LEN4', 'B00005LENO', 'B00005NKXS']\n",
      "AWPODHOB4GFWL ['B00003006R', 'B00004S9AK', 'B00004TS16', 'B00004Z5L8', 'B00004Z5M1', 'B000056SRE', 'B00005853Z', 'B00005LEN4', 'B00005LENO', 'B00005NKXS']\n",
      "AKT8TGIT6VVZ5 ['B00003006R', 'B00004S9AK', 'B00004TS16', 'B00004Z5L8', 'B00004Z5M1', 'B000056SRE', 'B00005853Z', 'B00005NKXS', 'B00005O0LH', 'B00005OP2T']\n",
      "A231WM2Z2JL0U3 ['B00003006R', 'B00004Z5L8', 'B00004Z5M1', 'B000056SRE', 'B00005853Z', 'B00005LENO', 'B00005NKXS', 'B00005O0LH', 'B00005OP2T', 'B00005Q7DH']\n",
      "A2B7BUH8834Y6M ['B00003006R', 'B00004S9AK', 'B00004TS16', 'B00004Z5L8', 'B00004Z5M1', 'B000056SRE', 'B00005853Z', 'B00005LENO', 'B00005NKXS', 'B00005O0LH']\n",
      "A38QEATH3NODFM ['B00003006R', 'B00004S9AK', 'B00004TS16', 'B00004Z5L8', 'B00004Z5M1', 'B000056SRE', 'B00005853Z', 'B00005LEN4', 'B00005LENO', 'B00005NKXS']\n",
      "A1MJMYLRTZ76ZX ['B00003006R', 'B00004S9AK', 'B00004TS16', 'B00004Z5L8', 'B00004Z5M1', 'B000056SRE', 'B00005853Z', 'B00005LENO', 'B00005NKXS', 'B00005O0LH']\n",
      "AT2J7H5TRZM8Z ['B00003006R', 'B00004S9AK', 'B00004TS16', 'B00004Z5L8', 'B00004Z5M1', 'B000056SRE', 'B00005853Z', 'B00005LEN4', 'B00005LENO', 'B00005NKXS']\n",
      "A149RNR5RH19YY ['B00003006R', 'B00004S9AK', 'B00004TS16', 'B00004Z5L8', 'B00004Z5M1', 'B000056SRE', 'B00005853Z', 'B00005LEN4', 'B00005LENO', 'B00005NKXS']\n",
      "A1F9Z42CFF9IAY ['B00003006R', 'B00004Z5L8', 'B00004Z5M1', 'B000056SRE', 'B00005853Z', 'B00005LENO', 'B00005NKXS', 'B00005O0LH', 'B00005OP2T', 'B00005Q7DH']\n",
      "A1435P5AMCPB3X ['B00003006R', 'B00004S9AK', 'B00004TS16', 'B00004Z5L8', 'B00004Z5M1', 'B000056SRE', 'B00005853Z', 'B00005LEN4', 'B00005LENO', 'B00005NKXS']\n",
      "A3OXHLG6DIBRW8 ['B00003006R', 'B00004S9AK', 'B00004TS16', 'B00004Z5L8', 'B000056SRE', 'B00005853Z', 'B00005LEN4', 'B00005NKXS', 'B00005O0LH', 'B00005OP2T']\n",
      "A12DLJESJKM1OQ ['B00003006R', 'B00004S9AK', 'B00004TS16', 'B00004Z5L8', 'B00004Z5M1', 'B000056SRE', 'B00005853Z', 'B00005LEN4', 'B00005LENO', 'B00005NKXS']\n",
      "A2CL818RN52NWN ['B00003006R', 'B00004S9AK', 'B00004TS16', 'B00004Z5L8', 'B00004Z5M1', 'B000056SRE', 'B00005853Z', 'B00005LEN4', 'B00005NKXS', 'B00005O0LH']\n",
      "A2BGZ52M908MJY ['B00003G1RG', 'B00004S9AK', 'B00004SB92', 'B00004TS16', 'B00004VX3T', 'B00005QFZG', 'B00006484F', 'B0000658CG', 'B000066E70', 'B00006B7HB']\n",
      "AGHZXQL9F94T9 ['B00003006R', 'B00004S9AK', 'B00004TS16', 'B00004Z5L8', 'B00004Z5M1', 'B000056SRE', 'B00005853Z', 'B00005LEN4', 'B00005LENO', 'B00005NKXS']\n",
      "A203OCQQ12MAVT ['B00003006R', 'B00004S9AK', 'B00004TS16', 'B00004Z5L8', 'B00004Z5M1', 'B000056SRE', 'B00005853Z', 'B00005LENO', 'B00005NKXS', 'B00005O0LH']\n",
      "AT6CZDCP4TRGA ['B00003006R', 'B00004S9AK', 'B00004TS16', 'B00004Z5L8', 'B00004Z5M1', 'B000056SRE', 'B00005853Z', 'B00005LEN4', 'B00005LENO', 'B00005NKXS']\n",
      "A1ODOGXEYECQQ8 ['B00003006R', 'B00004S9AK', 'B00004TS16', 'B00004Z5L8', 'B00004Z5M1', 'B000056SRE', 'B00005853Z', 'B00005LEN4', 'B00005LENO', 'B00005NKXS']\n",
      "A1JWSDDIH5Z7DV ['B00003006R', 'B00004S9AK', 'B00004TS16', 'B00004Z5L8', 'B00004Z5M1', 'B000056SRE', 'B00005853Z', 'B00005LEN4', 'B00005LENO', 'B00005NKXS']\n",
      "A25HBO5V8S8SEA ['B00003006R', 'B00004S9AK', 'B00004TS16', 'B00004Z5L8', 'B00004Z5M1', 'B000056SRE', 'B00005853Z', 'B00005NKXS', 'B00005O0LH', 'B00005OP2T']\n",
      "A1FR68QH6Z4YZM ['B00003006R', 'B00004S9AK', 'B00004TS16', 'B00004Z5L8', 'B00004Z5M1', 'B000056SRE', 'B00005853Z', 'B00005LENO', 'B00005NKXS', 'B00005O0LH']\n",
      "A15QYHQH80W30L ['B00003006R', 'B00004S9AK', 'B00004TS16', 'B00004Z5L8', 'B00004Z5M1', 'B000056SRE', 'B00005853Z', 'B00005LENO', 'B00005NKXS', 'B00005O0LH']\n",
      "A2AY4YUOX2N1BQ ['B00004Z5M1', 'B00006484F', 'B00007B6L5', 'B00008WFVI', 'B0007QKMQY', 'B000BKJZ9Q', 'B000BQ57BU', 'B000EEQ83K', 'B00004RC2D', 'B00004Y7TD']\n",
      "AGXV8E7XK9J6H ['B00003006R', 'B00004S9AK', 'B00004TS16', 'B00004Z5L8', 'B00004Z5M1', 'B000056SRE', 'B00005853Z', 'B00005LENO', 'B00005NKXS', 'B00005O0LH']\n",
      "A2XRMQA6PJ5ZJ8 ['B00003006R', 'B00004S9AK', 'B00004TS16', 'B00004Z5L8', 'B00004Z5M1', 'B000056SRE', 'B00005853Z', 'B00005NKXS', 'B00005O0LH', 'B00005OP2T']\n",
      "ABH9D1TEOJ56E ['B00003006R', 'B00004S9AK', 'B00004TS16', 'B00004Z5L8', 'B00004Z5M1', 'B000056SRE', 'B00005853Z', 'B00005LENO', 'B00005NKXS', 'B00005O0LH']\n",
      "\n",
      "top n recommendations for svd\n",
      "A5JLAU2ARJ0BO ['B00005LE77', 'B00074Z9OQ', 'B0001F1XNC', 'B00004XO1V', 'B000066R6S', 'B00005B8HU', 'B000068CNT', 'B00009R83T', 'B00009R6UU', 'B00005V8R8']\n",
      "ALUNVOQRXOZIA ['B0006HTPQ2', 'B000EO55TI', 'B00006J6RN', 'B0001G0FG2', 'B00006JHTQ', 'B000FLNS76', 'B0000658CH', 'B0007U00X0', 'B00009PUM7', 'B00000J3NG']\n",
      "A1VQHH85U7PX0 ['B00005YXZE', 'B000BQ7GW8', 'B00008I9K8', 'B00008RW87', 'B00004XRED', 'B00005UT2S', 'B000FHA7E2', 'B00009UTCD', 'B000BSJDZE', 'B00074Z9J6']\n",
      "A2AEZQ3DGBBLPR ['B00000JDKS', 'B00092RTXK', 'B00004TVQQ', 'B00008DD4W', 'B000204SWE', 'B0001FV36E', 'B00008ZLHG', 'B00015GYU4', 'B0002Y3M9K', 'B00006HCCK']\n",
      "A2R6RA8FRBS608 ['B0001DBEM4', 'B0002LEMWE', 'B0000300CS', 'B0002I5RHG', 'B00005QXWI', 'B0001A99MO', 'B000265GL0', 'B000FZ1X1K', 'B00005AT7Y', 'B00006ICIW']\n",
      "A680RUE1FDO8B ['B0002E50MC', 'B0002TA96Y', 'B00004TWM3', 'B00006JI6T', 'B00006HOGN', 'B000EDI3Y8', 'B00004U0FD', 'B0000520IA', 'B00006J6RN', 'B00006IJO4']\n",
      "A11D1KHM7DVOQK ['B0001JXAYS', 'B000EITTLE', 'B000I1ZWRC', 'B0000CD08M', 'B0007OV45O', 'B00004WGTA', 'B000069K98', 'B00080DSEM', 'B0001A99MO', 'B00022TNHM']\n",
      "A3NCIN6TNL0MGA ['B000083GMN', 'B0000CE3CE', 'B00009R9BH', 'B0000658BE', 'B00005A0R8', 'B000068PE8', 'B0002WRGW6', 'B00005QBUU', 'B00015GYU4', 'B000083CUA']\n",
      "A6FIAB28IS79 ['B00004Y7TC', 'B000071NY3', 'B00001ZWRV', 'B00005A0R4', 'B000AA2TE0', 'B000EA0EDO', 'B00008OE46', 'B00007DX3I', 'B000068PE8', 'B000CQVX5I']\n",
      "A1RPTVW5VEOSI ['B0000CD0B7', 'B00004R7OI', 'B00006HTE2', 'B0007QKMQY', 'B00004SP9T', 'B0000645C8', 'B00005MA9X', 'B00005137P', 'B00080DSEM', 'B00008OE5G']\n",
      "A7Y6AVS576M03 ['B000071NY3', 'B00008OE5G', 'B0007VRGW2', 'B000AYKUUQ', 'B00029HOCG', 'B0002WRGW6', 'B0007KQWD2', 'B000067S9Y', 'B000083GMN', 'B00008OE46']\n",
      "AWPODHOB4GFWL ['B000E6G9RI', 'B0000CH58M', 'B00004R8VC', 'B0000645C8', 'B0007QKMQY', 'B000067DKB', 'B00008OE5G', 'B00003006X', 'B00006BH7F', 'B00008BO73']\n",
      "AKT8TGIT6VVZ5 ['B00006LFI5', 'B00008I9K8', 'B0000A0AJH', 'B000233T80', 'B0002ZA7I8', 'B000022UHF', 'B00065AO0K', 'B00003GO0E', 'B000068CNT', 'B0000E1717']\n",
      "A231WM2Z2JL0U3 ['B0002ZPJZY', 'B0007N55MS', 'B00004TDWY', 'B00007M8GV', 'B0009K9FZW', 'B00005USA7', 'B00022TN9A', 'B000FVUZYA', 'B0002I5RHG', 'B000EVSLRO']\n",
      "A2B7BUH8834Y6M ['B0003NN83K', 'B00000JHVP', 'B000087LGD', 'B000EHCUIE', 'B00005LEN4', 'B00009VSG6', 'B0002J2TLC', 'B00004U1U1', 'B000EN62YG', 'B00004TYJG']\n",
      "A38QEATH3NODFM ['B0007QKMQY', 'B00008OE6I', 'B0007KQWF0', 'B00021O4UO', 'B00081A2UO', 'B00006HCCK', 'B0000A602S', 'B000AYGDWU', 'B00006I5ST', 'B00004XRED']\n",
      "A1MJMYLRTZ76ZX ['B0009U6YQK', 'B0007QKMQY', 'B0009PAYY8', 'B0000DF2QB', 'B00015GYU4', 'B00008OE6I', 'B0000UXH4Q', 'B000AEFVVE', 'B0002WRGW6', 'B0000E6ZBI']\n",
      "AT2J7H5TRZM8Z ['B0000CAPT8', 'B0002ICEM2', 'B000BY52NK', 'B000288I4U', 'B000095IMS', 'B0000CH58M', 'B00006LL99', 'B00006RVK4', 'B0000511WW', 'B000E6G9RI']\n",
      "A149RNR5RH19YY ['B00022UE8Y', 'B00007E35Z', 'B000DZDQ26', 'B000HGSL4E', 'B0001976UC', 'B00005O784', 'B00008OE46', 'B0009KVU8W', 'B00006HCHH', 'B0007KQWE6']\n",
      "A1F9Z42CFF9IAY ['B00004RC2D', 'B0007GIXQU', 'B000EP1IL6', 'B0002GV876', 'B0002X8U5M', 'B00004X084', 'B000GU4E1K', 'B00004TJ7O', 'B0002MSTW2', 'B0002ICEM2']\n",
      "A1435P5AMCPB3X ['B00009RTBX', 'B00006B9QE', 'B0000E1717', 'B000FYZQSW', 'B00006B815', 'B00009W5FF', 'B00005QXWI', 'B00006L43O', 'B0000C20T5', 'B000EM35N8']\n",
      "A3OXHLG6DIBRW8 ['B00003006Y', 'B00018WNS8', 'B000GU4E1K', 'B0000A0AJH', 'B00008OE46', 'B0000ULJWS', 'B0009FUFPG', 'B00005A0R8', 'B00006L9CT', 'B000ENQUDY']\n",
      "A12DLJESJKM1OQ ['B0000E1717', 'B0006IEV7E', 'B00005OQMO', 'B0002IQ1F8', 'B00004TS16', 'B0007QKMQY', 'B0000A0AJH', 'B0001G0FFS', 'B00008VF63', 'B000067VBM']\n",
      "A2CL818RN52NWN ['B00005QFZG', 'B000FYZQSW', 'B00005MNHK', 'B00004YB5Y', 'B000083K9F', 'B0006B088W', 'B00005ICE1', 'B0000AZW9E', 'B000F0DC32', 'B000204SWE']\n",
      "A2BGZ52M908MJY ['B0001IXUFS', 'B00009R83T', 'B000HVVO98', 'B0002IQ1I0', 'B00008I9K8', 'B00006HCCS', 'B00005ATXJ', 'B0000AQFZ9', 'B00011R2VS', 'B0007QKMQY']\n",
      "AGHZXQL9F94T9 ['B00006B85B', 'B00009W3DS', 'B0008GQQDG', 'B000EOSHGQ', 'B00008O35W', 'B00008IP5S', 'B00004YMBK', 'B00018XFCQ', 'B000067BEG', 'B00008OE43']\n",
      "A203OCQQ12MAVT ['B000086A17', 'B00005AWBJ', 'B0000E1717', 'B000083GMN', 'B00009V3CA', 'B00009UHG7', 'B000H4CLXS', 'B00021O4UO', 'B000BMP7IW', 'B0000A1VS1']\n",
      "AT6CZDCP4TRGA ['B0002IP2TY', 'B00006F2MW', 'B000E176PM', 'B0000UH6LQ', 'B000083GMN', 'B0001NMHD4', 'B00004VUMI', 'B00005LD4T', 'B00008IHQO', 'B00007H4LM']\n",
      "A1ODOGXEYECQQ8 ['B00005OQMO', 'B00009W3DS', 'B000BYGFYU', 'B0002VAQR4', 'B000FJ89UO', 'B00008OE6I', 'B00008OE5G', 'B000CKVOOY', 'B00004ZCON', 'B00004SCKA']\n",
      "A1JWSDDIH5Z7DV ['B00004S9AK', 'B00004TS16', 'B00004Z5M1', 'B000056SRE', 'B00005LEN4', 'B00005NKXS', 'B00005O0LH', 'B00005OP2T', 'B00005Q7DH', 'B00005T3RC']\n",
      "A25HBO5V8S8SEA ['B00003006R', 'B00003G1RG', 'B00004TS16', 'B00004Z5L8', 'B00004Z5M1', 'B00005853Z', 'B00005LEN4', 'B00005LENO', 'B00005OP2T', 'B00005Q7DH']\n",
      "A1FR68QH6Z4YZM ['B00004TS16', 'B000066E70', 'B0007P4G4Y', 'B0007QKMQY', 'B00004RC2D', 'B0001DBEM4', 'B0000AHO2T', 'B00009W3TY', 'B00009W5FF', 'B00009RTBX']\n",
      "A15QYHQH80W30L ['B0006HBBF0', 'B00067OF80', 'B000E6G9RI', 'B000ENQUDY', 'B000063CWQ', 'B00003006E', 'B000068PL7', 'B0002J2O26', 'B00009XVOF', 'B0007P4G58']\n",
      "A2AY4YUOX2N1BQ ['B000050ZTY', 'B000094Q77', 'B0000DIET2', 'B00007JDR0', 'B0000645V0', 'B00022TN9A', 'B0007LBON4', 'B0000E1717', 'B0002DGAO0', 'B000F1WDSG']\n",
      "AGXV8E7XK9J6H ['B000051SHL', 'B000066HUC', 'B000EOSHGQ', 'B00006J6RN', 'B00004SD85', 'B0001LD00A', 'B000087KY8', 'B0000501EJ', 'B0006FTKYG', 'B00081GX8O']\n",
      "A2XRMQA6PJ5ZJ8 ['B00008I9K8', 'B00004RC2D', 'B000086A17', 'B0000A602S', 'B0000DB4D1', 'B000AOYWVE', 'B00004U0FD', 'B0000UXH4Q', 'B0006B486K', 'B000089GN3']\n",
      "ABH9D1TEOJ56E ['B00006IIU3', 'B000051123', 'B00001P57V', 'B000063CWQ', 'B000EUJ1Q0', 'B0006HTPQ2', 'B000068NYF', 'B00008W2LR', 'B000050AQ7', 'B0000A0AJH']\n"
     ]
    }
   ],
   "source": [
    "# generate top ten recommendations based on users NOT in the training set\n",
    "knn_top_n = get_top_n(knn_predictions, n=10)\n",
    "svd_top_n = get_top_n(svd_predictions, n=10)\n",
    "\n",
    "# Print the recommended items for each user\n",
    "print(\"\")\n",
    "print(\"top n recommendations for knn\")\n",
    "for uid, user_ratings in knn_top_n.items():\n",
    "    print(uid, [pid for (pid, _) in user_ratings])\n",
    "\n",
    "print(\"\")\n",
    "print(\"top n recommendations for svd\")\n",
    "for uid, user_ratings in svd_top_n.items():\n",
    "    print(uid, [pid for (pid, _) in user_ratings])"
   ]
  },
  {
   "cell_type": "code",
   "execution_count": 90,
   "id": "4679558b",
   "metadata": {},
   "outputs": [],
   "source": [
    "# utility function to get the productID\n",
    "def get_product_from_id(idx):\n",
    "    return filtered_active_users_df[filtered_active_users_df['product_id']==idx]['product_id'].values[0]"
   ]
  },
  {
   "cell_type": "code",
   "execution_count": 91,
   "id": "e5a3489a",
   "metadata": {},
   "outputs": [
    {
     "name": "stdout",
     "output_type": "stream",
     "text": [
      "\n",
      "top n recommendations for knn\n",
      "A5JLAU2ARJ0BO ['B00000J3Q1', 'B00000JHVP', 'B000022UHF', 'B00003006F', 'B00003006L', 'B00003006X', 'B00003006Y', 'B0000300CS', 'B00003GPVF', 'B00004RC2D']\n",
      "ALUNVOQRXOZIA ['B00003006R', 'B00004S9AK', 'B00004TS16', 'B00004Z5L8', 'B00004Z5M1', 'B000056SRE', 'B00005853Z', 'B00005LEN4', 'B00005LENO', 'B00005NKXS']\n",
      "A1VQHH85U7PX0 ['B00003006R', 'B00004S9AK', 'B00004TS16', 'B00004Z5L8', 'B00004Z5M1', 'B000056SRE', 'B00005853Z', 'B00005NKXS', 'B00005O0LH', 'B00005OP2T']\n",
      "A2AEZQ3DGBBLPR ['B00003006R', 'B00004S9AK', 'B00004TS16', 'B00004Z5L8', 'B00004Z5M1', 'B000056SRE', 'B00005853Z', 'B00005LEN4', 'B00005LENO', 'B00005NKXS']\n",
      "A2R6RA8FRBS608 ['B00003006R', 'B00004S9AK', 'B00004TS16', 'B00004Z5L8', 'B000056SRE', 'B00005853Z', 'B00005LEN4', 'B00005LENO', 'B00005NKXS', 'B00005O0LH']\n",
      "A680RUE1FDO8B ['B00003006R', 'B00004Z5L8', 'B00004Z5M1', 'B000056SRE', 'B00005853Z', 'B00005LENO', 'B00005NKXS', 'B00005O0LH', 'B00005OP2T', 'B00005Q7DH']\n",
      "A11D1KHM7DVOQK ['B00003006R', 'B00004S9AK', 'B00004TS16', 'B00004Z5L8', 'B00004Z5M1', 'B000056SRE', 'B00005853Z', 'B00005LEN4', 'B00005LENO', 'B00005NKXS']\n",
      "A3NCIN6TNL0MGA ['B00004SB92', 'B0007QKMQY', 'B000BKJZ9Q', 'B000BQ57BU', 'B000EEQ83K', 'B00004RC2D', 'B0001DBEM4', 'B00008OE46', 'B00009R6GE', 'B00067LYFW']\n",
      "A6FIAB28IS79 ['B00003006R', 'B00004S9AK', 'B00004TS16', 'B00004Z5L8', 'B00004Z5M1', 'B000056SRE', 'B00005853Z', 'B00005LENO', 'B00005NKXS', 'B00005O0LH']\n",
      "A1RPTVW5VEOSI ['B00003006R', 'B00004S9AK', 'B00004TS16', 'B00004Z5L8', 'B00004Z5M1', 'B000056SRE', 'B00005853Z', 'B00005LEN4', 'B00005LENO', 'B00005NKXS']\n",
      "A7Y6AVS576M03 ['B00003006R', 'B00004S9AK', 'B00004TS16', 'B00004Z5L8', 'B00004Z5M1', 'B000056SRE', 'B00005853Z', 'B00005LEN4', 'B00005LENO', 'B00005NKXS']\n",
      "AWPODHOB4GFWL ['B00003006R', 'B00004S9AK', 'B00004TS16', 'B00004Z5L8', 'B00004Z5M1', 'B000056SRE', 'B00005853Z', 'B00005LEN4', 'B00005LENO', 'B00005NKXS']\n",
      "AKT8TGIT6VVZ5 ['B00003006R', 'B00004S9AK', 'B00004TS16', 'B00004Z5L8', 'B00004Z5M1', 'B000056SRE', 'B00005853Z', 'B00005NKXS', 'B00005O0LH', 'B00005OP2T']\n",
      "A231WM2Z2JL0U3 ['B00003006R', 'B00004Z5L8', 'B00004Z5M1', 'B000056SRE', 'B00005853Z', 'B00005LENO', 'B00005NKXS', 'B00005O0LH', 'B00005OP2T', 'B00005Q7DH']\n",
      "A2B7BUH8834Y6M ['B00003006R', 'B00004S9AK', 'B00004TS16', 'B00004Z5L8', 'B00004Z5M1', 'B000056SRE', 'B00005853Z', 'B00005LENO', 'B00005NKXS', 'B00005O0LH']\n",
      "A38QEATH3NODFM ['B00003006R', 'B00004S9AK', 'B00004TS16', 'B00004Z5L8', 'B00004Z5M1', 'B000056SRE', 'B00005853Z', 'B00005LEN4', 'B00005LENO', 'B00005NKXS']\n",
      "A1MJMYLRTZ76ZX ['B00003006R', 'B00004S9AK', 'B00004TS16', 'B00004Z5L8', 'B00004Z5M1', 'B000056SRE', 'B00005853Z', 'B00005LENO', 'B00005NKXS', 'B00005O0LH']\n",
      "AT2J7H5TRZM8Z ['B00003006R', 'B00004S9AK', 'B00004TS16', 'B00004Z5L8', 'B00004Z5M1', 'B000056SRE', 'B00005853Z', 'B00005LEN4', 'B00005LENO', 'B00005NKXS']\n",
      "A149RNR5RH19YY ['B00003006R', 'B00004S9AK', 'B00004TS16', 'B00004Z5L8', 'B00004Z5M1', 'B000056SRE', 'B00005853Z', 'B00005LEN4', 'B00005LENO', 'B00005NKXS']\n",
      "A1F9Z42CFF9IAY ['B00003006R', 'B00004Z5L8', 'B00004Z5M1', 'B000056SRE', 'B00005853Z', 'B00005LENO', 'B00005NKXS', 'B00005O0LH', 'B00005OP2T', 'B00005Q7DH']\n",
      "A1435P5AMCPB3X ['B00003006R', 'B00004S9AK', 'B00004TS16', 'B00004Z5L8', 'B00004Z5M1', 'B000056SRE', 'B00005853Z', 'B00005LEN4', 'B00005LENO', 'B00005NKXS']\n",
      "A3OXHLG6DIBRW8 ['B00003006R', 'B00004S9AK', 'B00004TS16', 'B00004Z5L8', 'B000056SRE', 'B00005853Z', 'B00005LEN4', 'B00005NKXS', 'B00005O0LH', 'B00005OP2T']\n",
      "A12DLJESJKM1OQ ['B00003006R', 'B00004S9AK', 'B00004TS16', 'B00004Z5L8', 'B00004Z5M1', 'B000056SRE', 'B00005853Z', 'B00005LEN4', 'B00005LENO', 'B00005NKXS']\n",
      "A2CL818RN52NWN ['B00003006R', 'B00004S9AK', 'B00004TS16', 'B00004Z5L8', 'B00004Z5M1', 'B000056SRE', 'B00005853Z', 'B00005LEN4', 'B00005NKXS', 'B00005O0LH']\n",
      "A2BGZ52M908MJY ['B00003G1RG', 'B00004S9AK', 'B00004SB92', 'B00004TS16', 'B00004VX3T', 'B00005QFZG', 'B00006484F', 'B0000658CG', 'B000066E70', 'B00006B7HB']\n",
      "AGHZXQL9F94T9 ['B00003006R', 'B00004S9AK', 'B00004TS16', 'B00004Z5L8', 'B00004Z5M1', 'B000056SRE', 'B00005853Z', 'B00005LEN4', 'B00005LENO', 'B00005NKXS']\n",
      "A203OCQQ12MAVT ['B00003006R', 'B00004S9AK', 'B00004TS16', 'B00004Z5L8', 'B00004Z5M1', 'B000056SRE', 'B00005853Z', 'B00005LENO', 'B00005NKXS', 'B00005O0LH']\n",
      "AT6CZDCP4TRGA ['B00003006R', 'B00004S9AK', 'B00004TS16', 'B00004Z5L8', 'B00004Z5M1', 'B000056SRE', 'B00005853Z', 'B00005LEN4', 'B00005LENO', 'B00005NKXS']\n",
      "A1ODOGXEYECQQ8 ['B00003006R', 'B00004S9AK', 'B00004TS16', 'B00004Z5L8', 'B00004Z5M1', 'B000056SRE', 'B00005853Z', 'B00005LEN4', 'B00005LENO', 'B00005NKXS']\n",
      "A1JWSDDIH5Z7DV ['B00003006R', 'B00004S9AK', 'B00004TS16', 'B00004Z5L8', 'B00004Z5M1', 'B000056SRE', 'B00005853Z', 'B00005LEN4', 'B00005LENO', 'B00005NKXS']\n",
      "A25HBO5V8S8SEA ['B00003006R', 'B00004S9AK', 'B00004TS16', 'B00004Z5L8', 'B00004Z5M1', 'B000056SRE', 'B00005853Z', 'B00005NKXS', 'B00005O0LH', 'B00005OP2T']\n",
      "A1FR68QH6Z4YZM ['B00003006R', 'B00004S9AK', 'B00004TS16', 'B00004Z5L8', 'B00004Z5M1', 'B000056SRE', 'B00005853Z', 'B00005LENO', 'B00005NKXS', 'B00005O0LH']\n",
      "A15QYHQH80W30L ['B00003006R', 'B00004S9AK', 'B00004TS16', 'B00004Z5L8', 'B00004Z5M1', 'B000056SRE', 'B00005853Z', 'B00005LENO', 'B00005NKXS', 'B00005O0LH']\n",
      "A2AY4YUOX2N1BQ ['B00004Z5M1', 'B00006484F', 'B00007B6L5', 'B00008WFVI', 'B0007QKMQY', 'B000BKJZ9Q', 'B000BQ57BU', 'B000EEQ83K', 'B00004RC2D', 'B00004Y7TD']\n",
      "AGXV8E7XK9J6H ['B00003006R', 'B00004S9AK', 'B00004TS16', 'B00004Z5L8', 'B00004Z5M1', 'B000056SRE', 'B00005853Z', 'B00005LENO', 'B00005NKXS', 'B00005O0LH']\n",
      "A2XRMQA6PJ5ZJ8 ['B00003006R', 'B00004S9AK', 'B00004TS16', 'B00004Z5L8', 'B00004Z5M1', 'B000056SRE', 'B00005853Z', 'B00005NKXS', 'B00005O0LH', 'B00005OP2T']\n",
      "ABH9D1TEOJ56E ['B00003006R', 'B00004S9AK', 'B00004TS16', 'B00004Z5L8', 'B00004Z5M1', 'B000056SRE', 'B00005853Z', 'B00005LENO', 'B00005NKXS', 'B00005O0LH']\n",
      "\n",
      "top n recommendations for svd\n",
      "A5JLAU2ARJ0BO ['B00005LE77', 'B00074Z9OQ', 'B0001F1XNC', 'B00004XO1V', 'B000066R6S', 'B00005B8HU', 'B000068CNT', 'B00009R83T', 'B00009R6UU', 'B00005V8R8']\n",
      "ALUNVOQRXOZIA ['B0006HTPQ2', 'B000EO55TI', 'B00006J6RN', 'B0001G0FG2', 'B00006JHTQ', 'B000FLNS76', 'B0000658CH', 'B0007U00X0', 'B00009PUM7', 'B00000J3NG']\n",
      "A1VQHH85U7PX0 ['B00005YXZE', 'B000BQ7GW8', 'B00008I9K8', 'B00008RW87', 'B00004XRED', 'B00005UT2S', 'B000FHA7E2', 'B00009UTCD', 'B000BSJDZE', 'B00074Z9J6']\n",
      "A2AEZQ3DGBBLPR ['B00000JDKS', 'B00092RTXK', 'B00004TVQQ', 'B00008DD4W', 'B000204SWE', 'B0001FV36E', 'B00008ZLHG', 'B00015GYU4', 'B0002Y3M9K', 'B00006HCCK']\n",
      "A2R6RA8FRBS608 ['B0001DBEM4', 'B0002LEMWE', 'B0000300CS', 'B0002I5RHG', 'B00005QXWI', 'B0001A99MO', 'B000265GL0', 'B000FZ1X1K', 'B00005AT7Y', 'B00006ICIW']\n",
      "A680RUE1FDO8B ['B0002E50MC', 'B0002TA96Y', 'B00004TWM3', 'B00006JI6T', 'B00006HOGN', 'B000EDI3Y8', 'B00004U0FD', 'B0000520IA', 'B00006J6RN', 'B00006IJO4']\n",
      "A11D1KHM7DVOQK ['B0001JXAYS', 'B000EITTLE', 'B000I1ZWRC', 'B0000CD08M', 'B0007OV45O', 'B00004WGTA', 'B000069K98', 'B00080DSEM', 'B0001A99MO', 'B00022TNHM']\n",
      "A3NCIN6TNL0MGA ['B000083GMN', 'B0000CE3CE', 'B00009R9BH', 'B0000658BE', 'B00005A0R8', 'B000068PE8', 'B0002WRGW6', 'B00005QBUU', 'B00015GYU4', 'B000083CUA']\n",
      "A6FIAB28IS79 ['B00004Y7TC', 'B000071NY3', 'B00001ZWRV', 'B00005A0R4', 'B000AA2TE0', 'B000EA0EDO', 'B00008OE46', 'B00007DX3I', 'B000068PE8', 'B000CQVX5I']\n",
      "A1RPTVW5VEOSI ['B0000CD0B7', 'B00004R7OI', 'B00006HTE2', 'B0007QKMQY', 'B00004SP9T', 'B0000645C8', 'B00005MA9X', 'B00005137P', 'B00080DSEM', 'B00008OE5G']\n",
      "A7Y6AVS576M03 ['B000071NY3', 'B00008OE5G', 'B0007VRGW2', 'B000AYKUUQ', 'B00029HOCG', 'B0002WRGW6', 'B0007KQWD2', 'B000067S9Y', 'B000083GMN', 'B00008OE46']\n",
      "AWPODHOB4GFWL ['B000E6G9RI', 'B0000CH58M', 'B00004R8VC', 'B0000645C8', 'B0007QKMQY', 'B000067DKB', 'B00008OE5G', 'B00003006X', 'B00006BH7F', 'B00008BO73']\n",
      "AKT8TGIT6VVZ5 ['B00006LFI5', 'B00008I9K8', 'B0000A0AJH', 'B000233T80', 'B0002ZA7I8', 'B000022UHF', 'B00065AO0K', 'B00003GO0E', 'B000068CNT', 'B0000E1717']\n",
      "A231WM2Z2JL0U3 ['B0002ZPJZY', 'B0007N55MS', 'B00004TDWY', 'B00007M8GV', 'B0009K9FZW', 'B00005USA7', 'B00022TN9A', 'B000FVUZYA', 'B0002I5RHG', 'B000EVSLRO']\n",
      "A2B7BUH8834Y6M ['B0003NN83K', 'B00000JHVP', 'B000087LGD', 'B000EHCUIE', 'B00005LEN4', 'B00009VSG6', 'B0002J2TLC', 'B00004U1U1', 'B000EN62YG', 'B00004TYJG']\n",
      "A38QEATH3NODFM ['B0007QKMQY', 'B00008OE6I', 'B0007KQWF0', 'B00021O4UO', 'B00081A2UO', 'B00006HCCK', 'B0000A602S', 'B000AYGDWU', 'B00006I5ST', 'B00004XRED']\n",
      "A1MJMYLRTZ76ZX ['B0009U6YQK', 'B0007QKMQY', 'B0009PAYY8', 'B0000DF2QB', 'B00015GYU4', 'B00008OE6I', 'B0000UXH4Q', 'B000AEFVVE', 'B0002WRGW6', 'B0000E6ZBI']\n",
      "AT2J7H5TRZM8Z ['B0000CAPT8', 'B0002ICEM2', 'B000BY52NK', 'B000288I4U', 'B000095IMS', 'B0000CH58M', 'B00006LL99', 'B00006RVK4', 'B0000511WW', 'B000E6G9RI']\n",
      "A149RNR5RH19YY ['B00022UE8Y', 'B00007E35Z', 'B000DZDQ26', 'B000HGSL4E', 'B0001976UC', 'B00005O784', 'B00008OE46', 'B0009KVU8W', 'B00006HCHH', 'B0007KQWE6']\n",
      "A1F9Z42CFF9IAY ['B00004RC2D', 'B0007GIXQU', 'B000EP1IL6', 'B0002GV876', 'B0002X8U5M', 'B00004X084', 'B000GU4E1K', 'B00004TJ7O', 'B0002MSTW2', 'B0002ICEM2']\n",
      "A1435P5AMCPB3X ['B00009RTBX', 'B00006B9QE', 'B0000E1717', 'B000FYZQSW', 'B00006B815', 'B00009W5FF', 'B00005QXWI', 'B00006L43O', 'B0000C20T5', 'B000EM35N8']\n",
      "A3OXHLG6DIBRW8 ['B00003006Y', 'B00018WNS8', 'B000GU4E1K', 'B0000A0AJH', 'B00008OE46', 'B0000ULJWS', 'B0009FUFPG', 'B00005A0R8', 'B00006L9CT', 'B000ENQUDY']\n",
      "A12DLJESJKM1OQ ['B0000E1717', 'B0006IEV7E', 'B00005OQMO', 'B0002IQ1F8', 'B00004TS16', 'B0007QKMQY', 'B0000A0AJH', 'B0001G0FFS', 'B00008VF63', 'B000067VBM']\n",
      "A2CL818RN52NWN ['B00005QFZG', 'B000FYZQSW', 'B00005MNHK', 'B00004YB5Y', 'B000083K9F', 'B0006B088W', 'B00005ICE1', 'B0000AZW9E', 'B000F0DC32', 'B000204SWE']\n"
     ]
    },
    {
     "name": "stdout",
     "output_type": "stream",
     "text": [
      "A2BGZ52M908MJY ['B0001IXUFS', 'B00009R83T', 'B000HVVO98', 'B0002IQ1I0', 'B00008I9K8', 'B00006HCCS', 'B00005ATXJ', 'B0000AQFZ9', 'B00011R2VS', 'B0007QKMQY']\n",
      "AGHZXQL9F94T9 ['B00006B85B', 'B00009W3DS', 'B0008GQQDG', 'B000EOSHGQ', 'B00008O35W', 'B00008IP5S', 'B00004YMBK', 'B00018XFCQ', 'B000067BEG', 'B00008OE43']\n",
      "A203OCQQ12MAVT ['B000086A17', 'B00005AWBJ', 'B0000E1717', 'B000083GMN', 'B00009V3CA', 'B00009UHG7', 'B000H4CLXS', 'B00021O4UO', 'B000BMP7IW', 'B0000A1VS1']\n",
      "AT6CZDCP4TRGA ['B0002IP2TY', 'B00006F2MW', 'B000E176PM', 'B0000UH6LQ', 'B000083GMN', 'B0001NMHD4', 'B00004VUMI', 'B00005LD4T', 'B00008IHQO', 'B00007H4LM']\n",
      "A1ODOGXEYECQQ8 ['B00005OQMO', 'B00009W3DS', 'B000BYGFYU', 'B0002VAQR4', 'B000FJ89UO', 'B00008OE6I', 'B00008OE5G', 'B000CKVOOY', 'B00004ZCON', 'B00004SCKA']\n",
      "A1JWSDDIH5Z7DV ['B00004S9AK', 'B00004TS16', 'B00004Z5M1', 'B000056SRE', 'B00005LEN4', 'B00005NKXS', 'B00005O0LH', 'B00005OP2T', 'B00005Q7DH', 'B00005T3RC']\n",
      "A25HBO5V8S8SEA ['B00003006R', 'B00003G1RG', 'B00004TS16', 'B00004Z5L8', 'B00004Z5M1', 'B00005853Z', 'B00005LEN4', 'B00005LENO', 'B00005OP2T', 'B00005Q7DH']\n",
      "A1FR68QH6Z4YZM ['B00004TS16', 'B000066E70', 'B0007P4G4Y', 'B0007QKMQY', 'B00004RC2D', 'B0001DBEM4', 'B0000AHO2T', 'B00009W3TY', 'B00009W5FF', 'B00009RTBX']\n",
      "A15QYHQH80W30L ['B0006HBBF0', 'B00067OF80', 'B000E6G9RI', 'B000ENQUDY', 'B000063CWQ', 'B00003006E', 'B000068PL7', 'B0002J2O26', 'B00009XVOF', 'B0007P4G58']\n",
      "A2AY4YUOX2N1BQ ['B000050ZTY', 'B000094Q77', 'B0000DIET2', 'B00007JDR0', 'B0000645V0', 'B00022TN9A', 'B0007LBON4', 'B0000E1717', 'B0002DGAO0', 'B000F1WDSG']\n",
      "AGXV8E7XK9J6H ['B000051SHL', 'B000066HUC', 'B000EOSHGQ', 'B00006J6RN', 'B00004SD85', 'B0001LD00A', 'B000087KY8', 'B0000501EJ', 'B0006FTKYG', 'B00081GX8O']\n",
      "A2XRMQA6PJ5ZJ8 ['B00008I9K8', 'B00004RC2D', 'B000086A17', 'B0000A602S', 'B0000DB4D1', 'B000AOYWVE', 'B00004U0FD', 'B0000UXH4Q', 'B0006B486K', 'B000089GN3']\n",
      "ABH9D1TEOJ56E ['B00006IIU3', 'B000051123', 'B00001P57V', 'B000063CWQ', 'B000EUJ1Q0', 'B0006HTPQ2', 'B000068NYF', 'B00008W2LR', 'B000050AQ7', 'B0000A0AJH']\n"
     ]
    }
   ],
   "source": [
    "# Print the recommended items for each user\n",
    "print(\"\")\n",
    "print(\"top n recommendations for knn\")\n",
    "for uid, user_ratings in knn_top_n.items():\n",
    "    print(uid, [get_product_from_id(pid) for (pid, _) in user_ratings])\n",
    "\n",
    "print(\"\")\n",
    "print(\"top n recommendations for svd\")   \n",
    "for uid, user_ratings in svd_top_n.items():\n",
    "    print(uid, [get_product_from_id(pid) for (pid, _) in user_ratings])"
   ]
  },
  {
   "cell_type": "code",
   "execution_count": 92,
   "id": "41334aef",
   "metadata": {},
   "outputs": [],
   "source": [
    "def hitrate(topNpredictions, leftoutpredictions, knn_top_n):\n",
    "    userHitRates = []  # create list of user hit rates\n",
    "\n",
    "    for leftout in leftoutpredictions:\n",
    "        uid = leftout[0]\n",
    "        leftoutproductid = leftout[1]\n",
    "\n",
    "        print(\"uid: \", uid)\n",
    "        print(\"bought: \", leftoutproductid)\n",
    "\n",
    "        predictedProduct_list = []\n",
    "        for predProduct_id, predrating in knn_top_n[uid]:\n",
    "            predictedProduct_list.append(predProduct_id)\n",
    "\n",
    "        print(predictedProduct_list)\n",
    "        \n",
    "        hits = len(set([leftoutproductid]).intersection(predictedProduct_list))\n",
    "        total = len(predictedProduct_list)\n",
    "        \n",
    "        # Handle division by zero\n",
    "        userHitRate = hits / total if total != 0 else 0\n",
    "        \n",
    "        userhitRate_dict = {\"uid\": uid, \"userhitrate\": userHitRate}\n",
    "        userHitRates.append(userhitRate_dict)\n",
    "\n",
    "    return pd.DataFrame(userHitRates)\n"
   ]
  },
  {
   "cell_type": "code",
   "execution_count": 93,
   "id": "7a793c3f",
   "metadata": {},
   "outputs": [
    {
     "data": {
      "text/plain": [
       "[]"
      ]
     },
     "execution_count": 93,
     "metadata": {},
     "output_type": "execute_result"
    }
   ],
   "source": [
    "knn_top_n[3]"
   ]
  },
  {
   "cell_type": "code",
   "execution_count": 94,
   "id": "eaa7634b",
   "metadata": {},
   "outputs": [],
   "source": [
    "#knn_top_n.items()"
   ]
  },
  {
   "cell_type": "code",
   "execution_count": 95,
   "id": "5c66ab55",
   "metadata": {},
   "outputs": [
    {
     "name": "stdout",
     "output_type": "stream",
     "text": [
      "Metric Comparison (RSME)\n"
     ]
    },
    {
     "data": {
      "text/html": [
       "<div>\n",
       "<style scoped>\n",
       "    .dataframe tbody tr th:only-of-type {\n",
       "        vertical-align: middle;\n",
       "    }\n",
       "\n",
       "    .dataframe tbody tr th {\n",
       "        vertical-align: top;\n",
       "    }\n",
       "\n",
       "    .dataframe thead th {\n",
       "        text-align: right;\n",
       "    }\n",
       "</style>\n",
       "<table border=\"1\" class=\"dataframe\">\n",
       "  <thead>\n",
       "    <tr style=\"text-align: right;\">\n",
       "      <th></th>\n",
       "      <th>knn</th>\n",
       "      <th>svd</th>\n",
       "    </tr>\n",
       "  </thead>\n",
       "  <tbody>\n",
       "    <tr>\n",
       "      <th>Fold 1</th>\n",
       "      <td>1.122608</td>\n",
       "      <td>1.043686</td>\n",
       "    </tr>\n",
       "    <tr>\n",
       "      <th>Fold 2</th>\n",
       "      <td>1.248479</td>\n",
       "      <td>1.087378</td>\n",
       "    </tr>\n",
       "    <tr>\n",
       "      <th>Fold 3</th>\n",
       "      <td>1.201552</td>\n",
       "      <td>1.048902</td>\n",
       "    </tr>\n",
       "    <tr>\n",
       "      <th>Fold 4</th>\n",
       "      <td>1.183277</td>\n",
       "      <td>1.089638</td>\n",
       "    </tr>\n",
       "    <tr>\n",
       "      <th>Fold 5</th>\n",
       "      <td>1.197416</td>\n",
       "      <td>1.007316</td>\n",
       "    </tr>\n",
       "    <tr>\n",
       "      <th>Mean</th>\n",
       "      <td>1.190666</td>\n",
       "      <td>1.055384</td>\n",
       "    </tr>\n",
       "    <tr>\n",
       "      <th>Std</th>\n",
       "      <td>0.045257</td>\n",
       "      <td>0.034228</td>\n",
       "    </tr>\n",
       "  </tbody>\n",
       "</table>\n",
       "</div>"
      ],
      "text/plain": [
       "             knn       svd\n",
       "Fold 1  1.122608  1.043686\n",
       "Fold 2  1.248479  1.087378\n",
       "Fold 3  1.201552  1.048902\n",
       "Fold 4  1.183277  1.089638\n",
       "Fold 5  1.197416  1.007316\n",
       "Mean    1.190666  1.055384\n",
       "Std     0.045257  0.034228"
      ]
     },
     "metadata": {},
     "output_type": "display_data"
    }
   ],
   "source": [
    "# Let's append this to our metric dataframe\n",
    "final_metric_df = metric_df\n",
    "final_metric_df.index = ['Fold 1','Fold 2','Fold 3','Fold 4','Fold 5','Mean','Std']\n",
    "print(\"Metric Comparison (RSME)\")\n",
    "display(final_metric_df)"
   ]
  },
  {
   "cell_type": "code",
   "execution_count": 96,
   "id": "008ab819",
   "metadata": {},
   "outputs": [
    {
     "name": "stdout",
     "output_type": "stream",
     "text": [
      "SVD hitrate metrics\n",
      "uid:  A5JLAU2ARJ0BO\n",
      "bought:  B0000638RV\n",
      "['B00000J3Q1', 'B00000JHVP', 'B000022UHF', 'B00003006F', 'B00003006L', 'B00003006X', 'B00003006Y', 'B0000300CS', 'B00003GPVF', 'B00004RC2D']\n",
      "uid:  ALUNVOQRXOZIA\n",
      "bought:  B00062FFHK\n",
      "['B00003006R', 'B00004S9AK', 'B00004TS16', 'B00004Z5L8', 'B00004Z5M1', 'B000056SRE', 'B00005853Z', 'B00005LEN4', 'B00005LENO', 'B00005NKXS']\n",
      "uid:  A1VQHH85U7PX0\n",
      "bought:  B00008VF63\n",
      "['B00003006R', 'B00004S9AK', 'B00004TS16', 'B00004Z5L8', 'B00004Z5M1', 'B000056SRE', 'B00005853Z', 'B00005NKXS', 'B00005O0LH', 'B00005OP2T']\n",
      "uid:  A2AEZQ3DGBBLPR\n",
      "bought:  B0001AP8CE\n",
      "['B00003006R', 'B00004S9AK', 'B00004TS16', 'B00004Z5L8', 'B00004Z5M1', 'B000056SRE', 'B00005853Z', 'B00005LEN4', 'B00005LENO', 'B00005NKXS']\n",
      "uid:  A2R6RA8FRBS608\n",
      "bought:  B00004TWVY\n",
      "['B00003006R', 'B00004S9AK', 'B00004TS16', 'B00004Z5L8', 'B000056SRE', 'B00005853Z', 'B00005LEN4', 'B00005LENO', 'B00005NKXS', 'B00005O0LH']\n",
      "uid:  A680RUE1FDO8B\n",
      "bought:  B000I68LQG\n",
      "['B00003006R', 'B00004Z5L8', 'B00004Z5M1', 'B000056SRE', 'B00005853Z', 'B00005LENO', 'B00005NKXS', 'B00005O0LH', 'B00005OP2T', 'B00005Q7DH']\n",
      "uid:  A11D1KHM7DVOQK\n",
      "bought:  B00001P3XM\n",
      "['B00003006R', 'B00004S9AK', 'B00004TS16', 'B00004Z5L8', 'B00004Z5M1', 'B000056SRE', 'B00005853Z', 'B00005LEN4', 'B00005LENO', 'B00005NKXS']\n",
      "uid:  A3NCIN6TNL0MGA\n",
      "bought:  B00009MDBZ\n",
      "['B00004SB92', 'B0007QKMQY', 'B000BKJZ9Q', 'B000BQ57BU', 'B000EEQ83K', 'B00004RC2D', 'B0001DBEM4', 'B00008OE46', 'B00009R6GE', 'B00067LYFW']\n",
      "uid:  A6FIAB28IS79\n",
      "bought:  B000I20BBI\n",
      "['B00003006R', 'B00004S9AK', 'B00004TS16', 'B00004Z5L8', 'B00004Z5M1', 'B000056SRE', 'B00005853Z', 'B00005LENO', 'B00005NKXS', 'B00005O0LH']\n",
      "uid:  A1RPTVW5VEOSI\n",
      "bought:  B00000JBIA\n",
      "['B00003006R', 'B00004S9AK', 'B00004TS16', 'B00004Z5L8', 'B00004Z5M1', 'B000056SRE', 'B00005853Z', 'B00005LEN4', 'B00005LENO', 'B00005NKXS']\n",
      "uid:  A7Y6AVS576M03\n",
      "bought:  B0000206DP\n",
      "['B00003006R', 'B00004S9AK', 'B00004TS16', 'B00004Z5L8', 'B00004Z5M1', 'B000056SRE', 'B00005853Z', 'B00005LEN4', 'B00005LENO', 'B00005NKXS']\n",
      "uid:  AWPODHOB4GFWL\n",
      "bought:  B0000DCW2V\n",
      "['B00003006R', 'B00004S9AK', 'B00004TS16', 'B00004Z5L8', 'B00004Z5M1', 'B000056SRE', 'B00005853Z', 'B00005LEN4', 'B00005LENO', 'B00005NKXS']\n",
      "uid:  AKT8TGIT6VVZ5\n",
      "bought:  B00009XV7G\n",
      "['B00003006R', 'B00004S9AK', 'B00004TS16', 'B00004Z5L8', 'B00004Z5M1', 'B000056SRE', 'B00005853Z', 'B00005NKXS', 'B00005O0LH', 'B00005OP2T']\n",
      "uid:  A231WM2Z2JL0U3\n",
      "bought:  B00004RC2D\n",
      "['B00003006R', 'B00004Z5L8', 'B00004Z5M1', 'B000056SRE', 'B00005853Z', 'B00005LENO', 'B00005NKXS', 'B00005O0LH', 'B00005OP2T', 'B00005Q7DH']\n",
      "uid:  A2B7BUH8834Y6M\n",
      "bought:  B000GAUZFO\n",
      "['B00003006R', 'B00004S9AK', 'B00004TS16', 'B00004Z5L8', 'B00004Z5M1', 'B000056SRE', 'B00005853Z', 'B00005LENO', 'B00005NKXS', 'B00005O0LH']\n",
      "uid:  A38QEATH3NODFM\n",
      "bought:  B00009QSET\n",
      "['B00003006R', 'B00004S9AK', 'B00004TS16', 'B00004Z5L8', 'B00004Z5M1', 'B000056SRE', 'B00005853Z', 'B00005LEN4', 'B00005LENO', 'B00005NKXS']\n",
      "uid:  A1MJMYLRTZ76ZX\n",
      "bought:  B00004T0RC\n",
      "['B00003006R', 'B00004S9AK', 'B00004TS16', 'B00004Z5L8', 'B00004Z5M1', 'B000056SRE', 'B00005853Z', 'B00005LENO', 'B00005NKXS', 'B00005O0LH']\n",
      "uid:  AT2J7H5TRZM8Z\n",
      "bought:  B000068BRE\n",
      "['B00003006R', 'B00004S9AK', 'B00004TS16', 'B00004Z5L8', 'B00004Z5M1', 'B000056SRE', 'B00005853Z', 'B00005LEN4', 'B00005LENO', 'B00005NKXS']\n",
      "uid:  A149RNR5RH19YY\n",
      "bought:  B0000BZO6E\n",
      "['B00003006R', 'B00004S9AK', 'B00004TS16', 'B00004Z5L8', 'B00004Z5M1', 'B000056SRE', 'B00005853Z', 'B00005LEN4', 'B00005LENO', 'B00005NKXS']\n",
      "uid:  A1F9Z42CFF9IAY\n",
      "bought:  B00009RUCH\n",
      "['B00003006R', 'B00004Z5L8', 'B00004Z5M1', 'B000056SRE', 'B00005853Z', 'B00005LENO', 'B00005NKXS', 'B00005O0LH', 'B00005OP2T', 'B00005Q7DH']\n",
      "uid:  A1435P5AMCPB3X\n",
      "bought:  B000087KY8\n",
      "['B00003006R', 'B00004S9AK', 'B00004TS16', 'B00004Z5L8', 'B00004Z5M1', 'B000056SRE', 'B00005853Z', 'B00005LEN4', 'B00005LENO', 'B00005NKXS']\n",
      "uid:  A3OXHLG6DIBRW8\n",
      "bought:  B00076TGYI\n",
      "['B00003006R', 'B00004S9AK', 'B00004TS16', 'B00004Z5L8', 'B000056SRE', 'B00005853Z', 'B00005LEN4', 'B00005NKXS', 'B00005O0LH', 'B00005OP2T']\n",
      "uid:  A12DLJESJKM1OQ\n",
      "bought:  B00006FMPE\n",
      "['B00003006R', 'B00004S9AK', 'B00004TS16', 'B00004Z5L8', 'B00004Z5M1', 'B000056SRE', 'B00005853Z', 'B00005LEN4', 'B00005LENO', 'B00005NKXS']\n",
      "uid:  A2CL818RN52NWN\n",
      "bought:  B00068IKXK\n",
      "['B00003006R', 'B00004S9AK', 'B00004TS16', 'B00004Z5L8', 'B00004Z5M1', 'B000056SRE', 'B00005853Z', 'B00005LEN4', 'B00005NKXS', 'B00005O0LH']\n",
      "uid:  A2BGZ52M908MJY\n",
      "bought:  B00004TJ0G\n",
      "['B00003G1RG', 'B00004S9AK', 'B00004SB92', 'B00004TS16', 'B00004VX3T', 'B00005QFZG', 'B00006484F', 'B0000658CG', 'B000066E70', 'B00006B7HB']\n",
      "uid:  AGHZXQL9F94T9\n",
      "bought:  B0000630TO\n",
      "['B00003006R', 'B00004S9AK', 'B00004TS16', 'B00004Z5L8', 'B00004Z5M1', 'B000056SRE', 'B00005853Z', 'B00005LEN4', 'B00005LENO', 'B00005NKXS']\n",
      "uid:  A203OCQQ12MAVT\n",
      "bought:  B0008D76L0\n",
      "['B00003006R', 'B00004S9AK', 'B00004TS16', 'B00004Z5L8', 'B00004Z5M1', 'B000056SRE', 'B00005853Z', 'B00005LENO', 'B00005NKXS', 'B00005O0LH']\n",
      "uid:  AT6CZDCP4TRGA\n",
      "bought:  B0001WV08S\n",
      "['B00003006R', 'B00004S9AK', 'B00004TS16', 'B00004Z5L8', 'B00004Z5M1', 'B000056SRE', 'B00005853Z', 'B00005LEN4', 'B00005LENO', 'B00005NKXS']\n",
      "uid:  A1ODOGXEYECQQ8\n",
      "bought:  B0007M3PJY\n",
      "['B00003006R', 'B00004S9AK', 'B00004TS16', 'B00004Z5L8', 'B00004Z5M1', 'B000056SRE', 'B00005853Z', 'B00005LEN4', 'B00005LENO', 'B00005NKXS']\n",
      "uid:  A1JWSDDIH5Z7DV\n",
      "bought:  B0007OW51Q\n",
      "['B00003006R', 'B00004S9AK', 'B00004TS16', 'B00004Z5L8', 'B00004Z5M1', 'B000056SRE', 'B00005853Z', 'B00005LEN4', 'B00005LENO', 'B00005NKXS']\n",
      "uid:  A25HBO5V8S8SEA\n",
      "bought:  B00004TENT\n",
      "['B00003006R', 'B00004S9AK', 'B00004TS16', 'B00004Z5L8', 'B00004Z5M1', 'B000056SRE', 'B00005853Z', 'B00005NKXS', 'B00005O0LH', 'B00005OP2T']\n",
      "uid:  A1FR68QH6Z4YZM\n",
      "bought:  B00004TVEV\n",
      "['B00003006R', 'B00004S9AK', 'B00004TS16', 'B00004Z5L8', 'B00004Z5M1', 'B000056SRE', 'B00005853Z', 'B00005LENO', 'B00005NKXS', 'B00005O0LH']\n",
      "uid:  A15QYHQH80W30L\n",
      "bought:  B00009WQS1\n",
      "['B00003006R', 'B00004S9AK', 'B00004TS16', 'B00004Z5L8', 'B00004Z5M1', 'B000056SRE', 'B00005853Z', 'B00005LENO', 'B00005NKXS', 'B00005O0LH']\n",
      "uid:  A2AY4YUOX2N1BQ\n",
      "bought:  B00006RH5I\n",
      "['B00004Z5M1', 'B00006484F', 'B00007B6L5', 'B00008WFVI', 'B0007QKMQY', 'B000BKJZ9Q', 'B000BQ57BU', 'B000EEQ83K', 'B00004RC2D', 'B00004Y7TD']\n",
      "uid:  AGXV8E7XK9J6H\n",
      "bought:  B0000AKVHF\n",
      "['B00003006R', 'B00004S9AK', 'B00004TS16', 'B00004Z5L8', 'B00004Z5M1', 'B000056SRE', 'B00005853Z', 'B00005LENO', 'B00005NKXS', 'B00005O0LH']\n",
      "uid:  A2XRMQA6PJ5ZJ8\n",
      "bought:  B00009MDBQ\n",
      "['B00003006R', 'B00004S9AK', 'B00004TS16', 'B00004Z5L8', 'B00004Z5M1', 'B000056SRE', 'B00005853Z', 'B00005NKXS', 'B00005O0LH', 'B00005OP2T']\n",
      "uid:  ABH9D1TEOJ56E\n",
      "bought:  B0000BYODE\n",
      "['B00003006R', 'B00004S9AK', 'B00004TS16', 'B00004Z5L8', 'B00004Z5M1', 'B000056SRE', 'B00005853Z', 'B00005LENO', 'B00005NKXS', 'B00005O0LH']\n"
     ]
    },
    {
     "data": {
      "text/html": [
       "<div>\n",
       "<style scoped>\n",
       "    .dataframe tbody tr th:only-of-type {\n",
       "        vertical-align: middle;\n",
       "    }\n",
       "\n",
       "    .dataframe tbody tr th {\n",
       "        vertical-align: top;\n",
       "    }\n",
       "\n",
       "    .dataframe thead th {\n",
       "        text-align: right;\n",
       "    }\n",
       "</style>\n",
       "<table border=\"1\" class=\"dataframe\">\n",
       "  <thead>\n",
       "    <tr style=\"text-align: right;\">\n",
       "      <th></th>\n",
       "      <th>uid</th>\n",
       "      <th>userhitrate</th>\n",
       "    </tr>\n",
       "  </thead>\n",
       "  <tbody>\n",
       "    <tr>\n",
       "      <th>0</th>\n",
       "      <td>A5JLAU2ARJ0BO</td>\n",
       "      <td>0.0</td>\n",
       "    </tr>\n",
       "    <tr>\n",
       "      <th>1</th>\n",
       "      <td>ALUNVOQRXOZIA</td>\n",
       "      <td>0.0</td>\n",
       "    </tr>\n",
       "    <tr>\n",
       "      <th>2</th>\n",
       "      <td>A1VQHH85U7PX0</td>\n",
       "      <td>0.0</td>\n",
       "    </tr>\n",
       "    <tr>\n",
       "      <th>3</th>\n",
       "      <td>A2AEZQ3DGBBLPR</td>\n",
       "      <td>0.0</td>\n",
       "    </tr>\n",
       "    <tr>\n",
       "      <th>4</th>\n",
       "      <td>A2R6RA8FRBS608</td>\n",
       "      <td>0.0</td>\n",
       "    </tr>\n",
       "    <tr>\n",
       "      <th>5</th>\n",
       "      <td>A680RUE1FDO8B</td>\n",
       "      <td>0.0</td>\n",
       "    </tr>\n",
       "    <tr>\n",
       "      <th>6</th>\n",
       "      <td>A11D1KHM7DVOQK</td>\n",
       "      <td>0.0</td>\n",
       "    </tr>\n",
       "    <tr>\n",
       "      <th>7</th>\n",
       "      <td>A3NCIN6TNL0MGA</td>\n",
       "      <td>0.0</td>\n",
       "    </tr>\n",
       "    <tr>\n",
       "      <th>8</th>\n",
       "      <td>A6FIAB28IS79</td>\n",
       "      <td>0.0</td>\n",
       "    </tr>\n",
       "    <tr>\n",
       "      <th>9</th>\n",
       "      <td>A1RPTVW5VEOSI</td>\n",
       "      <td>0.0</td>\n",
       "    </tr>\n",
       "    <tr>\n",
       "      <th>10</th>\n",
       "      <td>A7Y6AVS576M03</td>\n",
       "      <td>0.0</td>\n",
       "    </tr>\n",
       "    <tr>\n",
       "      <th>11</th>\n",
       "      <td>AWPODHOB4GFWL</td>\n",
       "      <td>0.0</td>\n",
       "    </tr>\n",
       "    <tr>\n",
       "      <th>12</th>\n",
       "      <td>AKT8TGIT6VVZ5</td>\n",
       "      <td>0.0</td>\n",
       "    </tr>\n",
       "    <tr>\n",
       "      <th>13</th>\n",
       "      <td>A231WM2Z2JL0U3</td>\n",
       "      <td>0.0</td>\n",
       "    </tr>\n",
       "    <tr>\n",
       "      <th>14</th>\n",
       "      <td>A2B7BUH8834Y6M</td>\n",
       "      <td>0.0</td>\n",
       "    </tr>\n",
       "    <tr>\n",
       "      <th>15</th>\n",
       "      <td>A38QEATH3NODFM</td>\n",
       "      <td>0.0</td>\n",
       "    </tr>\n",
       "    <tr>\n",
       "      <th>16</th>\n",
       "      <td>A1MJMYLRTZ76ZX</td>\n",
       "      <td>0.0</td>\n",
       "    </tr>\n",
       "    <tr>\n",
       "      <th>17</th>\n",
       "      <td>AT2J7H5TRZM8Z</td>\n",
       "      <td>0.0</td>\n",
       "    </tr>\n",
       "    <tr>\n",
       "      <th>18</th>\n",
       "      <td>A149RNR5RH19YY</td>\n",
       "      <td>0.0</td>\n",
       "    </tr>\n",
       "    <tr>\n",
       "      <th>19</th>\n",
       "      <td>A1F9Z42CFF9IAY</td>\n",
       "      <td>0.0</td>\n",
       "    </tr>\n",
       "    <tr>\n",
       "      <th>20</th>\n",
       "      <td>A1435P5AMCPB3X</td>\n",
       "      <td>0.0</td>\n",
       "    </tr>\n",
       "    <tr>\n",
       "      <th>21</th>\n",
       "      <td>A3OXHLG6DIBRW8</td>\n",
       "      <td>0.0</td>\n",
       "    </tr>\n",
       "    <tr>\n",
       "      <th>22</th>\n",
       "      <td>A12DLJESJKM1OQ</td>\n",
       "      <td>0.0</td>\n",
       "    </tr>\n",
       "    <tr>\n",
       "      <th>23</th>\n",
       "      <td>A2CL818RN52NWN</td>\n",
       "      <td>0.0</td>\n",
       "    </tr>\n",
       "    <tr>\n",
       "      <th>24</th>\n",
       "      <td>A2BGZ52M908MJY</td>\n",
       "      <td>0.0</td>\n",
       "    </tr>\n",
       "    <tr>\n",
       "      <th>25</th>\n",
       "      <td>AGHZXQL9F94T9</td>\n",
       "      <td>0.0</td>\n",
       "    </tr>\n",
       "    <tr>\n",
       "      <th>26</th>\n",
       "      <td>A203OCQQ12MAVT</td>\n",
       "      <td>0.0</td>\n",
       "    </tr>\n",
       "    <tr>\n",
       "      <th>27</th>\n",
       "      <td>AT6CZDCP4TRGA</td>\n",
       "      <td>0.0</td>\n",
       "    </tr>\n",
       "    <tr>\n",
       "      <th>28</th>\n",
       "      <td>A1ODOGXEYECQQ8</td>\n",
       "      <td>0.0</td>\n",
       "    </tr>\n",
       "    <tr>\n",
       "      <th>29</th>\n",
       "      <td>A1JWSDDIH5Z7DV</td>\n",
       "      <td>0.0</td>\n",
       "    </tr>\n",
       "    <tr>\n",
       "      <th>30</th>\n",
       "      <td>A25HBO5V8S8SEA</td>\n",
       "      <td>0.0</td>\n",
       "    </tr>\n",
       "    <tr>\n",
       "      <th>31</th>\n",
       "      <td>A1FR68QH6Z4YZM</td>\n",
       "      <td>0.0</td>\n",
       "    </tr>\n",
       "    <tr>\n",
       "      <th>32</th>\n",
       "      <td>A15QYHQH80W30L</td>\n",
       "      <td>0.0</td>\n",
       "    </tr>\n",
       "    <tr>\n",
       "      <th>33</th>\n",
       "      <td>A2AY4YUOX2N1BQ</td>\n",
       "      <td>0.0</td>\n",
       "    </tr>\n",
       "    <tr>\n",
       "      <th>34</th>\n",
       "      <td>AGXV8E7XK9J6H</td>\n",
       "      <td>0.0</td>\n",
       "    </tr>\n",
       "    <tr>\n",
       "      <th>35</th>\n",
       "      <td>A2XRMQA6PJ5ZJ8</td>\n",
       "      <td>0.0</td>\n",
       "    </tr>\n",
       "    <tr>\n",
       "      <th>36</th>\n",
       "      <td>ABH9D1TEOJ56E</td>\n",
       "      <td>0.0</td>\n",
       "    </tr>\n",
       "  </tbody>\n",
       "</table>\n",
       "</div>"
      ],
      "text/plain": [
       "               uid  userhitrate\n",
       "0    A5JLAU2ARJ0BO          0.0\n",
       "1    ALUNVOQRXOZIA          0.0\n",
       "2    A1VQHH85U7PX0          0.0\n",
       "3   A2AEZQ3DGBBLPR          0.0\n",
       "4   A2R6RA8FRBS608          0.0\n",
       "5    A680RUE1FDO8B          0.0\n",
       "6   A11D1KHM7DVOQK          0.0\n",
       "7   A3NCIN6TNL0MGA          0.0\n",
       "8     A6FIAB28IS79          0.0\n",
       "9    A1RPTVW5VEOSI          0.0\n",
       "10   A7Y6AVS576M03          0.0\n",
       "11   AWPODHOB4GFWL          0.0\n",
       "12   AKT8TGIT6VVZ5          0.0\n",
       "13  A231WM2Z2JL0U3          0.0\n",
       "14  A2B7BUH8834Y6M          0.0\n",
       "15  A38QEATH3NODFM          0.0\n",
       "16  A1MJMYLRTZ76ZX          0.0\n",
       "17   AT2J7H5TRZM8Z          0.0\n",
       "18  A149RNR5RH19YY          0.0\n",
       "19  A1F9Z42CFF9IAY          0.0\n",
       "20  A1435P5AMCPB3X          0.0\n",
       "21  A3OXHLG6DIBRW8          0.0\n",
       "22  A12DLJESJKM1OQ          0.0\n",
       "23  A2CL818RN52NWN          0.0\n",
       "24  A2BGZ52M908MJY          0.0\n",
       "25   AGHZXQL9F94T9          0.0\n",
       "26  A203OCQQ12MAVT          0.0\n",
       "27   AT6CZDCP4TRGA          0.0\n",
       "28  A1ODOGXEYECQQ8          0.0\n",
       "29  A1JWSDDIH5Z7DV          0.0\n",
       "30  A25HBO5V8S8SEA          0.0\n",
       "31  A1FR68QH6Z4YZM          0.0\n",
       "32  A15QYHQH80W30L          0.0\n",
       "33  A2AY4YUOX2N1BQ          0.0\n",
       "34   AGXV8E7XK9J6H          0.0\n",
       "35  A2XRMQA6PJ5ZJ8          0.0\n",
       "36   ABH9D1TEOJ56E          0.0"
      ]
     },
     "execution_count": 96,
     "metadata": {},
     "output_type": "execute_result"
    }
   ],
   "source": [
    "print(\"SVD hitrate metrics\")\n",
    "hitrate(svd_top_n, leftoutpredictions, knn_top_n)"
   ]
  },
  {
   "cell_type": "code",
   "execution_count": 97,
   "id": "d323b357",
   "metadata": {},
   "outputs": [
    {
     "name": "stdout",
     "output_type": "stream",
     "text": [
      "KNN hitrate metrics\n",
      "uid:  A5JLAU2ARJ0BO\n",
      "bought:  B0000638RV\n",
      "['B00000J3Q1', 'B00000JHVP', 'B000022UHF', 'B00003006F', 'B00003006L', 'B00003006X', 'B00003006Y', 'B0000300CS', 'B00003GPVF', 'B00004RC2D']\n",
      "uid:  ALUNVOQRXOZIA\n",
      "bought:  B00062FFHK\n",
      "['B00003006R', 'B00004S9AK', 'B00004TS16', 'B00004Z5L8', 'B00004Z5M1', 'B000056SRE', 'B00005853Z', 'B00005LEN4', 'B00005LENO', 'B00005NKXS']\n",
      "uid:  A1VQHH85U7PX0\n",
      "bought:  B00008VF63\n",
      "['B00003006R', 'B00004S9AK', 'B00004TS16', 'B00004Z5L8', 'B00004Z5M1', 'B000056SRE', 'B00005853Z', 'B00005NKXS', 'B00005O0LH', 'B00005OP2T']\n",
      "uid:  A2AEZQ3DGBBLPR\n",
      "bought:  B0001AP8CE\n",
      "['B00003006R', 'B00004S9AK', 'B00004TS16', 'B00004Z5L8', 'B00004Z5M1', 'B000056SRE', 'B00005853Z', 'B00005LEN4', 'B00005LENO', 'B00005NKXS']\n",
      "uid:  A2R6RA8FRBS608\n",
      "bought:  B00004TWVY\n",
      "['B00003006R', 'B00004S9AK', 'B00004TS16', 'B00004Z5L8', 'B000056SRE', 'B00005853Z', 'B00005LEN4', 'B00005LENO', 'B00005NKXS', 'B00005O0LH']\n",
      "uid:  A680RUE1FDO8B\n",
      "bought:  B000I68LQG\n",
      "['B00003006R', 'B00004Z5L8', 'B00004Z5M1', 'B000056SRE', 'B00005853Z', 'B00005LENO', 'B00005NKXS', 'B00005O0LH', 'B00005OP2T', 'B00005Q7DH']\n",
      "uid:  A11D1KHM7DVOQK\n",
      "bought:  B00001P3XM\n",
      "['B00003006R', 'B00004S9AK', 'B00004TS16', 'B00004Z5L8', 'B00004Z5M1', 'B000056SRE', 'B00005853Z', 'B00005LEN4', 'B00005LENO', 'B00005NKXS']\n",
      "uid:  A3NCIN6TNL0MGA\n",
      "bought:  B00009MDBZ\n",
      "['B00004SB92', 'B0007QKMQY', 'B000BKJZ9Q', 'B000BQ57BU', 'B000EEQ83K', 'B00004RC2D', 'B0001DBEM4', 'B00008OE46', 'B00009R6GE', 'B00067LYFW']\n",
      "uid:  A6FIAB28IS79\n",
      "bought:  B000I20BBI\n",
      "['B00003006R', 'B00004S9AK', 'B00004TS16', 'B00004Z5L8', 'B00004Z5M1', 'B000056SRE', 'B00005853Z', 'B00005LENO', 'B00005NKXS', 'B00005O0LH']\n",
      "uid:  A1RPTVW5VEOSI\n",
      "bought:  B00000JBIA\n",
      "['B00003006R', 'B00004S9AK', 'B00004TS16', 'B00004Z5L8', 'B00004Z5M1', 'B000056SRE', 'B00005853Z', 'B00005LEN4', 'B00005LENO', 'B00005NKXS']\n",
      "uid:  A7Y6AVS576M03\n",
      "bought:  B0000206DP\n",
      "['B00003006R', 'B00004S9AK', 'B00004TS16', 'B00004Z5L8', 'B00004Z5M1', 'B000056SRE', 'B00005853Z', 'B00005LEN4', 'B00005LENO', 'B00005NKXS']\n",
      "uid:  AWPODHOB4GFWL\n",
      "bought:  B0000DCW2V\n",
      "['B00003006R', 'B00004S9AK', 'B00004TS16', 'B00004Z5L8', 'B00004Z5M1', 'B000056SRE', 'B00005853Z', 'B00005LEN4', 'B00005LENO', 'B00005NKXS']\n",
      "uid:  AKT8TGIT6VVZ5\n",
      "bought:  B00009XV7G\n",
      "['B00003006R', 'B00004S9AK', 'B00004TS16', 'B00004Z5L8', 'B00004Z5M1', 'B000056SRE', 'B00005853Z', 'B00005NKXS', 'B00005O0LH', 'B00005OP2T']\n",
      "uid:  A231WM2Z2JL0U3\n",
      "bought:  B00004RC2D\n",
      "['B00003006R', 'B00004Z5L8', 'B00004Z5M1', 'B000056SRE', 'B00005853Z', 'B00005LENO', 'B00005NKXS', 'B00005O0LH', 'B00005OP2T', 'B00005Q7DH']\n",
      "uid:  A2B7BUH8834Y6M\n",
      "bought:  B000GAUZFO\n",
      "['B00003006R', 'B00004S9AK', 'B00004TS16', 'B00004Z5L8', 'B00004Z5M1', 'B000056SRE', 'B00005853Z', 'B00005LENO', 'B00005NKXS', 'B00005O0LH']\n",
      "uid:  A38QEATH3NODFM\n",
      "bought:  B00009QSET\n",
      "['B00003006R', 'B00004S9AK', 'B00004TS16', 'B00004Z5L8', 'B00004Z5M1', 'B000056SRE', 'B00005853Z', 'B00005LEN4', 'B00005LENO', 'B00005NKXS']\n",
      "uid:  A1MJMYLRTZ76ZX\n",
      "bought:  B00004T0RC\n",
      "['B00003006R', 'B00004S9AK', 'B00004TS16', 'B00004Z5L8', 'B00004Z5M1', 'B000056SRE', 'B00005853Z', 'B00005LENO', 'B00005NKXS', 'B00005O0LH']\n",
      "uid:  AT2J7H5TRZM8Z\n",
      "bought:  B000068BRE\n",
      "['B00003006R', 'B00004S9AK', 'B00004TS16', 'B00004Z5L8', 'B00004Z5M1', 'B000056SRE', 'B00005853Z', 'B00005LEN4', 'B00005LENO', 'B00005NKXS']\n",
      "uid:  A149RNR5RH19YY\n",
      "bought:  B0000BZO6E\n",
      "['B00003006R', 'B00004S9AK', 'B00004TS16', 'B00004Z5L8', 'B00004Z5M1', 'B000056SRE', 'B00005853Z', 'B00005LEN4', 'B00005LENO', 'B00005NKXS']\n",
      "uid:  A1F9Z42CFF9IAY\n",
      "bought:  B00009RUCH\n",
      "['B00003006R', 'B00004Z5L8', 'B00004Z5M1', 'B000056SRE', 'B00005853Z', 'B00005LENO', 'B00005NKXS', 'B00005O0LH', 'B00005OP2T', 'B00005Q7DH']\n",
      "uid:  A1435P5AMCPB3X\n",
      "bought:  B000087KY8\n",
      "['B00003006R', 'B00004S9AK', 'B00004TS16', 'B00004Z5L8', 'B00004Z5M1', 'B000056SRE', 'B00005853Z', 'B00005LEN4', 'B00005LENO', 'B00005NKXS']\n",
      "uid:  A3OXHLG6DIBRW8\n",
      "bought:  B00076TGYI\n",
      "['B00003006R', 'B00004S9AK', 'B00004TS16', 'B00004Z5L8', 'B000056SRE', 'B00005853Z', 'B00005LEN4', 'B00005NKXS', 'B00005O0LH', 'B00005OP2T']\n",
      "uid:  A12DLJESJKM1OQ\n",
      "bought:  B00006FMPE\n",
      "['B00003006R', 'B00004S9AK', 'B00004TS16', 'B00004Z5L8', 'B00004Z5M1', 'B000056SRE', 'B00005853Z', 'B00005LEN4', 'B00005LENO', 'B00005NKXS']\n",
      "uid:  A2CL818RN52NWN\n",
      "bought:  B00068IKXK\n",
      "['B00003006R', 'B00004S9AK', 'B00004TS16', 'B00004Z5L8', 'B00004Z5M1', 'B000056SRE', 'B00005853Z', 'B00005LEN4', 'B00005NKXS', 'B00005O0LH']\n",
      "uid:  A2BGZ52M908MJY\n",
      "bought:  B00004TJ0G\n",
      "['B00003G1RG', 'B00004S9AK', 'B00004SB92', 'B00004TS16', 'B00004VX3T', 'B00005QFZG', 'B00006484F', 'B0000658CG', 'B000066E70', 'B00006B7HB']\n",
      "uid:  AGHZXQL9F94T9\n",
      "bought:  B0000630TO\n",
      "['B00003006R', 'B00004S9AK', 'B00004TS16', 'B00004Z5L8', 'B00004Z5M1', 'B000056SRE', 'B00005853Z', 'B00005LEN4', 'B00005LENO', 'B00005NKXS']\n",
      "uid:  A203OCQQ12MAVT\n",
      "bought:  B0008D76L0\n",
      "['B00003006R', 'B00004S9AK', 'B00004TS16', 'B00004Z5L8', 'B00004Z5M1', 'B000056SRE', 'B00005853Z', 'B00005LENO', 'B00005NKXS', 'B00005O0LH']\n",
      "uid:  AT6CZDCP4TRGA\n",
      "bought:  B0001WV08S\n",
      "['B00003006R', 'B00004S9AK', 'B00004TS16', 'B00004Z5L8', 'B00004Z5M1', 'B000056SRE', 'B00005853Z', 'B00005LEN4', 'B00005LENO', 'B00005NKXS']\n",
      "uid:  A1ODOGXEYECQQ8\n",
      "bought:  B0007M3PJY\n",
      "['B00003006R', 'B00004S9AK', 'B00004TS16', 'B00004Z5L8', 'B00004Z5M1', 'B000056SRE', 'B00005853Z', 'B00005LEN4', 'B00005LENO', 'B00005NKXS']\n",
      "uid:  A1JWSDDIH5Z7DV\n",
      "bought:  B0007OW51Q\n",
      "['B00003006R', 'B00004S9AK', 'B00004TS16', 'B00004Z5L8', 'B00004Z5M1', 'B000056SRE', 'B00005853Z', 'B00005LEN4', 'B00005LENO', 'B00005NKXS']\n",
      "uid:  A25HBO5V8S8SEA\n",
      "bought:  B00004TENT\n",
      "['B00003006R', 'B00004S9AK', 'B00004TS16', 'B00004Z5L8', 'B00004Z5M1', 'B000056SRE', 'B00005853Z', 'B00005NKXS', 'B00005O0LH', 'B00005OP2T']\n",
      "uid:  A1FR68QH6Z4YZM\n",
      "bought:  B00004TVEV\n",
      "['B00003006R', 'B00004S9AK', 'B00004TS16', 'B00004Z5L8', 'B00004Z5M1', 'B000056SRE', 'B00005853Z', 'B00005LENO', 'B00005NKXS', 'B00005O0LH']\n",
      "uid:  A15QYHQH80W30L\n",
      "bought:  B00009WQS1\n",
      "['B00003006R', 'B00004S9AK', 'B00004TS16', 'B00004Z5L8', 'B00004Z5M1', 'B000056SRE', 'B00005853Z', 'B00005LENO', 'B00005NKXS', 'B00005O0LH']\n",
      "uid:  A2AY4YUOX2N1BQ\n",
      "bought:  B00006RH5I\n",
      "['B00004Z5M1', 'B00006484F', 'B00007B6L5', 'B00008WFVI', 'B0007QKMQY', 'B000BKJZ9Q', 'B000BQ57BU', 'B000EEQ83K', 'B00004RC2D', 'B00004Y7TD']\n",
      "uid:  AGXV8E7XK9J6H\n",
      "bought:  B0000AKVHF\n",
      "['B00003006R', 'B00004S9AK', 'B00004TS16', 'B00004Z5L8', 'B00004Z5M1', 'B000056SRE', 'B00005853Z', 'B00005LENO', 'B00005NKXS', 'B00005O0LH']\n",
      "uid:  A2XRMQA6PJ5ZJ8\n",
      "bought:  B00009MDBQ\n",
      "['B00003006R', 'B00004S9AK', 'B00004TS16', 'B00004Z5L8', 'B00004Z5M1', 'B000056SRE', 'B00005853Z', 'B00005NKXS', 'B00005O0LH', 'B00005OP2T']\n",
      "uid:  ABH9D1TEOJ56E\n",
      "bought:  B0000BYODE\n",
      "['B00003006R', 'B00004S9AK', 'B00004TS16', 'B00004Z5L8', 'B00004Z5M1', 'B000056SRE', 'B00005853Z', 'B00005LENO', 'B00005NKXS', 'B00005O0LH']\n"
     ]
    },
    {
     "data": {
      "text/html": [
       "<div>\n",
       "<style scoped>\n",
       "    .dataframe tbody tr th:only-of-type {\n",
       "        vertical-align: middle;\n",
       "    }\n",
       "\n",
       "    .dataframe tbody tr th {\n",
       "        vertical-align: top;\n",
       "    }\n",
       "\n",
       "    .dataframe thead th {\n",
       "        text-align: right;\n",
       "    }\n",
       "</style>\n",
       "<table border=\"1\" class=\"dataframe\">\n",
       "  <thead>\n",
       "    <tr style=\"text-align: right;\">\n",
       "      <th></th>\n",
       "      <th>uid</th>\n",
       "      <th>userhitrate</th>\n",
       "    </tr>\n",
       "  </thead>\n",
       "  <tbody>\n",
       "    <tr>\n",
       "      <th>0</th>\n",
       "      <td>A5JLAU2ARJ0BO</td>\n",
       "      <td>0.0</td>\n",
       "    </tr>\n",
       "    <tr>\n",
       "      <th>1</th>\n",
       "      <td>ALUNVOQRXOZIA</td>\n",
       "      <td>0.0</td>\n",
       "    </tr>\n",
       "    <tr>\n",
       "      <th>2</th>\n",
       "      <td>A1VQHH85U7PX0</td>\n",
       "      <td>0.0</td>\n",
       "    </tr>\n",
       "    <tr>\n",
       "      <th>3</th>\n",
       "      <td>A2AEZQ3DGBBLPR</td>\n",
       "      <td>0.0</td>\n",
       "    </tr>\n",
       "    <tr>\n",
       "      <th>4</th>\n",
       "      <td>A2R6RA8FRBS608</td>\n",
       "      <td>0.0</td>\n",
       "    </tr>\n",
       "    <tr>\n",
       "      <th>5</th>\n",
       "      <td>A680RUE1FDO8B</td>\n",
       "      <td>0.0</td>\n",
       "    </tr>\n",
       "    <tr>\n",
       "      <th>6</th>\n",
       "      <td>A11D1KHM7DVOQK</td>\n",
       "      <td>0.0</td>\n",
       "    </tr>\n",
       "    <tr>\n",
       "      <th>7</th>\n",
       "      <td>A3NCIN6TNL0MGA</td>\n",
       "      <td>0.0</td>\n",
       "    </tr>\n",
       "    <tr>\n",
       "      <th>8</th>\n",
       "      <td>A6FIAB28IS79</td>\n",
       "      <td>0.0</td>\n",
       "    </tr>\n",
       "    <tr>\n",
       "      <th>9</th>\n",
       "      <td>A1RPTVW5VEOSI</td>\n",
       "      <td>0.0</td>\n",
       "    </tr>\n",
       "    <tr>\n",
       "      <th>10</th>\n",
       "      <td>A7Y6AVS576M03</td>\n",
       "      <td>0.0</td>\n",
       "    </tr>\n",
       "    <tr>\n",
       "      <th>11</th>\n",
       "      <td>AWPODHOB4GFWL</td>\n",
       "      <td>0.0</td>\n",
       "    </tr>\n",
       "    <tr>\n",
       "      <th>12</th>\n",
       "      <td>AKT8TGIT6VVZ5</td>\n",
       "      <td>0.0</td>\n",
       "    </tr>\n",
       "    <tr>\n",
       "      <th>13</th>\n",
       "      <td>A231WM2Z2JL0U3</td>\n",
       "      <td>0.0</td>\n",
       "    </tr>\n",
       "    <tr>\n",
       "      <th>14</th>\n",
       "      <td>A2B7BUH8834Y6M</td>\n",
       "      <td>0.0</td>\n",
       "    </tr>\n",
       "    <tr>\n",
       "      <th>15</th>\n",
       "      <td>A38QEATH3NODFM</td>\n",
       "      <td>0.0</td>\n",
       "    </tr>\n",
       "    <tr>\n",
       "      <th>16</th>\n",
       "      <td>A1MJMYLRTZ76ZX</td>\n",
       "      <td>0.0</td>\n",
       "    </tr>\n",
       "    <tr>\n",
       "      <th>17</th>\n",
       "      <td>AT2J7H5TRZM8Z</td>\n",
       "      <td>0.0</td>\n",
       "    </tr>\n",
       "    <tr>\n",
       "      <th>18</th>\n",
       "      <td>A149RNR5RH19YY</td>\n",
       "      <td>0.0</td>\n",
       "    </tr>\n",
       "    <tr>\n",
       "      <th>19</th>\n",
       "      <td>A1F9Z42CFF9IAY</td>\n",
       "      <td>0.0</td>\n",
       "    </tr>\n",
       "    <tr>\n",
       "      <th>20</th>\n",
       "      <td>A1435P5AMCPB3X</td>\n",
       "      <td>0.0</td>\n",
       "    </tr>\n",
       "    <tr>\n",
       "      <th>21</th>\n",
       "      <td>A3OXHLG6DIBRW8</td>\n",
       "      <td>0.0</td>\n",
       "    </tr>\n",
       "    <tr>\n",
       "      <th>22</th>\n",
       "      <td>A12DLJESJKM1OQ</td>\n",
       "      <td>0.0</td>\n",
       "    </tr>\n",
       "    <tr>\n",
       "      <th>23</th>\n",
       "      <td>A2CL818RN52NWN</td>\n",
       "      <td>0.0</td>\n",
       "    </tr>\n",
       "    <tr>\n",
       "      <th>24</th>\n",
       "      <td>A2BGZ52M908MJY</td>\n",
       "      <td>0.0</td>\n",
       "    </tr>\n",
       "    <tr>\n",
       "      <th>25</th>\n",
       "      <td>AGHZXQL9F94T9</td>\n",
       "      <td>0.0</td>\n",
       "    </tr>\n",
       "    <tr>\n",
       "      <th>26</th>\n",
       "      <td>A203OCQQ12MAVT</td>\n",
       "      <td>0.0</td>\n",
       "    </tr>\n",
       "    <tr>\n",
       "      <th>27</th>\n",
       "      <td>AT6CZDCP4TRGA</td>\n",
       "      <td>0.0</td>\n",
       "    </tr>\n",
       "    <tr>\n",
       "      <th>28</th>\n",
       "      <td>A1ODOGXEYECQQ8</td>\n",
       "      <td>0.0</td>\n",
       "    </tr>\n",
       "    <tr>\n",
       "      <th>29</th>\n",
       "      <td>A1JWSDDIH5Z7DV</td>\n",
       "      <td>0.0</td>\n",
       "    </tr>\n",
       "    <tr>\n",
       "      <th>30</th>\n",
       "      <td>A25HBO5V8S8SEA</td>\n",
       "      <td>0.0</td>\n",
       "    </tr>\n",
       "    <tr>\n",
       "      <th>31</th>\n",
       "      <td>A1FR68QH6Z4YZM</td>\n",
       "      <td>0.0</td>\n",
       "    </tr>\n",
       "    <tr>\n",
       "      <th>32</th>\n",
       "      <td>A15QYHQH80W30L</td>\n",
       "      <td>0.0</td>\n",
       "    </tr>\n",
       "    <tr>\n",
       "      <th>33</th>\n",
       "      <td>A2AY4YUOX2N1BQ</td>\n",
       "      <td>0.0</td>\n",
       "    </tr>\n",
       "    <tr>\n",
       "      <th>34</th>\n",
       "      <td>AGXV8E7XK9J6H</td>\n",
       "      <td>0.0</td>\n",
       "    </tr>\n",
       "    <tr>\n",
       "      <th>35</th>\n",
       "      <td>A2XRMQA6PJ5ZJ8</td>\n",
       "      <td>0.0</td>\n",
       "    </tr>\n",
       "    <tr>\n",
       "      <th>36</th>\n",
       "      <td>ABH9D1TEOJ56E</td>\n",
       "      <td>0.0</td>\n",
       "    </tr>\n",
       "  </tbody>\n",
       "</table>\n",
       "</div>"
      ],
      "text/plain": [
       "               uid  userhitrate\n",
       "0    A5JLAU2ARJ0BO          0.0\n",
       "1    ALUNVOQRXOZIA          0.0\n",
       "2    A1VQHH85U7PX0          0.0\n",
       "3   A2AEZQ3DGBBLPR          0.0\n",
       "4   A2R6RA8FRBS608          0.0\n",
       "5    A680RUE1FDO8B          0.0\n",
       "6   A11D1KHM7DVOQK          0.0\n",
       "7   A3NCIN6TNL0MGA          0.0\n",
       "8     A6FIAB28IS79          0.0\n",
       "9    A1RPTVW5VEOSI          0.0\n",
       "10   A7Y6AVS576M03          0.0\n",
       "11   AWPODHOB4GFWL          0.0\n",
       "12   AKT8TGIT6VVZ5          0.0\n",
       "13  A231WM2Z2JL0U3          0.0\n",
       "14  A2B7BUH8834Y6M          0.0\n",
       "15  A38QEATH3NODFM          0.0\n",
       "16  A1MJMYLRTZ76ZX          0.0\n",
       "17   AT2J7H5TRZM8Z          0.0\n",
       "18  A149RNR5RH19YY          0.0\n",
       "19  A1F9Z42CFF9IAY          0.0\n",
       "20  A1435P5AMCPB3X          0.0\n",
       "21  A3OXHLG6DIBRW8          0.0\n",
       "22  A12DLJESJKM1OQ          0.0\n",
       "23  A2CL818RN52NWN          0.0\n",
       "24  A2BGZ52M908MJY          0.0\n",
       "25   AGHZXQL9F94T9          0.0\n",
       "26  A203OCQQ12MAVT          0.0\n",
       "27   AT6CZDCP4TRGA          0.0\n",
       "28  A1ODOGXEYECQQ8          0.0\n",
       "29  A1JWSDDIH5Z7DV          0.0\n",
       "30  A25HBO5V8S8SEA          0.0\n",
       "31  A1FR68QH6Z4YZM          0.0\n",
       "32  A15QYHQH80W30L          0.0\n",
       "33  A2AY4YUOX2N1BQ          0.0\n",
       "34   AGXV8E7XK9J6H          0.0\n",
       "35  A2XRMQA6PJ5ZJ8          0.0\n",
       "36   ABH9D1TEOJ56E          0.0"
      ]
     },
     "execution_count": 97,
     "metadata": {},
     "output_type": "execute_result"
    }
   ],
   "source": [
    "print(\"KNN hitrate metrics\")\n",
    "hitrate(knn_top_n, leftoutpredictions, knn_top_n)"
   ]
  },
  {
   "cell_type": "code",
   "execution_count": null,
   "id": "4a7c46d8",
   "metadata": {},
   "outputs": [],
   "source": []
  }
 ],
 "metadata": {
  "kernelspec": {
   "display_name": "Python 3 (ipykernel)",
   "language": "python",
   "name": "python3"
  },
  "language_info": {
   "codemirror_mode": {
    "name": "ipython",
    "version": 3
   },
   "file_extension": ".py",
   "mimetype": "text/x-python",
   "name": "python",
   "nbconvert_exporter": "python",
   "pygments_lexer": "ipython3",
   "version": "3.9.12"
  }
 },
 "nbformat": 4,
 "nbformat_minor": 5
}
